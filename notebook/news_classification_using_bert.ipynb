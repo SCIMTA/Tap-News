{
  "nbformat": 4,
  "nbformat_minor": 0,
  "metadata": {
    "kernelspec": {
      "language": "python",
      "display_name": "Python 3",
      "name": "python3"
    },
    "language_info": {
      "pygments_lexer": "ipython3",
      "nbconvert_exporter": "python",
      "version": "3.6.4",
      "file_extension": ".py",
      "codemirror_mode": {
        "name": "ipython",
        "version": 3
      },
      "name": "python",
      "mimetype": "text/x-python"
    },
    "colab": {
      "name": "news-classification-using-bert.ipynb",
      "provenance": [],
      "collapsed_sections": [],
      "machine_shape": "hm",
      "toc_visible": true
    },
    "accelerator": "TPU",
    "widgets": {
      "application/vnd.jupyter.widget-state+json": {
        "09a089bcbfd64e4fb05d0eaac9518536": {
          "model_module": "@jupyter-widgets/controls",
          "model_name": "HBoxModel",
          "model_module_version": "1.5.0",
          "state": {
            "_view_name": "HBoxView",
            "_dom_classes": [],
            "_model_name": "HBoxModel",
            "_view_module": "@jupyter-widgets/controls",
            "_model_module_version": "1.5.0",
            "_view_count": null,
            "_view_module_version": "1.5.0",
            "box_style": "",
            "layout": "IPY_MODEL_ecbd400d70a3476b88714036f0056305",
            "_model_module": "@jupyter-widgets/controls",
            "children": [
              "IPY_MODEL_3b9800d6b90e4b16ab12e3d03e7dc818",
              "IPY_MODEL_cc9fe2570abc4ae681eb5b92e7419b88",
              "IPY_MODEL_8986161797f1417c912e1ab26bf3f863"
            ]
          }
        },
        "ecbd400d70a3476b88714036f0056305": {
          "model_module": "@jupyter-widgets/base",
          "model_name": "LayoutModel",
          "model_module_version": "1.2.0",
          "state": {
            "_view_name": "LayoutView",
            "grid_template_rows": null,
            "right": null,
            "justify_content": null,
            "_view_module": "@jupyter-widgets/base",
            "overflow": null,
            "_model_module_version": "1.2.0",
            "_view_count": null,
            "flex_flow": null,
            "width": null,
            "min_width": null,
            "border": null,
            "align_items": null,
            "bottom": null,
            "_model_module": "@jupyter-widgets/base",
            "top": null,
            "grid_column": null,
            "overflow_y": null,
            "overflow_x": null,
            "grid_auto_flow": null,
            "grid_area": null,
            "grid_template_columns": null,
            "flex": null,
            "_model_name": "LayoutModel",
            "justify_items": null,
            "grid_row": null,
            "max_height": null,
            "align_content": null,
            "visibility": null,
            "align_self": null,
            "height": null,
            "min_height": null,
            "padding": null,
            "grid_auto_rows": null,
            "grid_gap": null,
            "max_width": null,
            "order": null,
            "_view_module_version": "1.2.0",
            "grid_template_areas": null,
            "object_position": null,
            "object_fit": null,
            "grid_auto_columns": null,
            "margin": null,
            "display": null,
            "left": null
          }
        },
        "3b9800d6b90e4b16ab12e3d03e7dc818": {
          "model_module": "@jupyter-widgets/controls",
          "model_name": "HTMLModel",
          "model_module_version": "1.5.0",
          "state": {
            "_view_name": "HTMLView",
            "style": "IPY_MODEL_6402af434a3749aca899c5e4b5822449",
            "_dom_classes": [],
            "description": "",
            "_model_name": "HTMLModel",
            "placeholder": "​",
            "_view_module": "@jupyter-widgets/controls",
            "_model_module_version": "1.5.0",
            "value": "Downloading: 100%",
            "_view_count": null,
            "_view_module_version": "1.5.0",
            "description_tooltip": null,
            "_model_module": "@jupyter-widgets/controls",
            "layout": "IPY_MODEL_d256466efbd14206971997db1cc3cbbe"
          }
        },
        "cc9fe2570abc4ae681eb5b92e7419b88": {
          "model_module": "@jupyter-widgets/controls",
          "model_name": "FloatProgressModel",
          "model_module_version": "1.5.0",
          "state": {
            "_view_name": "ProgressView",
            "style": "IPY_MODEL_e21129a7a4aa465cb0bea299621dc217",
            "_dom_classes": [],
            "description": "",
            "_model_name": "FloatProgressModel",
            "bar_style": "success",
            "max": 740310212,
            "_view_module": "@jupyter-widgets/controls",
            "_model_module_version": "1.5.0",
            "value": 740310212,
            "_view_count": null,
            "_view_module_version": "1.5.0",
            "orientation": "horizontal",
            "min": 0,
            "description_tooltip": null,
            "_model_module": "@jupyter-widgets/controls",
            "layout": "IPY_MODEL_bc7eea27bf29498e8906c35ec6923c19"
          }
        },
        "8986161797f1417c912e1ab26bf3f863": {
          "model_module": "@jupyter-widgets/controls",
          "model_name": "HTMLModel",
          "model_module_version": "1.5.0",
          "state": {
            "_view_name": "HTMLView",
            "style": "IPY_MODEL_89cd91500a304152a7d6f17ac3c44aaa",
            "_dom_classes": [],
            "description": "",
            "_model_name": "HTMLModel",
            "placeholder": "​",
            "_view_module": "@jupyter-widgets/controls",
            "_model_module_version": "1.5.0",
            "value": " 706M/706M [00:56&lt;00:00, 11.0MB/s]",
            "_view_count": null,
            "_view_module_version": "1.5.0",
            "description_tooltip": null,
            "_model_module": "@jupyter-widgets/controls",
            "layout": "IPY_MODEL_a9e1206ec00e48369a29ca64f5733d30"
          }
        },
        "6402af434a3749aca899c5e4b5822449": {
          "model_module": "@jupyter-widgets/controls",
          "model_name": "DescriptionStyleModel",
          "model_module_version": "1.5.0",
          "state": {
            "_view_name": "StyleView",
            "_model_name": "DescriptionStyleModel",
            "description_width": "",
            "_view_module": "@jupyter-widgets/base",
            "_model_module_version": "1.5.0",
            "_view_count": null,
            "_view_module_version": "1.2.0",
            "_model_module": "@jupyter-widgets/controls"
          }
        },
        "d256466efbd14206971997db1cc3cbbe": {
          "model_module": "@jupyter-widgets/base",
          "model_name": "LayoutModel",
          "model_module_version": "1.2.0",
          "state": {
            "_view_name": "LayoutView",
            "grid_template_rows": null,
            "right": null,
            "justify_content": null,
            "_view_module": "@jupyter-widgets/base",
            "overflow": null,
            "_model_module_version": "1.2.0",
            "_view_count": null,
            "flex_flow": null,
            "width": null,
            "min_width": null,
            "border": null,
            "align_items": null,
            "bottom": null,
            "_model_module": "@jupyter-widgets/base",
            "top": null,
            "grid_column": null,
            "overflow_y": null,
            "overflow_x": null,
            "grid_auto_flow": null,
            "grid_area": null,
            "grid_template_columns": null,
            "flex": null,
            "_model_name": "LayoutModel",
            "justify_items": null,
            "grid_row": null,
            "max_height": null,
            "align_content": null,
            "visibility": null,
            "align_self": null,
            "height": null,
            "min_height": null,
            "padding": null,
            "grid_auto_rows": null,
            "grid_gap": null,
            "max_width": null,
            "order": null,
            "_view_module_version": "1.2.0",
            "grid_template_areas": null,
            "object_position": null,
            "object_fit": null,
            "grid_auto_columns": null,
            "margin": null,
            "display": null,
            "left": null
          }
        },
        "e21129a7a4aa465cb0bea299621dc217": {
          "model_module": "@jupyter-widgets/controls",
          "model_name": "ProgressStyleModel",
          "model_module_version": "1.5.0",
          "state": {
            "_view_name": "StyleView",
            "_model_name": "ProgressStyleModel",
            "description_width": "",
            "_view_module": "@jupyter-widgets/base",
            "_model_module_version": "1.5.0",
            "_view_count": null,
            "_view_module_version": "1.2.0",
            "bar_color": null,
            "_model_module": "@jupyter-widgets/controls"
          }
        },
        "bc7eea27bf29498e8906c35ec6923c19": {
          "model_module": "@jupyter-widgets/base",
          "model_name": "LayoutModel",
          "model_module_version": "1.2.0",
          "state": {
            "_view_name": "LayoutView",
            "grid_template_rows": null,
            "right": null,
            "justify_content": null,
            "_view_module": "@jupyter-widgets/base",
            "overflow": null,
            "_model_module_version": "1.2.0",
            "_view_count": null,
            "flex_flow": null,
            "width": null,
            "min_width": null,
            "border": null,
            "align_items": null,
            "bottom": null,
            "_model_module": "@jupyter-widgets/base",
            "top": null,
            "grid_column": null,
            "overflow_y": null,
            "overflow_x": null,
            "grid_auto_flow": null,
            "grid_area": null,
            "grid_template_columns": null,
            "flex": null,
            "_model_name": "LayoutModel",
            "justify_items": null,
            "grid_row": null,
            "max_height": null,
            "align_content": null,
            "visibility": null,
            "align_self": null,
            "height": null,
            "min_height": null,
            "padding": null,
            "grid_auto_rows": null,
            "grid_gap": null,
            "max_width": null,
            "order": null,
            "_view_module_version": "1.2.0",
            "grid_template_areas": null,
            "object_position": null,
            "object_fit": null,
            "grid_auto_columns": null,
            "margin": null,
            "display": null,
            "left": null
          }
        },
        "89cd91500a304152a7d6f17ac3c44aaa": {
          "model_module": "@jupyter-widgets/controls",
          "model_name": "DescriptionStyleModel",
          "model_module_version": "1.5.0",
          "state": {
            "_view_name": "StyleView",
            "_model_name": "DescriptionStyleModel",
            "description_width": "",
            "_view_module": "@jupyter-widgets/base",
            "_model_module_version": "1.5.0",
            "_view_count": null,
            "_view_module_version": "1.2.0",
            "_model_module": "@jupyter-widgets/controls"
          }
        },
        "a9e1206ec00e48369a29ca64f5733d30": {
          "model_module": "@jupyter-widgets/base",
          "model_name": "LayoutModel",
          "model_module_version": "1.2.0",
          "state": {
            "_view_name": "LayoutView",
            "grid_template_rows": null,
            "right": null,
            "justify_content": null,
            "_view_module": "@jupyter-widgets/base",
            "overflow": null,
            "_model_module_version": "1.2.0",
            "_view_count": null,
            "flex_flow": null,
            "width": null,
            "min_width": null,
            "border": null,
            "align_items": null,
            "bottom": null,
            "_model_module": "@jupyter-widgets/base",
            "top": null,
            "grid_column": null,
            "overflow_y": null,
            "overflow_x": null,
            "grid_auto_flow": null,
            "grid_area": null,
            "grid_template_columns": null,
            "flex": null,
            "_model_name": "LayoutModel",
            "justify_items": null,
            "grid_row": null,
            "max_height": null,
            "align_content": null,
            "visibility": null,
            "align_self": null,
            "height": null,
            "min_height": null,
            "padding": null,
            "grid_auto_rows": null,
            "grid_gap": null,
            "max_width": null,
            "order": null,
            "_view_module_version": "1.2.0",
            "grid_template_areas": null,
            "object_position": null,
            "object_fit": null,
            "grid_auto_columns": null,
            "margin": null,
            "display": null,
            "left": null
          }
        },
        "dde27bb60cdf4f43b5ddf9a081048bb5": {
          "model_module": "@jupyter-widgets/controls",
          "model_name": "HBoxModel",
          "model_module_version": "1.5.0",
          "state": {
            "_view_name": "HBoxView",
            "_dom_classes": [],
            "_model_name": "HBoxModel",
            "_view_module": "@jupyter-widgets/controls",
            "_model_module_version": "1.5.0",
            "_view_count": null,
            "_view_module_version": "1.5.0",
            "box_style": "",
            "layout": "IPY_MODEL_aec2bde992ea4e40ba8fd2511b3e39c1",
            "_model_module": "@jupyter-widgets/controls",
            "children": [
              "IPY_MODEL_0f134e7caa4a43d680c1f25c89a72d42",
              "IPY_MODEL_8b06970d131648a98824d76ce7755e7c",
              "IPY_MODEL_0094816d776149bcbea7fcf0cc7ceb4d"
            ]
          }
        },
        "aec2bde992ea4e40ba8fd2511b3e39c1": {
          "model_module": "@jupyter-widgets/base",
          "model_name": "LayoutModel",
          "model_module_version": "1.2.0",
          "state": {
            "_view_name": "LayoutView",
            "grid_template_rows": null,
            "right": null,
            "justify_content": null,
            "_view_module": "@jupyter-widgets/base",
            "overflow": null,
            "_model_module_version": "1.2.0",
            "_view_count": null,
            "flex_flow": null,
            "width": null,
            "min_width": null,
            "border": null,
            "align_items": null,
            "bottom": null,
            "_model_module": "@jupyter-widgets/base",
            "top": null,
            "grid_column": null,
            "overflow_y": null,
            "overflow_x": null,
            "grid_auto_flow": null,
            "grid_area": null,
            "grid_template_columns": null,
            "flex": null,
            "_model_name": "LayoutModel",
            "justify_items": null,
            "grid_row": null,
            "max_height": null,
            "align_content": null,
            "visibility": null,
            "align_self": null,
            "height": null,
            "min_height": null,
            "padding": null,
            "grid_auto_rows": null,
            "grid_gap": null,
            "max_width": null,
            "order": null,
            "_view_module_version": "1.2.0",
            "grid_template_areas": null,
            "object_position": null,
            "object_fit": null,
            "grid_auto_columns": null,
            "margin": null,
            "display": null,
            "left": null
          }
        },
        "0f134e7caa4a43d680c1f25c89a72d42": {
          "model_module": "@jupyter-widgets/controls",
          "model_name": "HTMLModel",
          "model_module_version": "1.5.0",
          "state": {
            "_view_name": "HTMLView",
            "style": "IPY_MODEL_851963b0a83e43a1bb1feb7dbcaaca6c",
            "_dom_classes": [],
            "description": "",
            "_model_name": "HTMLModel",
            "placeholder": "​",
            "_view_module": "@jupyter-widgets/controls",
            "_model_module_version": "1.5.0",
            "value": "Downloading: 100%",
            "_view_count": null,
            "_view_module_version": "1.5.0",
            "description_tooltip": null,
            "_model_module": "@jupyter-widgets/controls",
            "layout": "IPY_MODEL_f09f2cc2ee9649c98b4619d137411251"
          }
        },
        "8b06970d131648a98824d76ce7755e7c": {
          "model_module": "@jupyter-widgets/controls",
          "model_name": "FloatProgressModel",
          "model_module_version": "1.5.0",
          "state": {
            "_view_name": "ProgressView",
            "style": "IPY_MODEL_6619bde6ded04d3a90e3efea63a14c60",
            "_dom_classes": [],
            "description": "",
            "_model_name": "FloatProgressModel",
            "bar_style": "success",
            "max": 557,
            "_view_module": "@jupyter-widgets/controls",
            "_model_module_version": "1.5.0",
            "value": 557,
            "_view_count": null,
            "_view_module_version": "1.5.0",
            "orientation": "horizontal",
            "min": 0,
            "description_tooltip": null,
            "_model_module": "@jupyter-widgets/controls",
            "layout": "IPY_MODEL_bee248f3d0434ccfa8991482781d7db6"
          }
        },
        "0094816d776149bcbea7fcf0cc7ceb4d": {
          "model_module": "@jupyter-widgets/controls",
          "model_name": "HTMLModel",
          "model_module_version": "1.5.0",
          "state": {
            "_view_name": "HTMLView",
            "style": "IPY_MODEL_b7df123f5b3c42eab9861da3a2b53f45",
            "_dom_classes": [],
            "description": "",
            "_model_name": "HTMLModel",
            "placeholder": "​",
            "_view_module": "@jupyter-widgets/controls",
            "_model_module_version": "1.5.0",
            "value": " 557/557 [00:00&lt;00:00, 8.62kB/s]",
            "_view_count": null,
            "_view_module_version": "1.5.0",
            "description_tooltip": null,
            "_model_module": "@jupyter-widgets/controls",
            "layout": "IPY_MODEL_b6133a675baf4d5aaeaaad04d5995354"
          }
        },
        "851963b0a83e43a1bb1feb7dbcaaca6c": {
          "model_module": "@jupyter-widgets/controls",
          "model_name": "DescriptionStyleModel",
          "model_module_version": "1.5.0",
          "state": {
            "_view_name": "StyleView",
            "_model_name": "DescriptionStyleModel",
            "description_width": "",
            "_view_module": "@jupyter-widgets/base",
            "_model_module_version": "1.5.0",
            "_view_count": null,
            "_view_module_version": "1.2.0",
            "_model_module": "@jupyter-widgets/controls"
          }
        },
        "f09f2cc2ee9649c98b4619d137411251": {
          "model_module": "@jupyter-widgets/base",
          "model_name": "LayoutModel",
          "model_module_version": "1.2.0",
          "state": {
            "_view_name": "LayoutView",
            "grid_template_rows": null,
            "right": null,
            "justify_content": null,
            "_view_module": "@jupyter-widgets/base",
            "overflow": null,
            "_model_module_version": "1.2.0",
            "_view_count": null,
            "flex_flow": null,
            "width": null,
            "min_width": null,
            "border": null,
            "align_items": null,
            "bottom": null,
            "_model_module": "@jupyter-widgets/base",
            "top": null,
            "grid_column": null,
            "overflow_y": null,
            "overflow_x": null,
            "grid_auto_flow": null,
            "grid_area": null,
            "grid_template_columns": null,
            "flex": null,
            "_model_name": "LayoutModel",
            "justify_items": null,
            "grid_row": null,
            "max_height": null,
            "align_content": null,
            "visibility": null,
            "align_self": null,
            "height": null,
            "min_height": null,
            "padding": null,
            "grid_auto_rows": null,
            "grid_gap": null,
            "max_width": null,
            "order": null,
            "_view_module_version": "1.2.0",
            "grid_template_areas": null,
            "object_position": null,
            "object_fit": null,
            "grid_auto_columns": null,
            "margin": null,
            "display": null,
            "left": null
          }
        },
        "6619bde6ded04d3a90e3efea63a14c60": {
          "model_module": "@jupyter-widgets/controls",
          "model_name": "ProgressStyleModel",
          "model_module_version": "1.5.0",
          "state": {
            "_view_name": "StyleView",
            "_model_name": "ProgressStyleModel",
            "description_width": "",
            "_view_module": "@jupyter-widgets/base",
            "_model_module_version": "1.5.0",
            "_view_count": null,
            "_view_module_version": "1.2.0",
            "bar_color": null,
            "_model_module": "@jupyter-widgets/controls"
          }
        },
        "bee248f3d0434ccfa8991482781d7db6": {
          "model_module": "@jupyter-widgets/base",
          "model_name": "LayoutModel",
          "model_module_version": "1.2.0",
          "state": {
            "_view_name": "LayoutView",
            "grid_template_rows": null,
            "right": null,
            "justify_content": null,
            "_view_module": "@jupyter-widgets/base",
            "overflow": null,
            "_model_module_version": "1.2.0",
            "_view_count": null,
            "flex_flow": null,
            "width": null,
            "min_width": null,
            "border": null,
            "align_items": null,
            "bottom": null,
            "_model_module": "@jupyter-widgets/base",
            "top": null,
            "grid_column": null,
            "overflow_y": null,
            "overflow_x": null,
            "grid_auto_flow": null,
            "grid_area": null,
            "grid_template_columns": null,
            "flex": null,
            "_model_name": "LayoutModel",
            "justify_items": null,
            "grid_row": null,
            "max_height": null,
            "align_content": null,
            "visibility": null,
            "align_self": null,
            "height": null,
            "min_height": null,
            "padding": null,
            "grid_auto_rows": null,
            "grid_gap": null,
            "max_width": null,
            "order": null,
            "_view_module_version": "1.2.0",
            "grid_template_areas": null,
            "object_position": null,
            "object_fit": null,
            "grid_auto_columns": null,
            "margin": null,
            "display": null,
            "left": null
          }
        },
        "b7df123f5b3c42eab9861da3a2b53f45": {
          "model_module": "@jupyter-widgets/controls",
          "model_name": "DescriptionStyleModel",
          "model_module_version": "1.5.0",
          "state": {
            "_view_name": "StyleView",
            "_model_name": "DescriptionStyleModel",
            "description_width": "",
            "_view_module": "@jupyter-widgets/base",
            "_model_module_version": "1.5.0",
            "_view_count": null,
            "_view_module_version": "1.2.0",
            "_model_module": "@jupyter-widgets/controls"
          }
        },
        "b6133a675baf4d5aaeaaad04d5995354": {
          "model_module": "@jupyter-widgets/base",
          "model_name": "LayoutModel",
          "model_module_version": "1.2.0",
          "state": {
            "_view_name": "LayoutView",
            "grid_template_rows": null,
            "right": null,
            "justify_content": null,
            "_view_module": "@jupyter-widgets/base",
            "overflow": null,
            "_model_module_version": "1.2.0",
            "_view_count": null,
            "flex_flow": null,
            "width": null,
            "min_width": null,
            "border": null,
            "align_items": null,
            "bottom": null,
            "_model_module": "@jupyter-widgets/base",
            "top": null,
            "grid_column": null,
            "overflow_y": null,
            "overflow_x": null,
            "grid_auto_flow": null,
            "grid_area": null,
            "grid_template_columns": null,
            "flex": null,
            "_model_name": "LayoutModel",
            "justify_items": null,
            "grid_row": null,
            "max_height": null,
            "align_content": null,
            "visibility": null,
            "align_self": null,
            "height": null,
            "min_height": null,
            "padding": null,
            "grid_auto_rows": null,
            "grid_gap": null,
            "max_width": null,
            "order": null,
            "_view_module_version": "1.2.0",
            "grid_template_areas": null,
            "object_position": null,
            "object_fit": null,
            "grid_auto_columns": null,
            "margin": null,
            "display": null,
            "left": null
          }
        },
        "f8904f59401b4057991d9a25a7abd273": {
          "model_module": "@jupyter-widgets/controls",
          "model_name": "HBoxModel",
          "model_module_version": "1.5.0",
          "state": {
            "_view_name": "HBoxView",
            "_dom_classes": [],
            "_model_name": "HBoxModel",
            "_view_module": "@jupyter-widgets/controls",
            "_model_module_version": "1.5.0",
            "_view_count": null,
            "_view_module_version": "1.5.0",
            "box_style": "",
            "layout": "IPY_MODEL_9814be815ad04b3a9d4a6e9f5cafeabc",
            "_model_module": "@jupyter-widgets/controls",
            "children": [
              "IPY_MODEL_ad19430c734440e18fa71f2a882b6845",
              "IPY_MODEL_a857957dcfa340f88f8fbc81be08ac60",
              "IPY_MODEL_f08786ae628f4a149ec0a70f342bfba1"
            ]
          }
        },
        "9814be815ad04b3a9d4a6e9f5cafeabc": {
          "model_module": "@jupyter-widgets/base",
          "model_name": "LayoutModel",
          "model_module_version": "1.2.0",
          "state": {
            "_view_name": "LayoutView",
            "grid_template_rows": null,
            "right": null,
            "justify_content": null,
            "_view_module": "@jupyter-widgets/base",
            "overflow": null,
            "_model_module_version": "1.2.0",
            "_view_count": null,
            "flex_flow": null,
            "width": null,
            "min_width": null,
            "border": null,
            "align_items": null,
            "bottom": null,
            "_model_module": "@jupyter-widgets/base",
            "top": null,
            "grid_column": null,
            "overflow_y": null,
            "overflow_x": null,
            "grid_auto_flow": null,
            "grid_area": null,
            "grid_template_columns": null,
            "flex": null,
            "_model_name": "LayoutModel",
            "justify_items": null,
            "grid_row": null,
            "max_height": null,
            "align_content": null,
            "visibility": null,
            "align_self": null,
            "height": null,
            "min_height": null,
            "padding": null,
            "grid_auto_rows": null,
            "grid_gap": null,
            "max_width": null,
            "order": null,
            "_view_module_version": "1.2.0",
            "grid_template_areas": null,
            "object_position": null,
            "object_fit": null,
            "grid_auto_columns": null,
            "margin": null,
            "display": null,
            "left": null
          }
        },
        "ad19430c734440e18fa71f2a882b6845": {
          "model_module": "@jupyter-widgets/controls",
          "model_name": "HTMLModel",
          "model_module_version": "1.5.0",
          "state": {
            "_view_name": "HTMLView",
            "style": "IPY_MODEL_4b13edbdc78342c3853505d68eb1a57d",
            "_dom_classes": [],
            "description": "",
            "_model_name": "HTMLModel",
            "placeholder": "​",
            "_view_module": "@jupyter-widgets/controls",
            "_model_module_version": "1.5.0",
            "value": "Downloading: 100%",
            "_view_count": null,
            "_view_module_version": "1.5.0",
            "description_tooltip": null,
            "_model_module": "@jupyter-widgets/controls",
            "layout": "IPY_MODEL_97fa03dd21d0404d940a978a87da756a"
          }
        },
        "a857957dcfa340f88f8fbc81be08ac60": {
          "model_module": "@jupyter-widgets/controls",
          "model_name": "FloatProgressModel",
          "model_module_version": "1.5.0",
          "state": {
            "_view_name": "ProgressView",
            "style": "IPY_MODEL_fe603c47eba34f9cb56f99d385c3f047",
            "_dom_classes": [],
            "description": "",
            "_model_name": "FloatProgressModel",
            "bar_style": "success",
            "max": 542923308,
            "_view_module": "@jupyter-widgets/controls",
            "_model_module_version": "1.5.0",
            "value": 542923308,
            "_view_count": null,
            "_view_module_version": "1.5.0",
            "orientation": "horizontal",
            "min": 0,
            "description_tooltip": null,
            "_model_module": "@jupyter-widgets/controls",
            "layout": "IPY_MODEL_9244253f098b4cdaabdf2832bfbaf2b6"
          }
        },
        "f08786ae628f4a149ec0a70f342bfba1": {
          "model_module": "@jupyter-widgets/controls",
          "model_name": "HTMLModel",
          "model_module_version": "1.5.0",
          "state": {
            "_view_name": "HTMLView",
            "style": "IPY_MODEL_1f7759b9193946d4ad794a542094df6e",
            "_dom_classes": [],
            "description": "",
            "_model_name": "HTMLModel",
            "placeholder": "​",
            "_view_module": "@jupyter-widgets/controls",
            "_model_module_version": "1.5.0",
            "value": " 518M/518M [00:13&lt;00:00, 39.5MB/s]",
            "_view_count": null,
            "_view_module_version": "1.5.0",
            "description_tooltip": null,
            "_model_module": "@jupyter-widgets/controls",
            "layout": "IPY_MODEL_d7d3671751084513bf55c91eab6928f7"
          }
        },
        "4b13edbdc78342c3853505d68eb1a57d": {
          "model_module": "@jupyter-widgets/controls",
          "model_name": "DescriptionStyleModel",
          "model_module_version": "1.5.0",
          "state": {
            "_view_name": "StyleView",
            "_model_name": "DescriptionStyleModel",
            "description_width": "",
            "_view_module": "@jupyter-widgets/base",
            "_model_module_version": "1.5.0",
            "_view_count": null,
            "_view_module_version": "1.2.0",
            "_model_module": "@jupyter-widgets/controls"
          }
        },
        "97fa03dd21d0404d940a978a87da756a": {
          "model_module": "@jupyter-widgets/base",
          "model_name": "LayoutModel",
          "model_module_version": "1.2.0",
          "state": {
            "_view_name": "LayoutView",
            "grid_template_rows": null,
            "right": null,
            "justify_content": null,
            "_view_module": "@jupyter-widgets/base",
            "overflow": null,
            "_model_module_version": "1.2.0",
            "_view_count": null,
            "flex_flow": null,
            "width": null,
            "min_width": null,
            "border": null,
            "align_items": null,
            "bottom": null,
            "_model_module": "@jupyter-widgets/base",
            "top": null,
            "grid_column": null,
            "overflow_y": null,
            "overflow_x": null,
            "grid_auto_flow": null,
            "grid_area": null,
            "grid_template_columns": null,
            "flex": null,
            "_model_name": "LayoutModel",
            "justify_items": null,
            "grid_row": null,
            "max_height": null,
            "align_content": null,
            "visibility": null,
            "align_self": null,
            "height": null,
            "min_height": null,
            "padding": null,
            "grid_auto_rows": null,
            "grid_gap": null,
            "max_width": null,
            "order": null,
            "_view_module_version": "1.2.0",
            "grid_template_areas": null,
            "object_position": null,
            "object_fit": null,
            "grid_auto_columns": null,
            "margin": null,
            "display": null,
            "left": null
          }
        },
        "fe603c47eba34f9cb56f99d385c3f047": {
          "model_module": "@jupyter-widgets/controls",
          "model_name": "ProgressStyleModel",
          "model_module_version": "1.5.0",
          "state": {
            "_view_name": "StyleView",
            "_model_name": "ProgressStyleModel",
            "description_width": "",
            "_view_module": "@jupyter-widgets/base",
            "_model_module_version": "1.5.0",
            "_view_count": null,
            "_view_module_version": "1.2.0",
            "bar_color": null,
            "_model_module": "@jupyter-widgets/controls"
          }
        },
        "9244253f098b4cdaabdf2832bfbaf2b6": {
          "model_module": "@jupyter-widgets/base",
          "model_name": "LayoutModel",
          "model_module_version": "1.2.0",
          "state": {
            "_view_name": "LayoutView",
            "grid_template_rows": null,
            "right": null,
            "justify_content": null,
            "_view_module": "@jupyter-widgets/base",
            "overflow": null,
            "_model_module_version": "1.2.0",
            "_view_count": null,
            "flex_flow": null,
            "width": null,
            "min_width": null,
            "border": null,
            "align_items": null,
            "bottom": null,
            "_model_module": "@jupyter-widgets/base",
            "top": null,
            "grid_column": null,
            "overflow_y": null,
            "overflow_x": null,
            "grid_auto_flow": null,
            "grid_area": null,
            "grid_template_columns": null,
            "flex": null,
            "_model_name": "LayoutModel",
            "justify_items": null,
            "grid_row": null,
            "max_height": null,
            "align_content": null,
            "visibility": null,
            "align_self": null,
            "height": null,
            "min_height": null,
            "padding": null,
            "grid_auto_rows": null,
            "grid_gap": null,
            "max_width": null,
            "order": null,
            "_view_module_version": "1.2.0",
            "grid_template_areas": null,
            "object_position": null,
            "object_fit": null,
            "grid_auto_columns": null,
            "margin": null,
            "display": null,
            "left": null
          }
        },
        "1f7759b9193946d4ad794a542094df6e": {
          "model_module": "@jupyter-widgets/controls",
          "model_name": "DescriptionStyleModel",
          "model_module_version": "1.5.0",
          "state": {
            "_view_name": "StyleView",
            "_model_name": "DescriptionStyleModel",
            "description_width": "",
            "_view_module": "@jupyter-widgets/base",
            "_model_module_version": "1.5.0",
            "_view_count": null,
            "_view_module_version": "1.2.0",
            "_model_module": "@jupyter-widgets/controls"
          }
        },
        "d7d3671751084513bf55c91eab6928f7": {
          "model_module": "@jupyter-widgets/base",
          "model_name": "LayoutModel",
          "model_module_version": "1.2.0",
          "state": {
            "_view_name": "LayoutView",
            "grid_template_rows": null,
            "right": null,
            "justify_content": null,
            "_view_module": "@jupyter-widgets/base",
            "overflow": null,
            "_model_module_version": "1.2.0",
            "_view_count": null,
            "flex_flow": null,
            "width": null,
            "min_width": null,
            "border": null,
            "align_items": null,
            "bottom": null,
            "_model_module": "@jupyter-widgets/base",
            "top": null,
            "grid_column": null,
            "overflow_y": null,
            "overflow_x": null,
            "grid_auto_flow": null,
            "grid_area": null,
            "grid_template_columns": null,
            "flex": null,
            "_model_name": "LayoutModel",
            "justify_items": null,
            "grid_row": null,
            "max_height": null,
            "align_content": null,
            "visibility": null,
            "align_self": null,
            "height": null,
            "min_height": null,
            "padding": null,
            "grid_auto_rows": null,
            "grid_gap": null,
            "max_width": null,
            "order": null,
            "_view_module_version": "1.2.0",
            "grid_template_areas": null,
            "object_position": null,
            "object_fit": null,
            "grid_auto_columns": null,
            "margin": null,
            "display": null,
            "left": null
          }
        },
        "f3f24ef898224da39b3644b7f81cda71": {
          "model_module": "@jupyter-widgets/controls",
          "model_name": "HBoxModel",
          "model_module_version": "1.5.0",
          "state": {
            "_view_name": "HBoxView",
            "_dom_classes": [],
            "_model_name": "HBoxModel",
            "_view_module": "@jupyter-widgets/controls",
            "_model_module_version": "1.5.0",
            "_view_count": null,
            "_view_module_version": "1.5.0",
            "box_style": "",
            "layout": "IPY_MODEL_6360e55e266e4da9b159adc30e6617a4",
            "_model_module": "@jupyter-widgets/controls",
            "children": [
              "IPY_MODEL_6661967928fe41c7a6c39d02d7a45d8e",
              "IPY_MODEL_6e4e2b26a11d4cf9a7f0a385794d1c37",
              "IPY_MODEL_d3ea7b94a79444ebb5ec065237276c69"
            ]
          }
        },
        "6360e55e266e4da9b159adc30e6617a4": {
          "model_module": "@jupyter-widgets/base",
          "model_name": "LayoutModel",
          "model_module_version": "1.2.0",
          "state": {
            "_view_name": "LayoutView",
            "grid_template_rows": null,
            "right": null,
            "justify_content": null,
            "_view_module": "@jupyter-widgets/base",
            "overflow": null,
            "_model_module_version": "1.2.0",
            "_view_count": null,
            "flex_flow": null,
            "width": null,
            "min_width": null,
            "border": null,
            "align_items": null,
            "bottom": null,
            "_model_module": "@jupyter-widgets/base",
            "top": null,
            "grid_column": null,
            "overflow_y": null,
            "overflow_x": null,
            "grid_auto_flow": null,
            "grid_area": null,
            "grid_template_columns": null,
            "flex": null,
            "_model_name": "LayoutModel",
            "justify_items": null,
            "grid_row": null,
            "max_height": null,
            "align_content": null,
            "visibility": null,
            "align_self": null,
            "height": null,
            "min_height": null,
            "padding": null,
            "grid_auto_rows": null,
            "grid_gap": null,
            "max_width": null,
            "order": null,
            "_view_module_version": "1.2.0",
            "grid_template_areas": null,
            "object_position": null,
            "object_fit": null,
            "grid_auto_columns": null,
            "margin": null,
            "display": null,
            "left": null
          }
        },
        "6661967928fe41c7a6c39d02d7a45d8e": {
          "model_module": "@jupyter-widgets/controls",
          "model_name": "HTMLModel",
          "model_module_version": "1.5.0",
          "state": {
            "_view_name": "HTMLView",
            "style": "IPY_MODEL_a4b0578ecabf4e078abf030bdd06668a",
            "_dom_classes": [],
            "description": "",
            "_model_name": "HTMLModel",
            "placeholder": "​",
            "_view_module": "@jupyter-widgets/controls",
            "_model_module_version": "1.5.0",
            "value": "Downloading: 100%",
            "_view_count": null,
            "_view_module_version": "1.5.0",
            "description_tooltip": null,
            "_model_module": "@jupyter-widgets/controls",
            "layout": "IPY_MODEL_0212fb3b4aab4a2689c8c853555f2774"
          }
        },
        "6e4e2b26a11d4cf9a7f0a385794d1c37": {
          "model_module": "@jupyter-widgets/controls",
          "model_name": "FloatProgressModel",
          "model_module_version": "1.5.0",
          "state": {
            "_view_name": "ProgressView",
            "style": "IPY_MODEL_5e0f1efa1e2a4b59ba66bf30e0bdb583",
            "_dom_classes": [],
            "description": "",
            "_model_name": "FloatProgressModel",
            "bar_style": "success",
            "max": 895321,
            "_view_module": "@jupyter-widgets/controls",
            "_model_module_version": "1.5.0",
            "value": 895321,
            "_view_count": null,
            "_view_module_version": "1.5.0",
            "orientation": "horizontal",
            "min": 0,
            "description_tooltip": null,
            "_model_module": "@jupyter-widgets/controls",
            "layout": "IPY_MODEL_cea4072f592b40d3a8697cdf07de556b"
          }
        },
        "d3ea7b94a79444ebb5ec065237276c69": {
          "model_module": "@jupyter-widgets/controls",
          "model_name": "HTMLModel",
          "model_module_version": "1.5.0",
          "state": {
            "_view_name": "HTMLView",
            "style": "IPY_MODEL_df6a76524a8d4f939341ef8c25860bda",
            "_dom_classes": [],
            "description": "",
            "_model_name": "HTMLModel",
            "placeholder": "​",
            "_view_module": "@jupyter-widgets/controls",
            "_model_module_version": "1.5.0",
            "value": " 874k/874k [00:00&lt;00:00, 1.09MB/s]",
            "_view_count": null,
            "_view_module_version": "1.5.0",
            "description_tooltip": null,
            "_model_module": "@jupyter-widgets/controls",
            "layout": "IPY_MODEL_e916f6800cc448ab8dee39ee15da84dd"
          }
        },
        "a4b0578ecabf4e078abf030bdd06668a": {
          "model_module": "@jupyter-widgets/controls",
          "model_name": "DescriptionStyleModel",
          "model_module_version": "1.5.0",
          "state": {
            "_view_name": "StyleView",
            "_model_name": "DescriptionStyleModel",
            "description_width": "",
            "_view_module": "@jupyter-widgets/base",
            "_model_module_version": "1.5.0",
            "_view_count": null,
            "_view_module_version": "1.2.0",
            "_model_module": "@jupyter-widgets/controls"
          }
        },
        "0212fb3b4aab4a2689c8c853555f2774": {
          "model_module": "@jupyter-widgets/base",
          "model_name": "LayoutModel",
          "model_module_version": "1.2.0",
          "state": {
            "_view_name": "LayoutView",
            "grid_template_rows": null,
            "right": null,
            "justify_content": null,
            "_view_module": "@jupyter-widgets/base",
            "overflow": null,
            "_model_module_version": "1.2.0",
            "_view_count": null,
            "flex_flow": null,
            "width": null,
            "min_width": null,
            "border": null,
            "align_items": null,
            "bottom": null,
            "_model_module": "@jupyter-widgets/base",
            "top": null,
            "grid_column": null,
            "overflow_y": null,
            "overflow_x": null,
            "grid_auto_flow": null,
            "grid_area": null,
            "grid_template_columns": null,
            "flex": null,
            "_model_name": "LayoutModel",
            "justify_items": null,
            "grid_row": null,
            "max_height": null,
            "align_content": null,
            "visibility": null,
            "align_self": null,
            "height": null,
            "min_height": null,
            "padding": null,
            "grid_auto_rows": null,
            "grid_gap": null,
            "max_width": null,
            "order": null,
            "_view_module_version": "1.2.0",
            "grid_template_areas": null,
            "object_position": null,
            "object_fit": null,
            "grid_auto_columns": null,
            "margin": null,
            "display": null,
            "left": null
          }
        },
        "5e0f1efa1e2a4b59ba66bf30e0bdb583": {
          "model_module": "@jupyter-widgets/controls",
          "model_name": "ProgressStyleModel",
          "model_module_version": "1.5.0",
          "state": {
            "_view_name": "StyleView",
            "_model_name": "ProgressStyleModel",
            "description_width": "",
            "_view_module": "@jupyter-widgets/base",
            "_model_module_version": "1.5.0",
            "_view_count": null,
            "_view_module_version": "1.2.0",
            "bar_color": null,
            "_model_module": "@jupyter-widgets/controls"
          }
        },
        "cea4072f592b40d3a8697cdf07de556b": {
          "model_module": "@jupyter-widgets/base",
          "model_name": "LayoutModel",
          "model_module_version": "1.2.0",
          "state": {
            "_view_name": "LayoutView",
            "grid_template_rows": null,
            "right": null,
            "justify_content": null,
            "_view_module": "@jupyter-widgets/base",
            "overflow": null,
            "_model_module_version": "1.2.0",
            "_view_count": null,
            "flex_flow": null,
            "width": null,
            "min_width": null,
            "border": null,
            "align_items": null,
            "bottom": null,
            "_model_module": "@jupyter-widgets/base",
            "top": null,
            "grid_column": null,
            "overflow_y": null,
            "overflow_x": null,
            "grid_auto_flow": null,
            "grid_area": null,
            "grid_template_columns": null,
            "flex": null,
            "_model_name": "LayoutModel",
            "justify_items": null,
            "grid_row": null,
            "max_height": null,
            "align_content": null,
            "visibility": null,
            "align_self": null,
            "height": null,
            "min_height": null,
            "padding": null,
            "grid_auto_rows": null,
            "grid_gap": null,
            "max_width": null,
            "order": null,
            "_view_module_version": "1.2.0",
            "grid_template_areas": null,
            "object_position": null,
            "object_fit": null,
            "grid_auto_columns": null,
            "margin": null,
            "display": null,
            "left": null
          }
        },
        "df6a76524a8d4f939341ef8c25860bda": {
          "model_module": "@jupyter-widgets/controls",
          "model_name": "DescriptionStyleModel",
          "model_module_version": "1.5.0",
          "state": {
            "_view_name": "StyleView",
            "_model_name": "DescriptionStyleModel",
            "description_width": "",
            "_view_module": "@jupyter-widgets/base",
            "_model_module_version": "1.5.0",
            "_view_count": null,
            "_view_module_version": "1.2.0",
            "_model_module": "@jupyter-widgets/controls"
          }
        },
        "e916f6800cc448ab8dee39ee15da84dd": {
          "model_module": "@jupyter-widgets/base",
          "model_name": "LayoutModel",
          "model_module_version": "1.2.0",
          "state": {
            "_view_name": "LayoutView",
            "grid_template_rows": null,
            "right": null,
            "justify_content": null,
            "_view_module": "@jupyter-widgets/base",
            "overflow": null,
            "_model_module_version": "1.2.0",
            "_view_count": null,
            "flex_flow": null,
            "width": null,
            "min_width": null,
            "border": null,
            "align_items": null,
            "bottom": null,
            "_model_module": "@jupyter-widgets/base",
            "top": null,
            "grid_column": null,
            "overflow_y": null,
            "overflow_x": null,
            "grid_auto_flow": null,
            "grid_area": null,
            "grid_template_columns": null,
            "flex": null,
            "_model_name": "LayoutModel",
            "justify_items": null,
            "grid_row": null,
            "max_height": null,
            "align_content": null,
            "visibility": null,
            "align_self": null,
            "height": null,
            "min_height": null,
            "padding": null,
            "grid_auto_rows": null,
            "grid_gap": null,
            "max_width": null,
            "order": null,
            "_view_module_version": "1.2.0",
            "grid_template_areas": null,
            "object_position": null,
            "object_fit": null,
            "grid_auto_columns": null,
            "margin": null,
            "display": null,
            "left": null
          }
        },
        "92fabe5fe02341d49b273ed3d01f64a3": {
          "model_module": "@jupyter-widgets/controls",
          "model_name": "HBoxModel",
          "model_module_version": "1.5.0",
          "state": {
            "_view_name": "HBoxView",
            "_dom_classes": [],
            "_model_name": "HBoxModel",
            "_view_module": "@jupyter-widgets/controls",
            "_model_module_version": "1.5.0",
            "_view_count": null,
            "_view_module_version": "1.5.0",
            "box_style": "",
            "layout": "IPY_MODEL_77096efe45d64a858414834c39be8b2a",
            "_model_module": "@jupyter-widgets/controls",
            "children": [
              "IPY_MODEL_8e8d8faf52844333907510f9e8754eea",
              "IPY_MODEL_f28ed959cc674eb88b4bfac211a6b059",
              "IPY_MODEL_dd803329cf2249da82c888e7440f0c6a"
            ]
          }
        },
        "77096efe45d64a858414834c39be8b2a": {
          "model_module": "@jupyter-widgets/base",
          "model_name": "LayoutModel",
          "model_module_version": "1.2.0",
          "state": {
            "_view_name": "LayoutView",
            "grid_template_rows": null,
            "right": null,
            "justify_content": null,
            "_view_module": "@jupyter-widgets/base",
            "overflow": null,
            "_model_module_version": "1.2.0",
            "_view_count": null,
            "flex_flow": null,
            "width": null,
            "min_width": null,
            "border": null,
            "align_items": null,
            "bottom": null,
            "_model_module": "@jupyter-widgets/base",
            "top": null,
            "grid_column": null,
            "overflow_y": null,
            "overflow_x": null,
            "grid_auto_flow": null,
            "grid_area": null,
            "grid_template_columns": null,
            "flex": null,
            "_model_name": "LayoutModel",
            "justify_items": null,
            "grid_row": null,
            "max_height": null,
            "align_content": null,
            "visibility": null,
            "align_self": null,
            "height": null,
            "min_height": null,
            "padding": null,
            "grid_auto_rows": null,
            "grid_gap": null,
            "max_width": null,
            "order": null,
            "_view_module_version": "1.2.0",
            "grid_template_areas": null,
            "object_position": null,
            "object_fit": null,
            "grid_auto_columns": null,
            "margin": null,
            "display": null,
            "left": null
          }
        },
        "8e8d8faf52844333907510f9e8754eea": {
          "model_module": "@jupyter-widgets/controls",
          "model_name": "HTMLModel",
          "model_module_version": "1.5.0",
          "state": {
            "_view_name": "HTMLView",
            "style": "IPY_MODEL_eed03ecb13304da9875b219bb335d620",
            "_dom_classes": [],
            "description": "",
            "_model_name": "HTMLModel",
            "placeholder": "​",
            "_view_module": "@jupyter-widgets/controls",
            "_model_module_version": "1.5.0",
            "value": "Downloading: 100%",
            "_view_count": null,
            "_view_module_version": "1.5.0",
            "description_tooltip": null,
            "_model_module": "@jupyter-widgets/controls",
            "layout": "IPY_MODEL_ee989cdbcafa4826bb2450fb637d4255"
          }
        },
        "f28ed959cc674eb88b4bfac211a6b059": {
          "model_module": "@jupyter-widgets/controls",
          "model_name": "FloatProgressModel",
          "model_module_version": "1.5.0",
          "state": {
            "_view_name": "ProgressView",
            "style": "IPY_MODEL_dd4e59767ab347d4ad90f98ba15273a0",
            "_dom_classes": [],
            "description": "",
            "_model_name": "FloatProgressModel",
            "bar_style": "success",
            "max": 1135173,
            "_view_module": "@jupyter-widgets/controls",
            "_model_module_version": "1.5.0",
            "value": 1135173,
            "_view_count": null,
            "_view_module_version": "1.5.0",
            "orientation": "horizontal",
            "min": 0,
            "description_tooltip": null,
            "_model_module": "@jupyter-widgets/controls",
            "layout": "IPY_MODEL_3a4767d7a1ef4478b8719a35c0d43b4f"
          }
        },
        "dd803329cf2249da82c888e7440f0c6a": {
          "model_module": "@jupyter-widgets/controls",
          "model_name": "HTMLModel",
          "model_module_version": "1.5.0",
          "state": {
            "_view_name": "HTMLView",
            "style": "IPY_MODEL_6a370d05d06646fcaaa2b850155bda38",
            "_dom_classes": [],
            "description": "",
            "_model_name": "HTMLModel",
            "placeholder": "​",
            "_view_module": "@jupyter-widgets/controls",
            "_model_module_version": "1.5.0",
            "value": " 1.08M/1.08M [00:00&lt;00:00, 1.40MB/s]",
            "_view_count": null,
            "_view_module_version": "1.5.0",
            "description_tooltip": null,
            "_model_module": "@jupyter-widgets/controls",
            "layout": "IPY_MODEL_e72678243caa4d4eb7d23d20c5c5d726"
          }
        },
        "eed03ecb13304da9875b219bb335d620": {
          "model_module": "@jupyter-widgets/controls",
          "model_name": "DescriptionStyleModel",
          "model_module_version": "1.5.0",
          "state": {
            "_view_name": "StyleView",
            "_model_name": "DescriptionStyleModel",
            "description_width": "",
            "_view_module": "@jupyter-widgets/base",
            "_model_module_version": "1.5.0",
            "_view_count": null,
            "_view_module_version": "1.2.0",
            "_model_module": "@jupyter-widgets/controls"
          }
        },
        "ee989cdbcafa4826bb2450fb637d4255": {
          "model_module": "@jupyter-widgets/base",
          "model_name": "LayoutModel",
          "model_module_version": "1.2.0",
          "state": {
            "_view_name": "LayoutView",
            "grid_template_rows": null,
            "right": null,
            "justify_content": null,
            "_view_module": "@jupyter-widgets/base",
            "overflow": null,
            "_model_module_version": "1.2.0",
            "_view_count": null,
            "flex_flow": null,
            "width": null,
            "min_width": null,
            "border": null,
            "align_items": null,
            "bottom": null,
            "_model_module": "@jupyter-widgets/base",
            "top": null,
            "grid_column": null,
            "overflow_y": null,
            "overflow_x": null,
            "grid_auto_flow": null,
            "grid_area": null,
            "grid_template_columns": null,
            "flex": null,
            "_model_name": "LayoutModel",
            "justify_items": null,
            "grid_row": null,
            "max_height": null,
            "align_content": null,
            "visibility": null,
            "align_self": null,
            "height": null,
            "min_height": null,
            "padding": null,
            "grid_auto_rows": null,
            "grid_gap": null,
            "max_width": null,
            "order": null,
            "_view_module_version": "1.2.0",
            "grid_template_areas": null,
            "object_position": null,
            "object_fit": null,
            "grid_auto_columns": null,
            "margin": null,
            "display": null,
            "left": null
          }
        },
        "dd4e59767ab347d4ad90f98ba15273a0": {
          "model_module": "@jupyter-widgets/controls",
          "model_name": "ProgressStyleModel",
          "model_module_version": "1.5.0",
          "state": {
            "_view_name": "StyleView",
            "_model_name": "ProgressStyleModel",
            "description_width": "",
            "_view_module": "@jupyter-widgets/base",
            "_model_module_version": "1.5.0",
            "_view_count": null,
            "_view_module_version": "1.2.0",
            "bar_color": null,
            "_model_module": "@jupyter-widgets/controls"
          }
        },
        "3a4767d7a1ef4478b8719a35c0d43b4f": {
          "model_module": "@jupyter-widgets/base",
          "model_name": "LayoutModel",
          "model_module_version": "1.2.0",
          "state": {
            "_view_name": "LayoutView",
            "grid_template_rows": null,
            "right": null,
            "justify_content": null,
            "_view_module": "@jupyter-widgets/base",
            "overflow": null,
            "_model_module_version": "1.2.0",
            "_view_count": null,
            "flex_flow": null,
            "width": null,
            "min_width": null,
            "border": null,
            "align_items": null,
            "bottom": null,
            "_model_module": "@jupyter-widgets/base",
            "top": null,
            "grid_column": null,
            "overflow_y": null,
            "overflow_x": null,
            "grid_auto_flow": null,
            "grid_area": null,
            "grid_template_columns": null,
            "flex": null,
            "_model_name": "LayoutModel",
            "justify_items": null,
            "grid_row": null,
            "max_height": null,
            "align_content": null,
            "visibility": null,
            "align_self": null,
            "height": null,
            "min_height": null,
            "padding": null,
            "grid_auto_rows": null,
            "grid_gap": null,
            "max_width": null,
            "order": null,
            "_view_module_version": "1.2.0",
            "grid_template_areas": null,
            "object_position": null,
            "object_fit": null,
            "grid_auto_columns": null,
            "margin": null,
            "display": null,
            "left": null
          }
        },
        "6a370d05d06646fcaaa2b850155bda38": {
          "model_module": "@jupyter-widgets/controls",
          "model_name": "DescriptionStyleModel",
          "model_module_version": "1.5.0",
          "state": {
            "_view_name": "StyleView",
            "_model_name": "DescriptionStyleModel",
            "description_width": "",
            "_view_module": "@jupyter-widgets/base",
            "_model_module_version": "1.5.0",
            "_view_count": null,
            "_view_module_version": "1.2.0",
            "_model_module": "@jupyter-widgets/controls"
          }
        },
        "e72678243caa4d4eb7d23d20c5c5d726": {
          "model_module": "@jupyter-widgets/base",
          "model_name": "LayoutModel",
          "model_module_version": "1.2.0",
          "state": {
            "_view_name": "LayoutView",
            "grid_template_rows": null,
            "right": null,
            "justify_content": null,
            "_view_module": "@jupyter-widgets/base",
            "overflow": null,
            "_model_module_version": "1.2.0",
            "_view_count": null,
            "flex_flow": null,
            "width": null,
            "min_width": null,
            "border": null,
            "align_items": null,
            "bottom": null,
            "_model_module": "@jupyter-widgets/base",
            "top": null,
            "grid_column": null,
            "overflow_y": null,
            "overflow_x": null,
            "grid_auto_flow": null,
            "grid_area": null,
            "grid_template_columns": null,
            "flex": null,
            "_model_name": "LayoutModel",
            "justify_items": null,
            "grid_row": null,
            "max_height": null,
            "align_content": null,
            "visibility": null,
            "align_self": null,
            "height": null,
            "min_height": null,
            "padding": null,
            "grid_auto_rows": null,
            "grid_gap": null,
            "max_width": null,
            "order": null,
            "_view_module_version": "1.2.0",
            "grid_template_areas": null,
            "object_position": null,
            "object_fit": null,
            "grid_auto_columns": null,
            "margin": null,
            "display": null,
            "left": null
          }
        },
        "12a376f5b1d34c29b21fdc1fd3beacfe": {
          "model_module": "@jupyter-widgets/controls",
          "model_name": "HBoxModel",
          "model_module_version": "1.5.0",
          "state": {
            "_view_name": "HBoxView",
            "_dom_classes": [],
            "_model_name": "HBoxModel",
            "_view_module": "@jupyter-widgets/controls",
            "_model_module_version": "1.5.0",
            "_view_count": null,
            "_view_module_version": "1.5.0",
            "box_style": "",
            "layout": "IPY_MODEL_0eb65840edf14b4ca9d99b76bc405991",
            "_model_module": "@jupyter-widgets/controls",
            "children": [
              "IPY_MODEL_ede2ed77e72947a893e9874e3ec0ea98",
              "IPY_MODEL_b1e20f18e5f34716894e2b20c200d945",
              "IPY_MODEL_51a0187d74fb442cb7d43952a6ab1fab"
            ]
          }
        },
        "0eb65840edf14b4ca9d99b76bc405991": {
          "model_module": "@jupyter-widgets/base",
          "model_name": "LayoutModel",
          "model_module_version": "1.2.0",
          "state": {
            "_view_name": "LayoutView",
            "grid_template_rows": null,
            "right": null,
            "justify_content": null,
            "_view_module": "@jupyter-widgets/base",
            "overflow": null,
            "_model_module_version": "1.2.0",
            "_view_count": null,
            "flex_flow": null,
            "width": null,
            "min_width": null,
            "border": null,
            "align_items": null,
            "bottom": null,
            "_model_module": "@jupyter-widgets/base",
            "top": null,
            "grid_column": null,
            "overflow_y": null,
            "overflow_x": null,
            "grid_auto_flow": null,
            "grid_area": null,
            "grid_template_columns": null,
            "flex": null,
            "_model_name": "LayoutModel",
            "justify_items": null,
            "grid_row": null,
            "max_height": null,
            "align_content": null,
            "visibility": null,
            "align_self": null,
            "height": null,
            "min_height": null,
            "padding": null,
            "grid_auto_rows": null,
            "grid_gap": null,
            "max_width": null,
            "order": null,
            "_view_module_version": "1.2.0",
            "grid_template_areas": null,
            "object_position": null,
            "object_fit": null,
            "grid_auto_columns": null,
            "margin": null,
            "display": null,
            "left": null
          }
        },
        "ede2ed77e72947a893e9874e3ec0ea98": {
          "model_module": "@jupyter-widgets/controls",
          "model_name": "HTMLModel",
          "model_module_version": "1.5.0",
          "state": {
            "_view_name": "HTMLView",
            "style": "IPY_MODEL_d72617d4664444168d60ee9847d96fcc",
            "_dom_classes": [],
            "description": "",
            "_model_name": "HTMLModel",
            "placeholder": "​",
            "_view_module": "@jupyter-widgets/controls",
            "_model_module_version": "1.5.0",
            "value": "Downloading: 100%",
            "_view_count": null,
            "_view_module_version": "1.5.0",
            "description_tooltip": null,
            "_model_module": "@jupyter-widgets/controls",
            "layout": "IPY_MODEL_c7caf387ecb84e3fba25149ec8ab5e92"
          }
        },
        "b1e20f18e5f34716894e2b20c200d945": {
          "model_module": "@jupyter-widgets/controls",
          "model_name": "FloatProgressModel",
          "model_module_version": "1.5.0",
          "state": {
            "_view_name": "ProgressView",
            "style": "IPY_MODEL_2e2dcc7220a84560b4e371fcc3d0d1d4",
            "_dom_classes": [],
            "description": "",
            "_model_name": "FloatProgressModel",
            "bar_style": "success",
            "max": 740310212,
            "_view_module": "@jupyter-widgets/controls",
            "_model_module_version": "1.5.0",
            "value": 740310212,
            "_view_count": null,
            "_view_module_version": "1.5.0",
            "orientation": "horizontal",
            "min": 0,
            "description_tooltip": null,
            "_model_module": "@jupyter-widgets/controls",
            "layout": "IPY_MODEL_9cfa28b0b24743f9bc0265a41ce59b67"
          }
        },
        "51a0187d74fb442cb7d43952a6ab1fab": {
          "model_module": "@jupyter-widgets/controls",
          "model_name": "HTMLModel",
          "model_module_version": "1.5.0",
          "state": {
            "_view_name": "HTMLView",
            "style": "IPY_MODEL_a5701e7cc2c14fc980ef61f61ea7b183",
            "_dom_classes": [],
            "description": "",
            "_model_name": "HTMLModel",
            "placeholder": "​",
            "_view_module": "@jupyter-widgets/controls",
            "_model_module_version": "1.5.0",
            "value": " 706M/706M [00:20&lt;00:00, 31.5MB/s]",
            "_view_count": null,
            "_view_module_version": "1.5.0",
            "description_tooltip": null,
            "_model_module": "@jupyter-widgets/controls",
            "layout": "IPY_MODEL_c3940f43c51d494088a0d2a896d576df"
          }
        },
        "d72617d4664444168d60ee9847d96fcc": {
          "model_module": "@jupyter-widgets/controls",
          "model_name": "DescriptionStyleModel",
          "model_module_version": "1.5.0",
          "state": {
            "_view_name": "StyleView",
            "_model_name": "DescriptionStyleModel",
            "description_width": "",
            "_view_module": "@jupyter-widgets/base",
            "_model_module_version": "1.5.0",
            "_view_count": null,
            "_view_module_version": "1.2.0",
            "_model_module": "@jupyter-widgets/controls"
          }
        },
        "c7caf387ecb84e3fba25149ec8ab5e92": {
          "model_module": "@jupyter-widgets/base",
          "model_name": "LayoutModel",
          "model_module_version": "1.2.0",
          "state": {
            "_view_name": "LayoutView",
            "grid_template_rows": null,
            "right": null,
            "justify_content": null,
            "_view_module": "@jupyter-widgets/base",
            "overflow": null,
            "_model_module_version": "1.2.0",
            "_view_count": null,
            "flex_flow": null,
            "width": null,
            "min_width": null,
            "border": null,
            "align_items": null,
            "bottom": null,
            "_model_module": "@jupyter-widgets/base",
            "top": null,
            "grid_column": null,
            "overflow_y": null,
            "overflow_x": null,
            "grid_auto_flow": null,
            "grid_area": null,
            "grid_template_columns": null,
            "flex": null,
            "_model_name": "LayoutModel",
            "justify_items": null,
            "grid_row": null,
            "max_height": null,
            "align_content": null,
            "visibility": null,
            "align_self": null,
            "height": null,
            "min_height": null,
            "padding": null,
            "grid_auto_rows": null,
            "grid_gap": null,
            "max_width": null,
            "order": null,
            "_view_module_version": "1.2.0",
            "grid_template_areas": null,
            "object_position": null,
            "object_fit": null,
            "grid_auto_columns": null,
            "margin": null,
            "display": null,
            "left": null
          }
        },
        "2e2dcc7220a84560b4e371fcc3d0d1d4": {
          "model_module": "@jupyter-widgets/controls",
          "model_name": "ProgressStyleModel",
          "model_module_version": "1.5.0",
          "state": {
            "_view_name": "StyleView",
            "_model_name": "ProgressStyleModel",
            "description_width": "",
            "_view_module": "@jupyter-widgets/base",
            "_model_module_version": "1.5.0",
            "_view_count": null,
            "_view_module_version": "1.2.0",
            "bar_color": null,
            "_model_module": "@jupyter-widgets/controls"
          }
        },
        "9cfa28b0b24743f9bc0265a41ce59b67": {
          "model_module": "@jupyter-widgets/base",
          "model_name": "LayoutModel",
          "model_module_version": "1.2.0",
          "state": {
            "_view_name": "LayoutView",
            "grid_template_rows": null,
            "right": null,
            "justify_content": null,
            "_view_module": "@jupyter-widgets/base",
            "overflow": null,
            "_model_module_version": "1.2.0",
            "_view_count": null,
            "flex_flow": null,
            "width": null,
            "min_width": null,
            "border": null,
            "align_items": null,
            "bottom": null,
            "_model_module": "@jupyter-widgets/base",
            "top": null,
            "grid_column": null,
            "overflow_y": null,
            "overflow_x": null,
            "grid_auto_flow": null,
            "grid_area": null,
            "grid_template_columns": null,
            "flex": null,
            "_model_name": "LayoutModel",
            "justify_items": null,
            "grid_row": null,
            "max_height": null,
            "align_content": null,
            "visibility": null,
            "align_self": null,
            "height": null,
            "min_height": null,
            "padding": null,
            "grid_auto_rows": null,
            "grid_gap": null,
            "max_width": null,
            "order": null,
            "_view_module_version": "1.2.0",
            "grid_template_areas": null,
            "object_position": null,
            "object_fit": null,
            "grid_auto_columns": null,
            "margin": null,
            "display": null,
            "left": null
          }
        },
        "a5701e7cc2c14fc980ef61f61ea7b183": {
          "model_module": "@jupyter-widgets/controls",
          "model_name": "DescriptionStyleModel",
          "model_module_version": "1.5.0",
          "state": {
            "_view_name": "StyleView",
            "_model_name": "DescriptionStyleModel",
            "description_width": "",
            "_view_module": "@jupyter-widgets/base",
            "_model_module_version": "1.5.0",
            "_view_count": null,
            "_view_module_version": "1.2.0",
            "_model_module": "@jupyter-widgets/controls"
          }
        },
        "c3940f43c51d494088a0d2a896d576df": {
          "model_module": "@jupyter-widgets/base",
          "model_name": "LayoutModel",
          "model_module_version": "1.2.0",
          "state": {
            "_view_name": "LayoutView",
            "grid_template_rows": null,
            "right": null,
            "justify_content": null,
            "_view_module": "@jupyter-widgets/base",
            "overflow": null,
            "_model_module_version": "1.2.0",
            "_view_count": null,
            "flex_flow": null,
            "width": null,
            "min_width": null,
            "border": null,
            "align_items": null,
            "bottom": null,
            "_model_module": "@jupyter-widgets/base",
            "top": null,
            "grid_column": null,
            "overflow_y": null,
            "overflow_x": null,
            "grid_auto_flow": null,
            "grid_area": null,
            "grid_template_columns": null,
            "flex": null,
            "_model_name": "LayoutModel",
            "justify_items": null,
            "grid_row": null,
            "max_height": null,
            "align_content": null,
            "visibility": null,
            "align_self": null,
            "height": null,
            "min_height": null,
            "padding": null,
            "grid_auto_rows": null,
            "grid_gap": null,
            "max_width": null,
            "order": null,
            "_view_module_version": "1.2.0",
            "grid_template_areas": null,
            "object_position": null,
            "object_fit": null,
            "grid_auto_columns": null,
            "margin": null,
            "display": null,
            "left": null
          }
        }
      }
    }
  },
  "cells": [
    {
      "cell_type": "markdown",
      "metadata": {
        "id": "yGs7lKfqWCeQ"
      },
      "source": [
        "![](https://miro.medium.com/max/700/1*HgXA9v1EsqlrRDaC_iORhQ.png)"
      ]
    },
    {
      "cell_type": "code",
      "metadata": {
        "colab": {
          "base_uri": "https://localhost:8080/"
        },
        "id": "IVgvmXCeZ5zu",
        "outputId": "3b51b9ee-565d-4d55-f5c6-44c44c92a306"
      },
      "source": [
        "!gdown --id 1T-f1cibUX5fM0F7kH8n7r5l7GhYH4nHn"
      ],
      "execution_count": null,
      "outputs": [
        {
          "output_type": "stream",
          "name": "stdout",
          "text": [
            "Downloading...\n",
            "From: https://drive.google.com/uc?id=1T-f1cibUX5fM0F7kH8n7r5l7GhYH4nHn\n",
            "To: /content/news-corpus-categorys-20181217.7z\n",
            "100% 5.33G/5.33G [00:41<00:00, 128MB/s] \n"
          ]
        }
      ]
    },
    {
      "cell_type": "code",
      "metadata": {
        "colab": {
          "base_uri": "https://localhost:8080/"
        },
        "id": "Am4oDhH7fNCN",
        "outputId": "e7cae953-59f8-4a5c-a5c0-bdb17b4e32cd"
      },
      "source": [
        "from google.colab import drive\n",
        "drive.flush_and_unmount()\n",
        "drive._mount('/content/drive')"
      ],
      "execution_count": 1,
      "outputs": [
        {
          "output_type": "stream",
          "name": "stdout",
          "text": [
            "Drive not mounted, so nothing to flush and unmount.\n",
            "Mounted at /content/drive\n"
          ]
        }
      ]
    },
    {
      "cell_type": "code",
      "metadata": {
        "id": "aqOL1yVNfSGb"
      },
      "source": [
        "!cp /content/drive/Shareddrives/Anime_Olshiro/AIdata/news-corpus/news-corpus-categorys-20181217.7z /content"
      ],
      "execution_count": null,
      "outputs": []
    },
    {
      "cell_type": "code",
      "metadata": {
        "colab": {
          "base_uri": "https://localhost:8080/"
        },
        "id": "5FwfM4t-gcC0",
        "outputId": "5c92bf89-5fe6-4599-efb9-40ec084f2c4c"
      },
      "source": [
        "!sudo apt-get install p7zip-full"
      ],
      "execution_count": null,
      "outputs": [
        {
          "output_type": "stream",
          "name": "stdout",
          "text": [
            "Reading package lists... Done\n",
            "Building dependency tree       \n",
            "Reading state information... Done\n",
            "p7zip-full is already the newest version (16.02+dfsg-6).\n",
            "0 upgraded, 0 newly installed, 0 to remove and 37 not upgraded.\n"
          ]
        }
      ]
    },
    {
      "cell_type": "code",
      "metadata": {
        "colab": {
          "base_uri": "https://localhost:8080/"
        },
        "id": "f9K_H7Saae3m",
        "outputId": "585c1e77-9c50-42d9-d2db-197eb986837b"
      },
      "source": [
        "!7z x news-corpus-categorys-20181217.7z"
      ],
      "execution_count": null,
      "outputs": [
        {
          "output_type": "stream",
          "name": "stdout",
          "text": [
            "\n",
            "7-Zip [64] 16.02 : Copyright (c) 1999-2016 Igor Pavlov : 2016-05-21\n",
            "p7zip Version 16.02 (locale=en_US.UTF-8,Utf16=on,HugeFiles=on,64 bits,2 CPUs Intel(R) Xeon(R) CPU @ 2.20GHz (406F0),ASM,AES-NI)\n",
            "\n",
            "Scanning the drive for archives:\n",
            "  0M Scan\b\b\b\b\b\b\b\b\b         \b\b\b\b\b\b\b\b\b1 file, 5326292134 bytes (5080 MiB)\n",
            "\n",
            "Extracting archive: news-corpus-categorys-20181217.7z\n",
            "--\n",
            "Path = news-corpus-categorys-20181217.7z\n",
            "Type = 7z\n",
            "Physical Size = 5326292134\n",
            "Headers Size = 606\n",
            "Method = LZMA2:24\n",
            "Solid = +\n",
            "Blocks = 13\n",
            "\n",
            "  0%\b\b\b\b    \b\b\b\b  0% 1 - corpus/Công nghệ.txt\b\b\b\b\b\b\b\b\b\b\b\b\b\b\b\b\b\b\b\b\b\b\b\b\b\b\b\b\b\b\b\b                                \b\b\b\b\b\b\b\b\b\b\b\b\b\b\b\b\b\b\b\b\b\b\b\b\b\b\b\b\b\b\b\b  1% 1 - corpus/Công nghệ.txt\b\b\b\b\b\b\b\b\b\b\b\b\b\b\b\b\b\b\b\b\b\b\b\b\b\b\b\b\b\b\b\b                                \b\b\b\b\b\b\b\b\b\b\b\b\b\b\b\b\b\b\b\b\b\b\b\b\b\b\b\b\b\b\b\b  2% 1 - corpus/Công nghệ.txt\b\b\b\b\b\b\b\b\b\b\b\b\b\b\b\b\b\b\b\b\b\b\b\b\b\b\b\b\b\b\b\b                                \b\b\b\b\b\b\b\b\b\b\b\b\b\b\b\b\b\b\b\b\b\b\b\b\b\b\b\b\b\b\b\b  3% 1 - corpus/Công nghệ.txt\b\b\b\b\b\b\b\b\b\b\b\b\b\b\b\b\b\b\b\b\b\b\b\b\b\b\b\b\b\b\b\b                                \b\b\b\b\b\b\b\b\b\b\b\b\b\b\b\b\b\b\b\b\b\b\b\b\b\b\b\b\b\b\b\b  4% 1 - corpus/Công nghệ.txt\b\b\b\b\b\b\b\b\b\b\b\b\b\b\b\b\b\b\b\b\b\b\b\b\b\b\b\b\b\b\b\b                                \b\b\b\b\b\b\b\b\b\b\b\b\b\b\b\b\b\b\b\b\b\b\b\b\b\b\b\b\b\b\b\b  4% 2\b\b\b\b\b\b      \b\b\b\b\b\b  4% 2 - corpus/Giáo dục.txt\b\b\b\b\b\b\b\b\b\b\b\b\b\b\b\b\b\b\b\b\b\b\b\b\b\b\b\b\b\b\b                               \b\b\b\b\b\b\b\b\b\b\b\b\b\b\b\b\b\b\b\b\b\b\b\b\b\b\b\b\b\b\b  5% 2 - corpus/Giáo dục.txt\b\b\b\b\b\b\b\b\b\b\b\b\b\b\b\b\b\b\b\b\b\b\b\b\b\b\b\b\b\b\b                               \b\b\b\b\b\b\b\b\b\b\b\b\b\b\b\b\b\b\b\b\b\b\b\b\b\b\b\b\b\b\b  6% 2 - corpus/Giáo dục.txt\b\b\b\b\b\b\b\b\b\b\b\b\b\b\b\b\b\b\b\b\b\b\b\b\b\b\b\b\b\b\b                               \b\b\b\b\b\b\b\b\b\b\b\b\b\b\b\b\b\b\b\b\b\b\b\b\b\b\b\b\b\b\b  7% 2 - corpus/Giáo dục.txt\b\b\b\b\b\b\b\b\b\b\b\b\b\b\b\b\b\b\b\b\b\b\b\b\b\b\b\b\b\b\b                               \b\b\b\b\b\b\b\b\b\b\b\b\b\b\b\b\b\b\b\b\b\b\b\b\b\b\b\b\b\b\b  8% 2 - corpus/Giáo dục.txt\b\b\b\b\b\b\b\b\b\b\b\b\b\b\b\b\b\b\b\b\b\b\b\b\b\b\b\b\b\b\b                               \b\b\b\b\b\b\b\b\b\b\b\b\b\b\b\b\b\b\b\b\b\b\b\b\b\b\b\b\b\b\b  9% 2 - corpus/Giáo dục.txt\b\b\b\b\b\b\b\b\b\b\b\b\b\b\b\b\b\b\b\b\b\b\b\b\b\b\b\b\b\b\b                               \b\b\b\b\b\b\b\b\b\b\b\b\b\b\b\b\b\b\b\b\b\b\b\b\b\b\b\b\b\b\b  9% 3 - corpus/Giải trí.txt\b\b\b\b\b\b\b\b\b\b\b\b\b\b\b\b\b\b\b\b\b\b\b\b\b\b\b\b\b\b\b                               \b\b\b\b\b\b\b\b\b\b\b\b\b\b\b\b\b\b\b\b\b\b\b\b\b\b\b\b\b\b\b 10% 3 - corpus/Giải trí.txt\b\b\b\b\b\b\b\b\b\b\b\b\b\b\b\b\b\b\b\b\b\b\b\b\b\b\b\b\b\b\b                               \b\b\b\b\b\b\b\b\b\b\b\b\b\b\b\b\b\b\b\b\b\b\b\b\b\b\b\b\b\b\b 11% 3 - corpus/Giải trí.txt\b\b\b\b\b\b\b\b\b\b\b\b\b\b\b\b\b\b\b\b\b\b\b\b\b\b\b\b\b\b\b                               \b\b\b\b\b\b\b\b\b\b\b\b\b\b\b\b\b\b\b\b\b\b\b\b\b\b\b\b\b\b\b 12% 3 - corpus/Giải trí.txt\b\b\b\b\b\b\b\b\b\b\b\b\b\b\b\b\b\b\b\b\b\b\b\b\b\b\b\b\b\b\b                               \b\b\b\b\b\b\b\b\b\b\b\b\b\b\b\b\b\b\b\b\b\b\b\b\b\b\b\b\b\b\b 13% 3 - corpus/Giải trí.txt\b\b\b\b\b\b\b\b\b\b\b\b\b\b\b\b\b\b\b\b\b\b\b\b\b\b\b\b\b\b\b                               \b\b\b\b\b\b\b\b\b\b\b\b\b\b\b\b\b\b\b\b\b\b\b\b\b\b\b\b\b\b\b 14% 3 - corpus/Giải trí.txt\b\b\b\b\b\b\b\b\b\b\b\b\b\b\b\b\b\b\b\b\b\b\b\b\b\b\b\b\b\b\b                               \b\b\b\b\b\b\b\b\b\b\b\b\b\b\b\b\b\b\b\b\b\b\b\b\b\b\b\b\b\b\b 15% 3 - corpus/Giải trí.txt\b\b\b\b\b\b\b\b\b\b\b\b\b\b\b\b\b\b\b\b\b\b\b\b\b\b\b\b\b\b\b                               \b\b\b\b\b\b\b\b\b\b\b\b\b\b\b\b\b\b\b\b\b\b\b\b\b\b\b\b\b\b\b 16% 3 - corpus/Giải trí.txt\b\b\b\b\b\b\b\b\b\b\b\b\b\b\b\b\b\b\b\b\b\b\b\b\b\b\b\b\b\b\b                               \b\b\b\b\b\b\b\b\b\b\b\b\b\b\b\b\b\b\b\b\b\b\b\b\b\b\b\b\b\b\b 17% 3 - corpus/Giải trí.txt\b\b\b\b\b\b\b\b\b\b\b\b\b\b\b\b\b\b\b\b\b\b\b\b\b\b\b\b\b\b\b                               \b\b\b\b\b\b\b\b\b\b\b\b\b\b\b\b\b\b\b\b\b\b\b\b\b\b\b\b\b\b\b 18% 3 - corpus/Giải trí.txt\b\b\b\b\b\b\b\b\b\b\b\b\b\b\b\b\b\b\b\b\b\b\b\b\b\b\b\b\b\b\b                               \b\b\b\b\b\b\b\b\b\b\b\b\b\b\b\b\b\b\b\b\b\b\b\b\b\b\b\b\b\b\b 18% 4\b\b\b\b\b\b      \b\b\b\b\b\b 18% 4 - corpus/Khoa học.txt\b\b\b\b\b\b\b\b\b\b\b\b\b\b\b\b\b\b\b\b\b\b\b\b\b\b\b\b\b\b                              \b\b\b\b\b\b\b\b\b\b\b\b\b\b\b\b\b\b\b\b\b\b\b\b\b\b\b\b\b\b 19% 4 - corpus/Khoa học.txt\b\b\b\b\b\b\b\b\b\b\b\b\b\b\b\b\b\b\b\b\b\b\b\b\b\b\b\b\b\b                              \b\b\b\b\b\b\b\b\b\b\b\b\b\b\b\b\b\b\b\b\b\b\b\b\b\b\b\b\b\b 19% 5\b\b\b\b\b\b      \b\b\b\b\b\b 19% 5 - corpus/Kinh tế.txt\b\b\b\b\b\b\b\b\b\b\b\b\b\b\b\b\b\b\b\b\b\b\b\b\b\b\b\b\b                             \b\b\b\b\b\b\b\b\b\b\b\b\b\b\b\b\b\b\b\b\b\b\b\b\b\b\b\b\b 20% 5 - corpus/Kinh tế.txt\b\b\b\b\b\b\b\b\b\b\b\b\b\b\b\b\b\b\b\b\b\b\b\b\b\b\b\b\b                             \b\b\b\b\b\b\b\b\b\b\b\b\b\b\b\b\b\b\b\b\b\b\b\b\b\b\b\b\b 21% 5 - corpus/Kinh tế.txt\b\b\b\b\b\b\b\b\b\b\b\b\b\b\b\b\b\b\b\b\b\b\b\b\b\b\b\b\b                             \b\b\b\b\b\b\b\b\b\b\b\b\b\b\b\b\b\b\b\b\b\b\b\b\b\b\b\b\b 22% 5 - corpus/Kinh tế.txt\b\b\b\b\b\b\b\b\b\b\b\b\b\b\b\b\b\b\b\b\b\b\b\b\b\b\b\b\b                             \b\b\b\b\b\b\b\b\b\b\b\b\b\b\b\b\b\b\b\b\b\b\b\b\b\b\b\b\b 23% 5 - corpus/Kinh tế.txt\b\b\b\b\b\b\b\b\b\b\b\b\b\b\b\b\b\b\b\b\b\b\b\b\b\b\b\b\b                             \b\b\b\b\b\b\b\b\b\b\b\b\b\b\b\b\b\b\b\b\b\b\b\b\b\b\b\b\b 24% 5 - corpus/Kinh tế.txt\b\b\b\b\b\b\b\b\b\b\b\b\b\b\b\b\b\b\b\b\b\b\b\b\b\b\b\b\b                             \b\b\b\b\b\b\b\b\b\b\b\b\b\b\b\b\b\b\b\b\b\b\b\b\b\b\b\b\b 25% 5 - corpus/Kinh tế.txt\b\b\b\b\b\b\b\b\b\b\b\b\b\b\b\b\b\b\b\b\b\b\b\b\b\b\b\b\b                             \b\b\b\b\b\b\b\b\b\b\b\b\b\b\b\b\b\b\b\b\b\b\b\b\b\b\b\b\b 26% 5 - corpus/Kinh tế.txt\b\b\b\b\b\b\b\b\b\b\b\b\b\b\b\b\b\b\b\b\b\b\b\b\b\b\b\b\b                             \b\b\b\b\b\b\b\b\b\b\b\b\b\b\b\b\b\b\b\b\b\b\b\b\b\b\b\b\b 27% 5 - corpus/Kinh tế.txt\b\b\b\b\b\b\b\b\b\b\b\b\b\b\b\b\b\b\b\b\b\b\b\b\b\b\b\b\b                             \b\b\b\b\b\b\b\b\b\b\b\b\b\b\b\b\b\b\b\b\b\b\b\b\b\b\b\b\b 28% 5 - corpus/Kinh tế.txt\b\b\b\b\b\b\b\b\b\b\b\b\b\b\b\b\b\b\b\b\b\b\b\b\b\b\b\b\b                             \b\b\b\b\b\b\b\b\b\b\b\b\b\b\b\b\b\b\b\b\b\b\b\b\b\b\b\b\b 29% 5 - corpus/Kinh tế.txt\b\b\b\b\b\b\b\b\b\b\b\b\b\b\b\b\b\b\b\b\b\b\b\b\b\b\b\b\b                             \b\b\b\b\b\b\b\b\b\b\b\b\b\b\b\b\b\b\b\b\b\b\b\b\b\b\b\b\b 30% 5 - corpus/Kinh tế.txt\b\b\b\b\b\b\b\b\b\b\b\b\b\b\b\b\b\b\b\b\b\b\b\b\b\b\b\b\b                             \b\b\b\b\b\b\b\b\b\b\b\b\b\b\b\b\b\b\b\b\b\b\b\b\b\b\b\b\b 31% 5 - corpus/Kinh tế.txt\b\b\b\b\b\b\b\b\b\b\b\b\b\b\b\b\b\b\b\b\b\b\b\b\b\b\b\b\b                             \b\b\b\b\b\b\b\b\b\b\b\b\b\b\b\b\b\b\b\b\b\b\b\b\b\b\b\b\b 32% 5 - corpus/Kinh tế.txt\b\b\b\b\b\b\b\b\b\b\b\b\b\b\b\b\b\b\b\b\b\b\b\b\b\b\b\b\b                             \b\b\b\b\b\b\b\b\b\b\b\b\b\b\b\b\b\b\b\b\b\b\b\b\b\b\b\b\b 33% 5 - corpus/Kinh tế.txt\b\b\b\b\b\b\b\b\b\b\b\b\b\b\b\b\b\b\b\b\b\b\b\b\b\b\b\b\b                             \b\b\b\b\b\b\b\b\b\b\b\b\b\b\b\b\b\b\b\b\b\b\b\b\b\b\b\b\b 34% 5 - corpus/Kinh tế.txt\b\b\b\b\b\b\b\b\b\b\b\b\b\b\b\b\b\b\b\b\b\b\b\b\b\b\b\b\b                             \b\b\b\b\b\b\b\b\b\b\b\b\b\b\b\b\b\b\b\b\b\b\b\b\b\b\b\b\b 34% 6\b\b\b\b\b\b      \b\b\b\b\b\b 34% 6 - corpus/Nhà đất.txt\b\b\b\b\b\b\b\b\b\b\b\b\b\b\b\b\b\b\b\b\b\b\b\b\b\b\b\b\b\b\b                               \b\b\b\b\b\b\b\b\b\b\b\b\b\b\b\b\b\b\b\b\b\b\b\b\b\b\b\b\b\b\b 35% 6 - corpus/Nhà đất.txt\b\b\b\b\b\b\b\b\b\b\b\b\b\b\b\b\b\b\b\b\b\b\b\b\b\b\b\b\b\b\b                               \b\b\b\b\b\b\b\b\b\b\b\b\b\b\b\b\b\b\b\b\b\b\b\b\b\b\b\b\b\b\b 36% 6 - corpus/Nhà đất.txt\b\b\b\b\b\b\b\b\b\b\b\b\b\b\b\b\b\b\b\b\b\b\b\b\b\b\b\b\b\b\b                               \b\b\b\b\b\b\b\b\b\b\b\b\b\b\b\b\b\b\b\b\b\b\b\b\b\b\b\b\b\b\b 37% 6 - corpus/Nhà đất.txt\b\b\b\b\b\b\b\b\b\b\b\b\b\b\b\b\b\b\b\b\b\b\b\b\b\b\b\b\b\b\b                               \b\b\b\b\b\b\b\b\b\b\b\b\b\b\b\b\b\b\b\b\b\b\b\b\b\b\b\b\b\b\b 38% 6 - corpus/Nhà đất.txt\b\b\b\b\b\b\b\b\b\b\b\b\b\b\b\b\b\b\b\b\b\b\b\b\b\b\b\b\b\b\b                               \b\b\b\b\b\b\b\b\b\b\b\b\b\b\b\b\b\b\b\b\b\b\b\b\b\b\b\b\b\b\b 39% 6 - corpus/Nhà đất.txt\b\b\b\b\b\b\b\b\b\b\b\b\b\b\b\b\b\b\b\b\b\b\b\b\b\b\b\b\b\b\b                               \b\b\b\b\b\b\b\b\b\b\b\b\b\b\b\b\b\b\b\b\b\b\b\b\b\b\b\b\b\b\b 39% 7 - corpus/None.txt\b\b\b\b\b\b\b\b\b\b\b\b\b\b\b\b\b\b\b\b\b\b\b\b                        \b\b\b\b\b\b\b\b\b\b\b\b\b\b\b\b\b\b\b\b\b\b\b\b 39% 8\b\b\b\b\b\b      \b\b\b\b\b\b 39% 8 - corpus/Pháp luật.txt\b\b\b\b\b\b\b\b\b\b\b\b\b\b\b\b\b\b\b\b\b\b\b\b\b\b\b\b\b\b\b\b                                \b\b\b\b\b\b\b\b\b\b\b\b\b\b\b\b\b\b\b\b\b\b\b\b\b\b\b\b\b\b\b\b 40% 8 - corpus/Pháp luật.txt\b\b\b\b\b\b\b\b\b\b\b\b\b\b\b\b\b\b\b\b\b\b\b\b\b\b\b\b\b\b\b\b                                \b\b\b\b\b\b\b\b\b\b\b\b\b\b\b\b\b\b\b\b\b\b\b\b\b\b\b\b\b\b\b\b 41% 8 - corpus/Pháp luật.txt\b\b\b\b\b\b\b\b\b\b\b\b\b\b\b\b\b\b\b\b\b\b\b\b\b\b\b\b\b\b\b\b                                \b\b\b\b\b\b\b\b\b\b\b\b\b\b\b\b\b\b\b\b\b\b\b\b\b\b\b\b\b\b\b\b 42% 8 - corpus/Pháp luật.txt\b\b\b\b\b\b\b\b\b\b\b\b\b\b\b\b\b\b\b\b\b\b\b\b\b\b\b\b\b\b\b\b                                \b\b\b\b\b\b\b\b\b\b\b\b\b\b\b\b\b\b\b\b\b\b\b\b\b\b\b\b\b\b\b\b 43% 8 - corpus/Pháp luật.txt\b\b\b\b\b\b\b\b\b\b\b\b\b\b\b\b\b\b\b\b\b\b\b\b\b\b\b\b\b\b\b\b                                \b\b\b\b\b\b\b\b\b\b\b\b\b\b\b\b\b\b\b\b\b\b\b\b\b\b\b\b\b\b\b\b 44% 8 - corpus/Pháp luật.txt\b\b\b\b\b\b\b\b\b\b\b\b\b\b\b\b\b\b\b\b\b\b\b\b\b\b\b\b\b\b\b\b                                \b\b\b\b\b\b\b\b\b\b\b\b\b\b\b\b\b\b\b\b\b\b\b\b\b\b\b\b\b\b\b\b 45% 8 - corpus/Pháp luật.txt\b\b\b\b\b\b\b\b\b\b\b\b\b\b\b\b\b\b\b\b\b\b\b\b\b\b\b\b\b\b\b\b                                \b\b\b\b\b\b\b\b\b\b\b\b\b\b\b\b\b\b\b\b\b\b\b\b\b\b\b\b\b\b\b\b 46% 8 - corpus/Pháp luật.txt\b\b\b\b\b\b\b\b\b\b\b\b\b\b\b\b\b\b\b\b\b\b\b\b\b\b\b\b\b\b\b\b                                \b\b\b\b\b\b\b\b\b\b\b\b\b\b\b\b\b\b\b\b\b\b\b\b\b\b\b\b\b\b\b\b 47% 8 - corpus/Pháp luật.txt\b\b\b\b\b\b\b\b\b\b\b\b\b\b\b\b\b\b\b\b\b\b\b\b\b\b\b\b\b\b\b\b                                \b\b\b\b\b\b\b\b\b\b\b\b\b\b\b\b\b\b\b\b\b\b\b\b\b\b\b\b\b\b\b\b 48% 8 - corpus/Pháp luật.txt\b\b\b\b\b\b\b\b\b\b\b\b\b\b\b\b\b\b\b\b\b\b\b\b\b\b\b\b\b\b\b\b                                \b\b\b\b\b\b\b\b\b\b\b\b\b\b\b\b\b\b\b\b\b\b\b\b\b\b\b\b\b\b\b\b 49% 8 - corpus/Pháp luật.txt\b\b\b\b\b\b\b\b\b\b\b\b\b\b\b\b\b\b\b\b\b\b\b\b\b\b\b\b\b\b\b\b                                \b\b\b\b\b\b\b\b\b\b\b\b\b\b\b\b\b\b\b\b\b\b\b\b\b\b\b\b\b\b\b\b 50% 8 - corpus/Pháp luật.txt\b\b\b\b\b\b\b\b\b\b\b\b\b\b\b\b\b\b\b\b\b\b\b\b\b\b\b\b\b\b\b\b                                \b\b\b\b\b\b\b\b\b\b\b\b\b\b\b\b\b\b\b\b\b\b\b\b\b\b\b\b\b\b\b\b 51% 8 - corpus/Pháp luật.txt\b\b\b\b\b\b\b\b\b\b\b\b\b\b\b\b\b\b\b\b\b\b\b\b\b\b\b\b\b\b\b\b                                \b\b\b\b\b\b\b\b\b\b\b\b\b\b\b\b\b\b\b\b\b\b\b\b\b\b\b\b\b\b\b\b 52% 8 - corpus/Pháp luật.txt\b\b\b\b\b\b\b\b\b\b\b\b\b\b\b\b\b\b\b\b\b\b\b\b\b\b\b\b\b\b\b\b                                \b\b\b\b\b\b\b\b\b\b\b\b\b\b\b\b\b\b\b\b\b\b\b\b\b\b\b\b\b\b\b\b 53% 8 - corpus/Pháp luật.txt\b\b\b\b\b\b\b\b\b\b\b\b\b\b\b\b\b\b\b\b\b\b\b\b\b\b\b\b\b\b\b\b                                \b\b\b\b\b\b\b\b\b\b\b\b\b\b\b\b\b\b\b\b\b\b\b\b\b\b\b\b\b\b\b\b 53% 9\b\b\b\b\b\b      \b\b\b\b\b\b 53% 9 - corpus/Thế giới.txt\b\b\b\b\b\b\b\b\b\b\b\b\b\b\b\b\b\b\b\b\b\b\b\b\b\b\b\b\b\b\b\b                                \b\b\b\b\b\b\b\b\b\b\b\b\b\b\b\b\b\b\b\b\b\b\b\b\b\b\b\b\b\b\b\b 54% 9 - corpus/Thế giới.txt\b\b\b\b\b\b\b\b\b\b\b\b\b\b\b\b\b\b\b\b\b\b\b\b\b\b\b\b\b\b\b\b                                \b\b\b\b\b\b\b\b\b\b\b\b\b\b\b\b\b\b\b\b\b\b\b\b\b\b\b\b\b\b\b\b 55% 9 - corpus/Thế giới.txt\b\b\b\b\b\b\b\b\b\b\b\b\b\b\b\b\b\b\b\b\b\b\b\b\b\b\b\b\b\b\b\b                                \b\b\b\b\b\b\b\b\b\b\b\b\b\b\b\b\b\b\b\b\b\b\b\b\b\b\b\b\b\b\b\b 56% 9 - corpus/Thế giới.txt\b\b\b\b\b\b\b\b\b\b\b\b\b\b\b\b\b\b\b\b\b\b\b\b\b\b\b\b\b\b\b\b                                \b\b\b\b\b\b\b\b\b\b\b\b\b\b\b\b\b\b\b\b\b\b\b\b\b\b\b\b\b\b\b\b 57% 9 - corpus/Thế giới.txt\b\b\b\b\b\b\b\b\b\b\b\b\b\b\b\b\b\b\b\b\b\b\b\b\b\b\b\b\b\b\b\b                                \b\b\b\b\b\b\b\b\b\b\b\b\b\b\b\b\b\b\b\b\b\b\b\b\b\b\b\b\b\b\b\b 58% 9 - corpus/Thế giới.txt\b\b\b\b\b\b\b\b\b\b\b\b\b\b\b\b\b\b\b\b\b\b\b\b\b\b\b\b\b\b\b\b                                \b\b\b\b\b\b\b\b\b\b\b\b\b\b\b\b\b\b\b\b\b\b\b\b\b\b\b\b\b\b\b\b 59% 9 - corpus/Thế giới.txt\b\b\b\b\b\b\b\b\b\b\b\b\b\b\b\b\b\b\b\b\b\b\b\b\b\b\b\b\b\b\b\b                                \b\b\b\b\b\b\b\b\b\b\b\b\b\b\b\b\b\b\b\b\b\b\b\b\b\b\b\b\b\b\b\b 60% 9 - corpus/Thế giới.txt\b\b\b\b\b\b\b\b\b\b\b\b\b\b\b\b\b\b\b\b\b\b\b\b\b\b\b\b\b\b\b\b                                \b\b\b\b\b\b\b\b\b\b\b\b\b\b\b\b\b\b\b\b\b\b\b\b\b\b\b\b\b\b\b\b 61% 9 - corpus/Thế giới.txt\b\b\b\b\b\b\b\b\b\b\b\b\b\b\b\b\b\b\b\b\b\b\b\b\b\b\b\b\b\b\b\b                                \b\b\b\b\b\b\b\b\b\b\b\b\b\b\b\b\b\b\b\b\b\b\b\b\b\b\b\b\b\b\b\b 62% 9 - corpus/Thế giới.txt\b\b\b\b\b\b\b\b\b\b\b\b\b\b\b\b\b\b\b\b\b\b\b\b\b\b\b\b\b\b\b\b                                \b\b\b\b\b\b\b\b\b\b\b\b\b\b\b\b\b\b\b\b\b\b\b\b\b\b\b\b\b\b\b\b 63% 9 - corpus/Thế giới.txt\b\b\b\b\b\b\b\b\b\b\b\b\b\b\b\b\b\b\b\b\b\b\b\b\b\b\b\b\b\b\b\b                                \b\b\b\b\b\b\b\b\b\b\b\b\b\b\b\b\b\b\b\b\b\b\b\b\b\b\b\b\b\b\b\b 63% 10\b\b\b\b\b\b\b       \b\b\b\b\b\b\b 63% 10 - corpus/Thể thao.txt\b\b\b\b\b\b\b\b\b\b\b\b\b\b\b\b\b\b\b\b\b\b\b\b\b\b\b\b\b\b\b                               \b\b\b\b\b\b\b\b\b\b\b\b\b\b\b\b\b\b\b\b\b\b\b\b\b\b\b\b\b\b\b 64% 10 - corpus/Thể thao.txt\b\b\b\b\b\b\b\b\b\b\b\b\b\b\b\b\b\b\b\b\b\b\b\b\b\b\b\b\b\b\b                               \b\b\b\b\b\b\b\b\b\b\b\b\b\b\b\b\b\b\b\b\b\b\b\b\b\b\b\b\b\b\b 65% 10 - corpus/Thể thao.txt\b\b\b\b\b\b\b\b\b\b\b\b\b\b\b\b\b\b\b\b\b\b\b\b\b\b\b\b\b\b\b                               \b\b\b\b\b\b\b\b\b\b\b\b\b\b\b\b\b\b\b\b\b\b\b\b\b\b\b\b\b\b\b 66% 10 - corpus/Thể thao.txt\b\b\b\b\b\b\b\b\b\b\b\b\b\b\b\b\b\b\b\b\b\b\b\b\b\b\b\b\b\b\b                               \b\b\b\b\b\b\b\b\b\b\b\b\b\b\b\b\b\b\b\b\b\b\b\b\b\b\b\b\b\b\b 67% 10 - corpus/Thể thao.txt\b\b\b\b\b\b\b\b\b\b\b\b\b\b\b\b\b\b\b\b\b\b\b\b\b\b\b\b\b\b\b                               \b\b\b\b\b\b\b\b\b\b\b\b\b\b\b\b\b\b\b\b\b\b\b\b\b\b\b\b\b\b\b 68% 10 - corpus/Thể thao.txt\b\b\b\b\b\b\b\b\b\b\b\b\b\b\b\b\b\b\b\b\b\b\b\b\b\b\b\b\b\b\b                               \b\b\b\b\b\b\b\b\b\b\b\b\b\b\b\b\b\b\b\b\b\b\b\b\b\b\b\b\b\b\b 69% 10 - corpus/Thể thao.txt\b\b\b\b\b\b\b\b\b\b\b\b\b\b\b\b\b\b\b\b\b\b\b\b\b\b\b\b\b\b\b                               \b\b\b\b\b\b\b\b\b\b\b\b\b\b\b\b\b\b\b\b\b\b\b\b\b\b\b\b\b\b\b 70% 10 - corpus/Thể thao.txt\b\b\b\b\b\b\b\b\b\b\b\b\b\b\b\b\b\b\b\b\b\b\b\b\b\b\b\b\b\b\b                               \b\b\b\b\b\b\b\b\b\b\b\b\b\b\b\b\b\b\b\b\b\b\b\b\b\b\b\b\b\b\b 70% 11\b\b\b\b\b\b\b       \b\b\b\b\b\b\b 70% 11 - corpus/Văn hóa.txt\b\b\b\b\b\b\b\b\b\b\b\b\b\b\b\b\b\b\b\b\b\b\b\b\b\b\b\b\b\b                              \b\b\b\b\b\b\b\b\b\b\b\b\b\b\b\b\b\b\b\b\b\b\b\b\b\b\b\b\b\b 71% 11 - corpus/Văn hóa.txt\b\b\b\b\b\b\b\b\b\b\b\b\b\b\b\b\b\b\b\b\b\b\b\b\b\b\b\b\b\b                              \b\b\b\b\b\b\b\b\b\b\b\b\b\b\b\b\b\b\b\b\b\b\b\b\b\b\b\b\b\b 72% 11 - corpus/Văn hóa.txt\b\b\b\b\b\b\b\b\b\b\b\b\b\b\b\b\b\b\b\b\b\b\b\b\b\b\b\b\b\b                              \b\b\b\b\b\b\b\b\b\b\b\b\b\b\b\b\b\b\b\b\b\b\b\b\b\b\b\b\b\b 73% 11 - corpus/Văn hóa.txt\b\b\b\b\b\b\b\b\b\b\b\b\b\b\b\b\b\b\b\b\b\b\b\b\b\b\b\b\b\b                              \b\b\b\b\b\b\b\b\b\b\b\b\b\b\b\b\b\b\b\b\b\b\b\b\b\b\b\b\b\b 74% 11 - corpus/Văn hóa.txt\b\b\b\b\b\b\b\b\b\b\b\b\b\b\b\b\b\b\b\b\b\b\b\b\b\b\b\b\b\b                              \b\b\b\b\b\b\b\b\b\b\b\b\b\b\b\b\b\b\b\b\b\b\b\b\b\b\b\b\b\b 75% 11 - corpus/Văn hóa.txt\b\b\b\b\b\b\b\b\b\b\b\b\b\b\b\b\b\b\b\b\b\b\b\b\b\b\b\b\b\b                              \b\b\b\b\b\b\b\b\b\b\b\b\b\b\b\b\b\b\b\b\b\b\b\b\b\b\b\b\b\b 76% 11 - corpus/Văn hóa.txt\b\b\b\b\b\b\b\b\b\b\b\b\b\b\b\b\b\b\b\b\b\b\b\b\b\b\b\b\b\b                              \b\b\b\b\b\b\b\b\b\b\b\b\b\b\b\b\b\b\b\b\b\b\b\b\b\b\b\b\b\b 76% 12\b\b\b\b\b\b\b       \b\b\b\b\b\b\b 76% 12 - corpus/Xe cộ.txt\b\b\b\b\b\b\b\b\b\b\b\b\b\b\b\b\b\b\b\b\b\b\b\b\b\b\b\b                            \b\b\b\b\b\b\b\b\b\b\b\b\b\b\b\b\b\b\b\b\b\b\b\b\b\b\b\b 77% 12 - corpus/Xe cộ.txt\b\b\b\b\b\b\b\b\b\b\b\b\b\b\b\b\b\b\b\b\b\b\b\b\b\b\b\b                            \b\b\b\b\b\b\b\b\b\b\b\b\b\b\b\b\b\b\b\b\b\b\b\b\b\b\b\b 78% 12 - corpus/Xe cộ.txt\b\b\b\b\b\b\b\b\b\b\b\b\b\b\b\b\b\b\b\b\b\b\b\b\b\b\b\b                            \b\b\b\b\b\b\b\b\b\b\b\b\b\b\b\b\b\b\b\b\b\b\b\b\b\b\b\b 78% 13\b\b\b\b\b\b\b       \b\b\b\b\b\b\b 78% 13 - corpus/Xã hội.txt\b\b\b\b\b\b\b\b\b\b\b\b\b\b\b\b\b\b\b\b\b\b\b\b\b\b\b\b\b\b                              \b\b\b\b\b\b\b\b\b\b\b\b\b\b\b\b\b\b\b\b\b\b\b\b\b\b\b\b\b\b 79% 13 - corpus/Xã hội.txt\b\b\b\b\b\b\b\b\b\b\b\b\b\b\b\b\b\b\b\b\b\b\b\b\b\b\b\b\b\b                              \b\b\b\b\b\b\b\b\b\b\b\b\b\b\b\b\b\b\b\b\b\b\b\b\b\b\b\b\b\b 80% 13 - corpus/Xã hội.txt\b\b\b\b\b\b\b\b\b\b\b\b\b\b\b\b\b\b\b\b\b\b\b\b\b\b\b\b\b\b                              \b\b\b\b\b\b\b\b\b\b\b\b\b\b\b\b\b\b\b\b\b\b\b\b\b\b\b\b\b\b 81% 13 - corpus/Xã hội.txt\b\b\b\b\b\b\b\b\b\b\b\b\b\b\b\b\b\b\b\b\b\b\b\b\b\b\b\b\b\b                              \b\b\b\b\b\b\b\b\b\b\b\b\b\b\b\b\b\b\b\b\b\b\b\b\b\b\b\b\b\b 82% 13 - corpus/Xã hội.txt\b\b\b\b\b\b\b\b\b\b\b\b\b\b\b\b\b\b\b\b\b\b\b\b\b\b\b\b\b\b                              \b\b\b\b\b\b\b\b\b\b\b\b\b\b\b\b\b\b\b\b\b\b\b\b\b\b\b\b\b\b 83% 13 - corpus/Xã hội.txt\b\b\b\b\b\b\b\b\b\b\b\b\b\b\b\b\b\b\b\b\b\b\b\b\b\b\b\b\b\b                              \b\b\b\b\b\b\b\b\b\b\b\b\b\b\b\b\b\b\b\b\b\b\b\b\b\b\b\b\b\b 84% 13 - corpus/Xã hội.txt\b\b\b\b\b\b\b\b\b\b\b\b\b\b\b\b\b\b\b\b\b\b\b\b\b\b\b\b\b\b                              \b\b\b\b\b\b\b\b\b\b\b\b\b\b\b\b\b\b\b\b\b\b\b\b\b\b\b\b\b\b 85% 13 - corpus/Xã hội.txt\b\b\b\b\b\b\b\b\b\b\b\b\b\b\b\b\b\b\b\b\b\b\b\b\b\b\b\b\b\b                              \b\b\b\b\b\b\b\b\b\b\b\b\b\b\b\b\b\b\b\b\b\b\b\b\b\b\b\b\b\b 86% 13 - corpus/Xã hội.txt\b\b\b\b\b\b\b\b\b\b\b\b\b\b\b\b\b\b\b\b\b\b\b\b\b\b\b\b\b\b                              \b\b\b\b\b\b\b\b\b\b\b\b\b\b\b\b\b\b\b\b\b\b\b\b\b\b\b\b\b\b 87% 13 - corpus/Xã hội.txt\b\b\b\b\b\b\b\b\b\b\b\b\b\b\b\b\b\b\b\b\b\b\b\b\b\b\b\b\b\b                              \b\b\b\b\b\b\b\b\b\b\b\b\b\b\b\b\b\b\b\b\b\b\b\b\b\b\b\b\b\b 88% 13 - corpus/Xã hội.txt\b\b\b\b\b\b\b\b\b\b\b\b\b\b\b\b\b\b\b\b\b\b\b\b\b\b\b\b\b\b                              \b\b\b\b\b\b\b\b\b\b\b\b\b\b\b\b\b\b\b\b\b\b\b\b\b\b\b\b\b\b 89% 13 - corpus/Xã hội.txt\b\b\b\b\b\b\b\b\b\b\b\b\b\b\b\b\b\b\b\b\b\b\b\b\b\b\b\b\b\b                              \b\b\b\b\b\b\b\b\b\b\b\b\b\b\b\b\b\b\b\b\b\b\b\b\b\b\b\b\b\b 90% 13 - corpus/Xã hội.txt\b\b\b\b\b\b\b\b\b\b\b\b\b\b\b\b\b\b\b\b\b\b\b\b\b\b\b\b\b\b                              \b\b\b\b\b\b\b\b\b\b\b\b\b\b\b\b\b\b\b\b\b\b\b\b\b\b\b\b\b\b 90% 14\b\b\b\b\b\b\b       \b\b\b\b\b\b\b 90% 14 - corpus/Đời sống.txt\b\b\b\b\b\b\b\b\b\b\b\b\b\b\b\b\b\b\b\b\b\b\b\b\b\b\b\b\b\b\b\b\b\b                                  \b\b\b\b\b\b\b\b\b\b\b\b\b\b\b\b\b\b\b\b\b\b\b\b\b\b\b\b\b\b\b\b\b\b 91% 14 - corpus/Đời sống.txt\b\b\b\b\b\b\b\b\b\b\b\b\b\b\b\b\b\b\b\b\b\b\b\b\b\b\b\b\b\b\b\b\b\b                                  \b\b\b\b\b\b\b\b\b\b\b\b\b\b\b\b\b\b\b\b\b\b\b\b\b\b\b\b\b\b\b\b\b\b 92% 14 - corpus/Đời sống.txt\b\b\b\b\b\b\b\b\b\b\b\b\b\b\b\b\b\b\b\b\b\b\b\b\b\b\b\b\b\b\b\b\b\b                                  \b\b\b\b\b\b\b\b\b\b\b\b\b\b\b\b\b\b\b\b\b\b\b\b\b\b\b\b\b\b\b\b\b\b 93% 14 - corpus/Đời sống.txt\b\b\b\b\b\b\b\b\b\b\b\b\b\b\b\b\b\b\b\b\b\b\b\b\b\b\b\b\b\b\b\b\b\b                                  \b\b\b\b\b\b\b\b\b\b\b\b\b\b\b\b\b\b\b\b\b\b\b\b\b\b\b\b\b\b\b\b\b\b 94% 14 - corpus/Đời sống.txt\b\b\b\b\b\b\b\b\b\b\b\b\b\b\b\b\b\b\b\b\b\b\b\b\b\b\b\b\b\b\b\b\b\b                                  \b\b\b\b\b\b\b\b\b\b\b\b\b\b\b\b\b\b\b\b\b\b\b\b\b\b\b\b\b\b\b\b\b\b 95% 14 - corpus/Đời sống.txt\b\b\b\b\b\b\b\b\b\b\b\b\b\b\b\b\b\b\b\b\b\b\b\b\b\b\b\b\b\b\b\b\b\b                                  \b\b\b\b\b\b\b\b\b\b\b\b\b\b\b\b\b\b\b\b\b\b\b\b\b\b\b\b\b\b\b\b\b\b 96% 14 - corpus/Đời sống.txt\b\b\b\b\b\b\b\b\b\b\b\b\b\b\b\b\b\b\b\b\b\b\b\b\b\b\b\b\b\b\b\b\b\b                                  \b\b\b\b\b\b\b\b\b\b\b\b\b\b\b\b\b\b\b\b\b\b\b\b\b\b\b\b\b\b\b\b\b\b 97% 14 - corpus/Đời sống.txt\b\b\b\b\b\b\b\b\b\b\b\b\b\b\b\b\b\b\b\b\b\b\b\b\b\b\b\b\b\b\b\b\b\b                                  \b\b\b\b\b\b\b\b\b\b\b\b\b\b\b\b\b\b\b\b\b\b\b\b\b\b\b\b\b\b\b\b\b\b 98% 14 - corpus/Đời sống.txt\b\b\b\b\b\b\b\b\b\b\b\b\b\b\b\b\b\b\b\b\b\b\b\b\b\b\b\b\b\b\b\b\b\b                                  \b\b\b\b\b\b\b\b\b\b\b\b\b\b\b\b\b\b\b\b\b\b\b\b\b\b\b\b\b\b\b\b\b\b 99% 14 - corpus/Đời sống.txt\b\b\b\b\b\b\b\b\b\b\b\b\b\b\b\b\b\b\b\b\b\b\b\b\b\b\b\b\b\b\b\b\b\b                                  \b\b\b\b\b\b\b\b\b\b\b\b\b\b\b\b\b\b\b\b\b\b\b\b\b\b\b\b\b\b\b\b\b\b100% 15\b\b\b\b\b\b\b       \b\b\b\b\b\b\bEverything is Ok\n",
            "\n",
            "Folders: 1\n",
            "Files: 14\n",
            "Size:       29812121566\n",
            "Compressed: 5326292134\n"
          ]
        }
      ]
    },
    {
      "cell_type": "code",
      "metadata": {
        "id": "DjQF4VtsjKYf"
      },
      "source": [
        "!cp -r /content/corpus /content/drive/Shareddrives/Anime_Olshiro/AIdata/news-corpus/"
      ],
      "execution_count": null,
      "outputs": []
    },
    {
      "cell_type": "code",
      "metadata": {
        "colab": {
          "base_uri": "https://localhost:8080/"
        },
        "id": "WYRkw2CdHjMk",
        "outputId": "dd473ea6-ba13-44d7-8d52-720939d97aa2"
      },
      "source": [
        "!pip install unidecode"
      ],
      "execution_count": null,
      "outputs": [
        {
          "output_type": "stream",
          "name": "stdout",
          "text": [
            "Collecting unidecode\n",
            "  Downloading Unidecode-1.3.2-py3-none-any.whl (235 kB)\n",
            "\u001b[K     |████████████████████████████████| 235 kB 5.3 MB/s \n",
            "\u001b[?25hInstalling collected packages: unidecode\n",
            "Successfully installed unidecode-1.3.2\n"
          ]
        }
      ]
    },
    {
      "cell_type": "markdown",
      "metadata": {
        "id": "MEjzpDtaBtyh"
      },
      "source": [
        "# Preprocess Data"
      ]
    },
    {
      "cell_type": "code",
      "metadata": {
        "id": "FRkMCQIqBxC6"
      },
      "source": [
        "import pandas as pd\n",
        "import glob\n",
        "import re"
      ],
      "execution_count": 2,
      "outputs": []
    },
    {
      "cell_type": "code",
      "metadata": {
        "id": "DzKLqex2GMm7",
        "colab": {
          "base_uri": "https://localhost:8080/",
          "height": 374
        },
        "outputId": "4b35c75b-5371-4d5e-acf6-53530d8f2578"
      },
      "source": [
        "import unidecode\n",
        " \n",
        "def remove_accent(text):\n",
        "    text = unidecode.unidecode(text)\n",
        "    text = text.replace(' ', '_')\n",
        "    text = text.lower()\n",
        "    return text"
      ],
      "execution_count": null,
      "outputs": [
        {
          "output_type": "error",
          "ename": "ModuleNotFoundError",
          "evalue": "ignored",
          "traceback": [
            "\u001b[0;31m---------------------------------------------------------------------------\u001b[0m",
            "\u001b[0;31mModuleNotFoundError\u001b[0m                       Traceback (most recent call last)",
            "\u001b[0;32m<ipython-input-3-607b6f520fa8>\u001b[0m in \u001b[0;36m<module>\u001b[0;34m()\u001b[0m\n\u001b[0;32m----> 1\u001b[0;31m \u001b[0;32mimport\u001b[0m \u001b[0munidecode\u001b[0m\u001b[0;34m\u001b[0m\u001b[0;34m\u001b[0m\u001b[0m\n\u001b[0m\u001b[1;32m      2\u001b[0m \u001b[0;34m\u001b[0m\u001b[0m\n\u001b[1;32m      3\u001b[0m \u001b[0;32mdef\u001b[0m \u001b[0mremove_accent\u001b[0m\u001b[0;34m(\u001b[0m\u001b[0mtext\u001b[0m\u001b[0;34m)\u001b[0m\u001b[0;34m:\u001b[0m\u001b[0;34m\u001b[0m\u001b[0;34m\u001b[0m\u001b[0m\n\u001b[1;32m      4\u001b[0m     \u001b[0mtext\u001b[0m \u001b[0;34m=\u001b[0m \u001b[0munidecode\u001b[0m\u001b[0;34m.\u001b[0m\u001b[0munidecode\u001b[0m\u001b[0;34m(\u001b[0m\u001b[0mtext\u001b[0m\u001b[0;34m)\u001b[0m\u001b[0;34m\u001b[0m\u001b[0;34m\u001b[0m\u001b[0m\n\u001b[1;32m      5\u001b[0m     \u001b[0mtext\u001b[0m \u001b[0;34m=\u001b[0m \u001b[0mtext\u001b[0m\u001b[0;34m.\u001b[0m\u001b[0mreplace\u001b[0m\u001b[0;34m(\u001b[0m\u001b[0;34m' '\u001b[0m\u001b[0;34m,\u001b[0m \u001b[0;34m'_'\u001b[0m\u001b[0;34m)\u001b[0m\u001b[0;34m\u001b[0m\u001b[0;34m\u001b[0m\u001b[0m\n",
            "\u001b[0;31mModuleNotFoundError\u001b[0m: No module named 'unidecode'",
            "",
            "\u001b[0;31m---------------------------------------------------------------------------\u001b[0;32m\nNOTE: If your import is failing due to a missing package, you can\nmanually install dependencies using either !pip or !apt.\n\nTo view examples of installing some common dependencies, click the\n\"Open Examples\" button below.\n\u001b[0;31m---------------------------------------------------------------------------\u001b[0m\n"
          ],
          "errorDetails": {
            "actions": [
              {
                "action": "open_url",
                "actionText": "Open Examples",
                "url": "/notebooks/snippets/importing_libraries.ipynb"
              }
            ]
          }
        }
      ]
    },
    {
      "cell_type": "code",
      "metadata": {
        "colab": {
          "base_uri": "https://localhost:8080/"
        },
        "id": "CSM0y4YXFcz2",
        "outputId": "34f41c43-3210-4f9a-bce7-9f7580fa53fa"
      },
      "source": [
        "for filename in glob.glob(\"/content/drive/Shareddrives/Anime_Olshiro/AIdata/news-corpus/csv_cate/*.csv\"):\n",
        "  new_name = remove_accent(filename.split('/')[-1].replace(' ', '_').lower())\n",
        "  print(filename)\n",
        "  df = pd.read_csv(filename, usecols=['title', 'sapo', 'cate'])\n",
        "  df = df[:15000]\n",
        "  df['cate'] = df['cate'].apply(remove_accent)\n",
        "  df.to_csv(\"/content/drive/Shareddrives/Anime_Olshiro/AIdata/news-corpus/cuted_v3/\" + new_name, index=False)\n",
        "  \n",
        "  "
      ],
      "execution_count": null,
      "outputs": [
        {
          "output_type": "stream",
          "name": "stdout",
          "text": [
            "/content/drive/Shareddrives/Anime_Olshiro/AIdata/news-corpus/csv_cate/Khoa học.csv\n",
            "/content/drive/Shareddrives/Anime_Olshiro/AIdata/news-corpus/csv_cate/Xe cộ.csv\n",
            "/content/drive/Shareddrives/Anime_Olshiro/AIdata/news-corpus/csv_cate/Công nghệ.csv\n",
            "/content/drive/Shareddrives/Anime_Olshiro/AIdata/news-corpus/csv_cate/Giáo dục.csv\n",
            "/content/drive/Shareddrives/Anime_Olshiro/AIdata/news-corpus/csv_cate/Nhà đất.csv\n",
            "/content/drive/Shareddrives/Anime_Olshiro/AIdata/news-corpus/csv_cate/Thể thao.csv\n",
            "/content/drive/Shareddrives/Anime_Olshiro/AIdata/news-corpus/csv_cate/Văn hóa.csv\n",
            "/content/drive/Shareddrives/Anime_Olshiro/AIdata/news-corpus/csv_cate/Thế giới.csv\n",
            "/content/drive/Shareddrives/Anime_Olshiro/AIdata/news-corpus/csv_cate/Đời sống.csv\n",
            "/content/drive/Shareddrives/Anime_Olshiro/AIdata/news-corpus/csv_cate/Giải trí.csv\n",
            "/content/drive/Shareddrives/Anime_Olshiro/AIdata/news-corpus/csv_cate/Xã hội.csv\n",
            "/content/drive/Shareddrives/Anime_Olshiro/AIdata/news-corpus/csv_cate/Pháp luật.csv\n",
            "/content/drive/Shareddrives/Anime_Olshiro/AIdata/news-corpus/csv_cate/Kinh tế.csv\n"
          ]
        }
      ]
    },
    {
      "cell_type": "markdown",
      "metadata": {
        "id": "cJ_mEdJ7Xsno"
      },
      "source": [
        "## Combine data"
      ]
    },
    {
      "cell_type": "code",
      "metadata": {
        "id": "Zh7bI6VBrwq4"
      },
      "source": [
        "df_final = pd.DataFrame(columns=['title', 'sapo', 'cate'])"
      ],
      "execution_count": null,
      "outputs": []
    },
    {
      "cell_type": "code",
      "metadata": {
        "id": "3fUQNzYszB9S"
      },
      "source": [
        "for filename in glob.glob(\"/content/drive/Shareddrives/Anime_Olshiro/AIdata/news-corpus/cuted_v3/*.csv\"):\n",
        "    temp = pd.read_csv(filename)\n",
        "    df_final = df_final.append(temp, ignore_index=True)"
      ],
      "execution_count": null,
      "outputs": []
    },
    {
      "cell_type": "code",
      "metadata": {
        "colab": {
          "base_uri": "https://localhost:8080/",
          "height": 414
        },
        "id": "ed5OEdavwwMB",
        "outputId": "3d4e14c8-2dce-405d-ad90-5bd801f4b2ad"
      },
      "source": [
        "df_final"
      ],
      "execution_count": null,
      "outputs": [
        {
          "output_type": "execute_result",
          "data": {
            "text/html": [
              "<div>\n",
              "<style scoped>\n",
              "    .dataframe tbody tr th:only-of-type {\n",
              "        vertical-align: middle;\n",
              "    }\n",
              "\n",
              "    .dataframe tbody tr th {\n",
              "        vertical-align: top;\n",
              "    }\n",
              "\n",
              "    .dataframe thead th {\n",
              "        text-align: right;\n",
              "    }\n",
              "</style>\n",
              "<table border=\"1\" class=\"dataframe\">\n",
              "  <thead>\n",
              "    <tr style=\"text-align: right;\">\n",
              "      <th></th>\n",
              "      <th>title</th>\n",
              "      <th>sapo</th>\n",
              "      <th>cate</th>\n",
              "    </tr>\n",
              "  </thead>\n",
              "  <tbody>\n",
              "    <tr>\n",
              "      <th>0</th>\n",
              "      <td>Thaco nhập khẩu lô xe ô tô BMW đầu tiên về Việ...</td>\n",
              "      <td>Ngày 28/12 vừa qua, lô xe ô tô BMW và MINI mới...</td>\n",
              "      <td>xe_co</td>\n",
              "    </tr>\n",
              "    <tr>\n",
              "      <th>1</th>\n",
              "      <td>Giá thuê Thuận Kiều Plaza tăng vọt sau khi 'đổ...</td>\n",
              "      <td>Sau khi được cải tạo, giá thuê mặt bằng bán lẻ...</td>\n",
              "      <td>nha_dat</td>\n",
              "    </tr>\n",
              "    <tr>\n",
              "      <th>2</th>\n",
              "      <td>Thủy điện là 'hung thủ' làm sạt lở Hội An</td>\n",
              "      <td>Nguyên nhân chính là do quá một nửa lượng bùn ...</td>\n",
              "      <td>xa_hoi</td>\n",
              "    </tr>\n",
              "    <tr>\n",
              "      <th>3</th>\n",
              "      <td>Bài 3: Vai trò phù hợp cho doanh nghiệp nhà nước</td>\n",
              "      <td>Hiện nay, doanh nghiệp nhà nước (DNNN) vẫn đan...</td>\n",
              "      <td>kinh_te</td>\n",
              "    </tr>\n",
              "    <tr>\n",
              "      <th>4</th>\n",
              "      <td>Núi lửa mạnh nhất Indoneisa phun trào khủng kh...</td>\n",
              "      <td>Trong khi mọi sự chú ý đang tập trung vào núi ...</td>\n",
              "      <td>khoa_hoc</td>\n",
              "    </tr>\n",
              "    <tr>\n",
              "      <th>...</th>\n",
              "      <td>...</td>\n",
              "      <td>...</td>\n",
              "      <td>...</td>\n",
              "    </tr>\n",
              "    <tr>\n",
              "      <th>193975</th>\n",
              "      <td>Phá thành công nhiều chuyên án về ma túy và ph...</td>\n",
              "      <td>Ngày 23-1, Đại tá Hà Xuân Phú, Chính trị viên ...</td>\n",
              "      <td>phap_luat</td>\n",
              "    </tr>\n",
              "    <tr>\n",
              "      <th>193976</th>\n",
              "      <td>Đồng Tháp: Tổ chức Lễ giỗ lần thứ 88 cụ Phó bả...</td>\n",
              "      <td>Ủy ban nhân dân tỉnh Đồng Tháp vừa ban hành Kế...</td>\n",
              "      <td>van_hoa</td>\n",
              "    </tr>\n",
              "    <tr>\n",
              "      <th>193977</th>\n",
              "      <td>Phó Chủ tịch Nguyễn Hữu Dũng trao quà, học bổn...</td>\n",
              "      <td>Nhân dịp Tết Nguyên đán Mậu Tuất 2018, ngày 29...</td>\n",
              "      <td>xa_hoi</td>\n",
              "    </tr>\n",
              "    <tr>\n",
              "      <th>193978</th>\n",
              "      <td>NASA công bố ảnh 'siêu bão' Vết Đỏ Lớn trên Sa...</td>\n",
              "      <td>Cơ quan Hàng không và Vũ trụ Mỹ (NASA) vừa côn...</td>\n",
              "      <td>khoa_hoc</td>\n",
              "    </tr>\n",
              "    <tr>\n",
              "      <th>193979</th>\n",
              "      <td>Sản phụ không tiền, đẻ rơi giữa đêm khiến hàng...</td>\n",
              "      <td>Trong căn phòng trọ ọp ẹp, đứa bé còn đỏ hỏn n...</td>\n",
              "      <td>doi_song</td>\n",
              "    </tr>\n",
              "  </tbody>\n",
              "</table>\n",
              "<p>193980 rows × 3 columns</p>\n",
              "</div>"
            ],
            "text/plain": [
              "                                                    title  ...       cate\n",
              "0       Thaco nhập khẩu lô xe ô tô BMW đầu tiên về Việ...  ...      xe_co\n",
              "1       Giá thuê Thuận Kiều Plaza tăng vọt sau khi 'đổ...  ...    nha_dat\n",
              "2               Thủy điện là 'hung thủ' làm sạt lở Hội An  ...     xa_hoi\n",
              "3        Bài 3: Vai trò phù hợp cho doanh nghiệp nhà nước  ...    kinh_te\n",
              "4       Núi lửa mạnh nhất Indoneisa phun trào khủng kh...  ...   khoa_hoc\n",
              "...                                                   ...  ...        ...\n",
              "193975  Phá thành công nhiều chuyên án về ma túy và ph...  ...  phap_luat\n",
              "193976  Đồng Tháp: Tổ chức Lễ giỗ lần thứ 88 cụ Phó bả...  ...    van_hoa\n",
              "193977  Phó Chủ tịch Nguyễn Hữu Dũng trao quà, học bổn...  ...     xa_hoi\n",
              "193978  NASA công bố ảnh 'siêu bão' Vết Đỏ Lớn trên Sa...  ...   khoa_hoc\n",
              "193979  Sản phụ không tiền, đẻ rơi giữa đêm khiến hàng...  ...   doi_song\n",
              "\n",
              "[193980 rows x 3 columns]"
            ]
          },
          "metadata": {},
          "execution_count": 4
        }
      ]
    },
    {
      "cell_type": "code",
      "metadata": {
        "id": "BiVRtLknnbjR"
      },
      "source": [
        "df_final = df_final[df_final['sapo'].str.len() > 20]"
      ],
      "execution_count": null,
      "outputs": []
    },
    {
      "cell_type": "code",
      "metadata": {
        "id": "kBGEcaVbz6yH"
      },
      "source": [
        "# shuffle data\n",
        "from sklearn.utils import shuffle\n",
        "df_final = shuffle(df_final)"
      ],
      "execution_count": null,
      "outputs": []
    },
    {
      "cell_type": "code",
      "metadata": {
        "id": "XwT1zaKrzby2"
      },
      "source": [
        "# df_final.to_csv('/content/drive/Shareddrives/Anime_Olshiro/AIdata/news-corpus/cuted_v3/train.csv', index=False)\n",
        "df_final = pd.read_csv('/content/drive/Shareddrives/Anime_Olshiro/AIdata/news-corpus/cuted_v3/train.csv')"
      ],
      "execution_count": null,
      "outputs": []
    },
    {
      "cell_type": "markdown",
      "metadata": {
        "id": "sMVQSG5oWCeS"
      },
      "source": [
        "## Importing Necessary Libraries"
      ]
    },
    {
      "cell_type": "code",
      "metadata": {
        "colab": {
          "base_uri": "https://localhost:8080/"
        },
        "id": "Ah3wctDU0iUy",
        "outputId": "63c60175-9744-4b15-9e1f-bfc03f5e13ba"
      },
      "source": [
        "!pip install transformers"
      ],
      "execution_count": 9,
      "outputs": [
        {
          "output_type": "stream",
          "name": "stdout",
          "text": [
            "Collecting transformers\n",
            "  Downloading transformers-4.15.0-py3-none-any.whl (3.4 MB)\n",
            "\u001b[K     |████████████████████████████████| 3.4 MB 5.3 MB/s \n",
            "\u001b[?25hCollecting tokenizers<0.11,>=0.10.1\n",
            "  Downloading tokenizers-0.10.3-cp37-cp37m-manylinux_2_5_x86_64.manylinux1_x86_64.manylinux_2_12_x86_64.manylinux2010_x86_64.whl (3.3 MB)\n",
            "\u001b[K     |████████████████████████████████| 3.3 MB 15.5 MB/s \n",
            "\u001b[?25hRequirement already satisfied: importlib-metadata in /usr/local/lib/python3.7/dist-packages (from transformers) (4.8.2)\n",
            "Collecting huggingface-hub<1.0,>=0.1.0\n",
            "  Downloading huggingface_hub-0.2.1-py3-none-any.whl (61 kB)\n",
            "\u001b[K     |████████████████████████████████| 61 kB 453 kB/s \n",
            "\u001b[?25hRequirement already satisfied: numpy>=1.17 in /usr/local/lib/python3.7/dist-packages (from transformers) (1.19.5)\n",
            "Requirement already satisfied: tqdm>=4.27 in /usr/local/lib/python3.7/dist-packages (from transformers) (4.62.3)\n",
            "Collecting pyyaml>=5.1\n",
            "  Downloading PyYAML-6.0-cp37-cp37m-manylinux_2_5_x86_64.manylinux1_x86_64.manylinux_2_12_x86_64.manylinux2010_x86_64.whl (596 kB)\n",
            "\u001b[K     |████████████████████████████████| 596 kB 59.2 MB/s \n",
            "\u001b[?25hRequirement already satisfied: regex!=2019.12.17 in /usr/local/lib/python3.7/dist-packages (from transformers) (2019.12.20)\n",
            "Collecting sacremoses\n",
            "  Downloading sacremoses-0.0.46-py3-none-any.whl (895 kB)\n",
            "\u001b[K     |████████████████████████████████| 895 kB 55.0 MB/s \n",
            "\u001b[?25hRequirement already satisfied: filelock in /usr/local/lib/python3.7/dist-packages (from transformers) (3.4.0)\n",
            "Requirement already satisfied: requests in /usr/local/lib/python3.7/dist-packages (from transformers) (2.23.0)\n",
            "Requirement already satisfied: packaging>=20.0 in /usr/local/lib/python3.7/dist-packages (from transformers) (21.3)\n",
            "Requirement already satisfied: typing-extensions>=3.7.4.3 in /usr/local/lib/python3.7/dist-packages (from huggingface-hub<1.0,>=0.1.0->transformers) (3.10.0.2)\n",
            "Requirement already satisfied: pyparsing!=3.0.5,>=2.0.2 in /usr/local/lib/python3.7/dist-packages (from packaging>=20.0->transformers) (3.0.6)\n",
            "Requirement already satisfied: zipp>=0.5 in /usr/local/lib/python3.7/dist-packages (from importlib-metadata->transformers) (3.6.0)\n",
            "Requirement already satisfied: urllib3!=1.25.0,!=1.25.1,<1.26,>=1.21.1 in /usr/local/lib/python3.7/dist-packages (from requests->transformers) (1.24.3)\n",
            "Requirement already satisfied: idna<3,>=2.5 in /usr/local/lib/python3.7/dist-packages (from requests->transformers) (2.10)\n",
            "Requirement already satisfied: chardet<4,>=3.0.2 in /usr/local/lib/python3.7/dist-packages (from requests->transformers) (3.0.4)\n",
            "Requirement already satisfied: certifi>=2017.4.17 in /usr/local/lib/python3.7/dist-packages (from requests->transformers) (2021.10.8)\n",
            "Requirement already satisfied: joblib in /usr/local/lib/python3.7/dist-packages (from sacremoses->transformers) (1.1.0)\n",
            "Requirement already satisfied: six in /usr/local/lib/python3.7/dist-packages (from sacremoses->transformers) (1.15.0)\n",
            "Requirement already satisfied: click in /usr/local/lib/python3.7/dist-packages (from sacremoses->transformers) (7.1.2)\n",
            "Installing collected packages: pyyaml, tokenizers, sacremoses, huggingface-hub, transformers\n",
            "  Attempting uninstall: pyyaml\n",
            "    Found existing installation: PyYAML 3.13\n",
            "    Uninstalling PyYAML-3.13:\n",
            "      Successfully uninstalled PyYAML-3.13\n",
            "Successfully installed huggingface-hub-0.2.1 pyyaml-6.0 sacremoses-0.0.46 tokenizers-0.10.3 transformers-4.15.0\n"
          ]
        }
      ]
    },
    {
      "cell_type": "code",
      "metadata": {
        "_cell_guid": "b1076dfc-b9ad-4769-8c92-a6c4dae69d19",
        "_uuid": "8f2839f25d086af736a60e9eeb907d3b93b6e0e5",
        "trusted": true,
        "id": "mwAdYvfHWCeT"
      },
      "source": [
        "import pandas as pd\n",
        "import numpy as nphello\n",
        "import numpy as np\n",
        "\n",
        "import tensorflow as tf\n",
        "import transformers #huggingface transformers library\n",
        "\n",
        "from sklearn.model_selection import train_test_split\n",
        "from sklearn.preprocessing import LabelEncoder\n",
        "import sklearn\n",
        "from sklearn.metrics import confusion_matrix\n",
        "\n",
        "import seaborn as sns\n",
        "import matplotlib.pyplot as plt"
      ],
      "execution_count": 10,
      "outputs": []
    },
    {
      "cell_type": "markdown",
      "metadata": {
        "id": "-l1Lsda4WCeU"
      },
      "source": [
        "## Configuration for TPUs\n",
        "\n",
        "The given news classifier is trained on using BERT model. Since, BERT is a very large model, it requires gpu's and tpu's to train quickly. Here, I have used TPU's provided by Kaggle to train this model."
      ]
    },
    {
      "cell_type": "code",
      "metadata": {
        "trusted": true,
        "id": "Yq4KHF9sWCeU",
        "colab": {
          "base_uri": "https://localhost:8080/"
        },
        "outputId": "f841eb1d-bf6f-4ba5-deff-d53ed1004f43"
      },
      "source": [
        "# Detect hardware, return appropriate distribution strategy\n",
        "try:\n",
        "    # TPU detection. No parameters necessary if TPU_NAME environment variable is\n",
        "    # set: this is always the case on Kaggle.\n",
        "    tpu = tf.distribute.cluster_resolver.TPUClusterResolver()\n",
        "    print('Running on TPU ', tpu.master())\n",
        "except ValueError:\n",
        "    tpu = None\n",
        "\n",
        "if tpu:\n",
        "    tf.config.experimental_connect_to_cluster(tpu)\n",
        "    tf.tpu.experimental.initialize_tpu_system(tpu)\n",
        "    strategy = tf.distribute.experimental.TPUStrategy(tpu)\n",
        "else:\n",
        "    # Default distribution strategy in Tensorflow. Works on CPU and single GPU.\n",
        "    strategy = tf.distribute.get_strategy()\n",
        "\n",
        "print(\"REPLICAS: \", strategy.num_replicas_in_sync)"
      ],
      "execution_count": 11,
      "outputs": [
        {
          "output_type": "stream",
          "name": "stderr",
          "text": [
            "INFO:absl:Entering into master device scope: /job:worker/replica:0/task:0/device:CPU:0\n"
          ]
        },
        {
          "output_type": "stream",
          "name": "stdout",
          "text": [
            "Running on TPU  grpc://10.15.95.130:8470\n",
            "INFO:tensorflow:Deallocate tpu buffers before initializing tpu system.\n"
          ]
        },
        {
          "output_type": "stream",
          "name": "stderr",
          "text": [
            "INFO:tensorflow:Deallocate tpu buffers before initializing tpu system.\n"
          ]
        },
        {
          "output_type": "stream",
          "name": "stdout",
          "text": [
            "INFO:tensorflow:Initializing the TPU system: grpc://10.15.95.130:8470\n"
          ]
        },
        {
          "output_type": "stream",
          "name": "stderr",
          "text": [
            "INFO:tensorflow:Initializing the TPU system: grpc://10.15.95.130:8470\n"
          ]
        },
        {
          "output_type": "stream",
          "name": "stdout",
          "text": [
            "INFO:tensorflow:Finished initializing TPU system.\n"
          ]
        },
        {
          "output_type": "stream",
          "name": "stderr",
          "text": [
            "INFO:tensorflow:Finished initializing TPU system.\n",
            "WARNING:absl:`tf.distribute.experimental.TPUStrategy` is deprecated, please use  the non experimental symbol `tf.distribute.TPUStrategy` instead.\n"
          ]
        },
        {
          "output_type": "stream",
          "name": "stdout",
          "text": [
            "INFO:tensorflow:Found TPU system:\n"
          ]
        },
        {
          "output_type": "stream",
          "name": "stderr",
          "text": [
            "INFO:tensorflow:Found TPU system:\n"
          ]
        },
        {
          "output_type": "stream",
          "name": "stdout",
          "text": [
            "INFO:tensorflow:*** Num TPU Cores: 8\n"
          ]
        },
        {
          "output_type": "stream",
          "name": "stderr",
          "text": [
            "INFO:tensorflow:*** Num TPU Cores: 8\n"
          ]
        },
        {
          "output_type": "stream",
          "name": "stdout",
          "text": [
            "INFO:tensorflow:*** Num TPU Workers: 1\n"
          ]
        },
        {
          "output_type": "stream",
          "name": "stderr",
          "text": [
            "INFO:tensorflow:*** Num TPU Workers: 1\n"
          ]
        },
        {
          "output_type": "stream",
          "name": "stdout",
          "text": [
            "INFO:tensorflow:*** Num TPU Cores Per Worker: 8\n"
          ]
        },
        {
          "output_type": "stream",
          "name": "stderr",
          "text": [
            "INFO:tensorflow:*** Num TPU Cores Per Worker: 8\n"
          ]
        },
        {
          "output_type": "stream",
          "name": "stdout",
          "text": [
            "INFO:tensorflow:*** Available Device: _DeviceAttributes(/job:localhost/replica:0/task:0/device:CPU:0, CPU, 0, 0)\n"
          ]
        },
        {
          "output_type": "stream",
          "name": "stderr",
          "text": [
            "INFO:tensorflow:*** Available Device: _DeviceAttributes(/job:localhost/replica:0/task:0/device:CPU:0, CPU, 0, 0)\n"
          ]
        },
        {
          "output_type": "stream",
          "name": "stdout",
          "text": [
            "INFO:tensorflow:*** Available Device: _DeviceAttributes(/job:worker/replica:0/task:0/device:CPU:0, CPU, 0, 0)\n"
          ]
        },
        {
          "output_type": "stream",
          "name": "stderr",
          "text": [
            "INFO:tensorflow:*** Available Device: _DeviceAttributes(/job:worker/replica:0/task:0/device:CPU:0, CPU, 0, 0)\n"
          ]
        },
        {
          "output_type": "stream",
          "name": "stdout",
          "text": [
            "INFO:tensorflow:*** Available Device: _DeviceAttributes(/job:worker/replica:0/task:0/device:TPU:0, TPU, 0, 0)\n"
          ]
        },
        {
          "output_type": "stream",
          "name": "stderr",
          "text": [
            "INFO:tensorflow:*** Available Device: _DeviceAttributes(/job:worker/replica:0/task:0/device:TPU:0, TPU, 0, 0)\n"
          ]
        },
        {
          "output_type": "stream",
          "name": "stdout",
          "text": [
            "INFO:tensorflow:*** Available Device: _DeviceAttributes(/job:worker/replica:0/task:0/device:TPU:1, TPU, 0, 0)\n"
          ]
        },
        {
          "output_type": "stream",
          "name": "stderr",
          "text": [
            "INFO:tensorflow:*** Available Device: _DeviceAttributes(/job:worker/replica:0/task:0/device:TPU:1, TPU, 0, 0)\n"
          ]
        },
        {
          "output_type": "stream",
          "name": "stdout",
          "text": [
            "INFO:tensorflow:*** Available Device: _DeviceAttributes(/job:worker/replica:0/task:0/device:TPU:2, TPU, 0, 0)\n"
          ]
        },
        {
          "output_type": "stream",
          "name": "stderr",
          "text": [
            "INFO:tensorflow:*** Available Device: _DeviceAttributes(/job:worker/replica:0/task:0/device:TPU:2, TPU, 0, 0)\n"
          ]
        },
        {
          "output_type": "stream",
          "name": "stdout",
          "text": [
            "INFO:tensorflow:*** Available Device: _DeviceAttributes(/job:worker/replica:0/task:0/device:TPU:3, TPU, 0, 0)\n"
          ]
        },
        {
          "output_type": "stream",
          "name": "stderr",
          "text": [
            "INFO:tensorflow:*** Available Device: _DeviceAttributes(/job:worker/replica:0/task:0/device:TPU:3, TPU, 0, 0)\n"
          ]
        },
        {
          "output_type": "stream",
          "name": "stdout",
          "text": [
            "INFO:tensorflow:*** Available Device: _DeviceAttributes(/job:worker/replica:0/task:0/device:TPU:4, TPU, 0, 0)\n"
          ]
        },
        {
          "output_type": "stream",
          "name": "stderr",
          "text": [
            "INFO:tensorflow:*** Available Device: _DeviceAttributes(/job:worker/replica:0/task:0/device:TPU:4, TPU, 0, 0)\n"
          ]
        },
        {
          "output_type": "stream",
          "name": "stdout",
          "text": [
            "INFO:tensorflow:*** Available Device: _DeviceAttributes(/job:worker/replica:0/task:0/device:TPU:5, TPU, 0, 0)\n"
          ]
        },
        {
          "output_type": "stream",
          "name": "stderr",
          "text": [
            "INFO:tensorflow:*** Available Device: _DeviceAttributes(/job:worker/replica:0/task:0/device:TPU:5, TPU, 0, 0)\n"
          ]
        },
        {
          "output_type": "stream",
          "name": "stdout",
          "text": [
            "INFO:tensorflow:*** Available Device: _DeviceAttributes(/job:worker/replica:0/task:0/device:TPU:6, TPU, 0, 0)\n"
          ]
        },
        {
          "output_type": "stream",
          "name": "stderr",
          "text": [
            "INFO:tensorflow:*** Available Device: _DeviceAttributes(/job:worker/replica:0/task:0/device:TPU:6, TPU, 0, 0)\n"
          ]
        },
        {
          "output_type": "stream",
          "name": "stdout",
          "text": [
            "INFO:tensorflow:*** Available Device: _DeviceAttributes(/job:worker/replica:0/task:0/device:TPU:7, TPU, 0, 0)\n"
          ]
        },
        {
          "output_type": "stream",
          "name": "stderr",
          "text": [
            "INFO:tensorflow:*** Available Device: _DeviceAttributes(/job:worker/replica:0/task:0/device:TPU:7, TPU, 0, 0)\n"
          ]
        },
        {
          "output_type": "stream",
          "name": "stdout",
          "text": [
            "INFO:tensorflow:*** Available Device: _DeviceAttributes(/job:worker/replica:0/task:0/device:TPU_SYSTEM:0, TPU_SYSTEM, 0, 0)\n"
          ]
        },
        {
          "output_type": "stream",
          "name": "stderr",
          "text": [
            "INFO:tensorflow:*** Available Device: _DeviceAttributes(/job:worker/replica:0/task:0/device:TPU_SYSTEM:0, TPU_SYSTEM, 0, 0)\n"
          ]
        },
        {
          "output_type": "stream",
          "name": "stdout",
          "text": [
            "INFO:tensorflow:*** Available Device: _DeviceAttributes(/job:worker/replica:0/task:0/device:XLA_CPU:0, XLA_CPU, 0, 0)\n"
          ]
        },
        {
          "output_type": "stream",
          "name": "stderr",
          "text": [
            "INFO:tensorflow:*** Available Device: _DeviceAttributes(/job:worker/replica:0/task:0/device:XLA_CPU:0, XLA_CPU, 0, 0)\n"
          ]
        },
        {
          "output_type": "stream",
          "name": "stdout",
          "text": [
            "REPLICAS:  8\n"
          ]
        }
      ]
    },
    {
      "cell_type": "markdown",
      "metadata": {
        "id": "0VFkRuOjWCeV"
      },
      "source": [
        "## Preprocessing"
      ]
    },
    {
      "cell_type": "code",
      "metadata": {
        "trusted": true,
        "id": "of0e5TVqWCeW"
      },
      "source": [
        "# df = pd.read_csv('/content/drive/Shareddrives/Anime_Olshiro/AIdata/news-corpus/csv_cate_cuted/data_combine.csv')\n",
        "df = df_final.reset_index(drop=True)\n",
        "df.head()"
      ],
      "execution_count": null,
      "outputs": []
    },
    {
      "cell_type": "code",
      "metadata": {
        "trusted": true,
        "id": "QFRThuzMWCeY"
      },
      "source": [
        "# count numbers of class\n",
        "print(f\"The dataset contains { df.cate.nunique() } unique categories\")"
      ],
      "execution_count": null,
      "outputs": []
    },
    {
      "cell_type": "code",
      "metadata": {
        "trusted": true,
        "id": "dmeArWkLWCeZ"
      },
      "source": [
        "# label encoding the categories with sklearn. After this each category would be mapped to an integer.\n",
        "encoder = LabelEncoder()\n",
        "# df['cateEncoded'] = encoder.fit_transform(df['cate'])\n",
        "df_train['cateEncoded'] = encoder.fit_transform(df_train['class'])\n",
        "df_test['cateEncoded'] = encoder.fit_transform(df_test['class'])"
      ],
      "execution_count": null,
      "outputs": []
    },
    {
      "cell_type": "code",
      "metadata": {
        "trusted": true,
        "id": "WHfWHNkqWCea"
      },
      "source": [
        "# We are using PhoBert-Large base on BERT-Large, so we need to lowercase word\n",
        "df['title'] = df['title'].apply(lambda title: str(title).lower())\n",
        "df['sapo'] = df['sapo'].apply(lambda sapo: str(sapo).lower())"
      ],
      "execution_count": null,
      "outputs": []
    },
    {
      "cell_type": "code",
      "metadata": {
        "trusted": true,
        "id": "AeytnmXqWCeb"
      },
      "source": [
        "# calculating the length of headlines and descriptions\n",
        "df['sapo_len'] = df['sapo'].apply(lambda x: len(str(x).split()))\n",
        "df['title_len'] = df['title'].apply(lambda x: len(str(x).split()))"
      ],
      "execution_count": null,
      "outputs": []
    },
    {
      "cell_type": "code",
      "metadata": {
        "trusted": true,
        "id": "eGeRwrK2WCec",
        "colab": {
          "base_uri": "https://localhost:8080/",
          "height": 294
        },
        "outputId": "01c87841-4b7d-4753-c017-609dbc6996e4"
      },
      "source": [
        "df.describe()"
      ],
      "execution_count": null,
      "outputs": [
        {
          "output_type": "execute_result",
          "data": {
            "text/html": [
              "<div>\n",
              "<style scoped>\n",
              "    .dataframe tbody tr th:only-of-type {\n",
              "        vertical-align: middle;\n",
              "    }\n",
              "\n",
              "    .dataframe tbody tr th {\n",
              "        vertical-align: top;\n",
              "    }\n",
              "\n",
              "    .dataframe thead th {\n",
              "        text-align: right;\n",
              "    }\n",
              "</style>\n",
              "<table border=\"1\" class=\"dataframe\">\n",
              "  <thead>\n",
              "    <tr style=\"text-align: right;\">\n",
              "      <th></th>\n",
              "      <th>cateEncoded</th>\n",
              "      <th>sapo_len</th>\n",
              "      <th>title_len</th>\n",
              "    </tr>\n",
              "  </thead>\n",
              "  <tbody>\n",
              "    <tr>\n",
              "      <th>count</th>\n",
              "      <td>193980.000000</td>\n",
              "      <td>193980.000000</td>\n",
              "      <td>193980.000000</td>\n",
              "    </tr>\n",
              "    <tr>\n",
              "      <th>mean</th>\n",
              "      <td>5.999804</td>\n",
              "      <td>40.254573</td>\n",
              "      <td>12.497556</td>\n",
              "    </tr>\n",
              "    <tr>\n",
              "      <th>std</th>\n",
              "      <td>3.741922</td>\n",
              "      <td>17.731674</td>\n",
              "      <td>3.373412</td>\n",
              "    </tr>\n",
              "    <tr>\n",
              "      <th>min</th>\n",
              "      <td>0.000000</td>\n",
              "      <td>4.000000</td>\n",
              "      <td>1.000000</td>\n",
              "    </tr>\n",
              "    <tr>\n",
              "      <th>25%</th>\n",
              "      <td>3.000000</td>\n",
              "      <td>29.000000</td>\n",
              "      <td>10.000000</td>\n",
              "    </tr>\n",
              "    <tr>\n",
              "      <th>50%</th>\n",
              "      <td>6.000000</td>\n",
              "      <td>36.000000</td>\n",
              "      <td>12.000000</td>\n",
              "    </tr>\n",
              "    <tr>\n",
              "      <th>75%</th>\n",
              "      <td>9.000000</td>\n",
              "      <td>47.000000</td>\n",
              "      <td>14.000000</td>\n",
              "    </tr>\n",
              "    <tr>\n",
              "      <th>max</th>\n",
              "      <td>12.000000</td>\n",
              "      <td>440.000000</td>\n",
              "      <td>59.000000</td>\n",
              "    </tr>\n",
              "  </tbody>\n",
              "</table>\n",
              "</div>"
            ],
            "text/plain": [
              "         cateEncoded       sapo_len      title_len\n",
              "count  193980.000000  193980.000000  193980.000000\n",
              "mean        5.999804      40.254573      12.497556\n",
              "std         3.741922      17.731674       3.373412\n",
              "min         0.000000       4.000000       1.000000\n",
              "25%         3.000000      29.000000      10.000000\n",
              "50%         6.000000      36.000000      12.000000\n",
              "75%         9.000000      47.000000      14.000000\n",
              "max        12.000000     440.000000      59.000000"
            ]
          },
          "metadata": {},
          "execution_count": 14
        }
      ]
    },
    {
      "cell_type": "code",
      "metadata": {
        "_kg_hide-input": true,
        "trusted": true,
        "id": "dtiD14AZWCec",
        "colab": {
          "base_uri": "https://localhost:8080/",
          "height": 351
        },
        "outputId": "6bfa54f8-378d-41e4-c03c-3e70d7db2c2b"
      },
      "source": [
        "sns.distplot(df['sapo_len'])\n",
        "plt.title('Description Number of Words')\n",
        "plt.show()"
      ],
      "execution_count": null,
      "outputs": [
        {
          "output_type": "stream",
          "name": "stderr",
          "text": [
            "/usr/local/lib/python3.7/dist-packages/seaborn/distributions.py:2619: FutureWarning: `distplot` is a deprecated function and will be removed in a future version. Please adapt your code to use either `displot` (a figure-level function with similar flexibility) or `histplot` (an axes-level function for histograms).\n",
            "  warnings.warn(msg, FutureWarning)\n"
          ]
        },
        {
          "output_type": "display_data",
          "data": {
            "image/png": "[encoded data removed]",
            "text/plain": [
              "<Figure size 432x288 with 1 Axes>"
            ]
          },
          "metadata": {
            "needs_background": "light"
          }
        }
      ]
    },
    {
      "cell_type": "code",
      "metadata": {
        "_kg_hide-input": true,
        "trusted": true,
        "id": "vXPww02KWCed",
        "colab": {
          "base_uri": "https://localhost:8080/",
          "height": 351
        },
        "outputId": "f45d6d91-1c1a-445a-a0b2-041903742c5e"
      },
      "source": [
        "sns.distplot(df['title_len'])\n",
        "plt.title('Headline Number of Words')\n",
        "plt.show()"
      ],
      "execution_count": null,
      "outputs": [
        {
          "output_type": "stream",
          "name": "stderr",
          "text": [
            "/usr/local/lib/python3.7/dist-packages/seaborn/distributions.py:2619: FutureWarning: `distplot` is a deprecated function and will be removed in a future version. Please adapt your code to use either `displot` (a figure-level function with similar flexibility) or `histplot` (an axes-level function for histograms).\n",
            "  warnings.warn(msg, FutureWarning)\n"
          ]
        },
        {
          "output_type": "display_data",
          "data": {
            "image/png": "[encoded data removed]",
            "text/plain": [
              "<Figure size 432x288 with 1 Axes>"
            ]
          },
          "metadata": {
            "needs_background": "light"
          }
        }
      ]
    },
    {
      "cell_type": "markdown",
      "metadata": {
        "id": "ofbI75XQWCed"
      },
      "source": [
        "As we can see, that there are a lot of samples that have a description length of 0, however almost all articles have a headline. Going with the intuition that the headline is often more descriptive of the category of the news, as well as to provide more text data to the model, I add news headlines to the short description and modify the description of the news samples."
      ]
    },
    {
      "cell_type": "code",
      "metadata": {
        "trusted": true,
        "id": "1OowG7d1WCee"
      },
      "source": [
        "df['combine'] = df['title'] + df['sapo']"
      ],
      "execution_count": null,
      "outputs": []
    },
    {
      "cell_type": "code",
      "metadata": {
        "_kg_hide-input": true,
        "trusted": true,
        "id": "G64LRO5mWCee",
        "colab": {
          "base_uri": "https://localhost:8080/",
          "height": 336
        },
        "outputId": "1af7f016-a6c6-435c-d4fd-5c8928bf15d6"
      },
      "source": [
        "sns.distplot(df['title_len'] + df['sapo_len'])\n",
        "plt.title('Short Description Number of Words')\n",
        "plt.show()"
      ],
      "execution_count": null,
      "outputs": [
        {
          "output_type": "stream",
          "name": "stderr",
          "text": [
            "/usr/local/lib/python3.7/dist-packages/seaborn/distributions.py:2619: FutureWarning: `distplot` is a deprecated function and will be removed in a future version. Please adapt your code to use either `displot` (a figure-level function with similar flexibility) or `histplot` (an axes-level function for histograms).\n",
            "  warnings.warn(msg, FutureWarning)\n"
          ]
        },
        {
          "output_type": "display_data",
          "data": {
            "image/png": "[encoded data removed]",
            "text/plain": [
              "<Figure size 432x288 with 1 Axes>"
            ]
          },
          "metadata": {
            "needs_background": "light"
          }
        }
      ]
    },
    {
      "cell_type": "code",
      "metadata": {
        "id": "jpMfUt-MK5AH"
      },
      "source": [
        "import re\n",
        "import six\n",
        "def process(text):\n",
        "  text = str(text)\n",
        "  text = re.sub('((www\\.[^\\s]+)|(https?://[^\\s]+))', 'URL', text)\n",
        "  text = re.sub('@[^\\s]+', 'AT_ABC', text)\n",
        "  text = re.sub(r'\\n', ' ', text)\n",
        "  text = re.sub(r'([\\w]+\\) )', '.', text)\n",
        "  text = re.sub(r'([\\d]+\\. )', '', text)\n",
        "  text = re.sub(r'[^aAàÀảẢãÃáÁạẠăĂằẰẳẲẵẴắẮặẶâÂầẦẩẨẫẪấẤậẬbBcCdDđĐeEèÈẻẺẽẼéÉẹẸêÊềỀểỂễỄếẾệỆfFgGhHiIìÌỉỈĩĨíÍịỊjJkKlLmMnNoOòÒỏỎõÕóÓọỌôÔồỒổỔỗỖốỐộỘơƠờỜởỞỡỠớỚợỢpPqQrRsStTuUùÙủỦũŨúÚụỤưƯừỪửỬữỮứỨựỰvVwWxXyYỳỲỷỶỹỸýÝỵỴzZ0-9., ]', '', text)\n",
        "#   text = text.replace('.', '. ')\n",
        "#   text = text.replace(' .', '. ')\n",
        "  text = re.sub(r'[\\s]+', ' ', text)\n",
        "  text = text.strip('.')\n",
        "  text = text.strip('\\'\"')\n",
        "  text = text.strip()\n",
        "#   text = text.lower()\n",
        "  return text"
      ],
      "execution_count": null,
      "outputs": []
    },
    {
      "cell_type": "code",
      "metadata": {
        "id": "QW2tuT3TyTky"
      },
      "source": [
        "df['combine'] = df['combine'].apply(process)"
      ],
      "execution_count": null,
      "outputs": []
    },
    {
      "cell_type": "code",
      "metadata": {
        "id": "YST9BmKVy-PD"
      },
      "source": [
        "# df.to_csv('/content/drive/Shareddrives/Anime_Olshiro/AIdata/news-corpus/cuted_v3/processed_csv.csv', index=False)\n",
        "import pandas as pd\n",
        "df = pd.read_csv('/content/drive/Shareddrives/Anime_Olshiro/AIdata/news-corpus/cuted_v3/processed_csv.csv')"
      ],
      "execution_count": null,
      "outputs": []
    },
    {
      "cell_type": "markdown",
      "metadata": {
        "id": "6ZgmZ4t_xlCP"
      },
      "source": [
        "## VNTC Dataset"
      ]
    },
    {
      "cell_type": "code",
      "metadata": {
        "id": "fwgKWJyWxm5X"
      },
      "source": [
        "!cp -r /content/drive/Shareddrives/Anime_Olshiro/AIdata/VNTC_processed /content"
      ],
      "execution_count": 3,
      "outputs": []
    },
    {
      "cell_type": "code",
      "metadata": {
        "id": "SBrAhAK_yNkc"
      },
      "source": [
        "df_train = pd.read_csv('/content/VNTC_processed/processed_data.csv')\n",
        "df_test = pd.read_csv('/content/VNTC_processed/processed_data_test.csv')"
      ],
      "execution_count": 4,
      "outputs": []
    },
    {
      "cell_type": "code",
      "metadata": {
        "colab": {
          "base_uri": "https://localhost:8080/",
          "height": 35
        },
        "id": "GzMZbbMozY3N",
        "outputId": "d17ee5b0-21e3-4de2-e1fd-cd7ad50fbcc1"
      },
      "source": [
        "# normalize label\n",
        "def _underscore(text):\n",
        "    text = text.replace(' ', '_')\n",
        "    # text = combine_class(text)\n",
        "    return text\n",
        "\n",
        "def combine_class(text):\n",
        "    if text == 'Hackers_va_Virus':\n",
        "        return 'Tin_hoc'\n",
        "    if text == 'San_pham_tin_hoc_moi':\n",
        "        return 'Tin_hoc'\n",
        "    if text == 'Giai_tri_tin_hoc':\n",
        "        return 'Tin_hoc'\n",
        "    return text\n",
        "    \n",
        "_underscore(df_train.loc[1]['class'])"
      ],
      "execution_count": 5,
      "outputs": [
        {
          "output_type": "execute_result",
          "data": {
            "application/vnd.google.colaboratory.intrinsic+json": {
              "type": "string"
            },
            "text/plain": [
              "'Am_nhac'"
            ]
          },
          "metadata": {},
          "execution_count": 5
        }
      ]
    },
    {
      "cell_type": "code",
      "metadata": {
        "id": "ryCtBt0mH7qE"
      },
      "source": [
        "df_train"
      ],
      "execution_count": null,
      "outputs": []
    },
    {
      "cell_type": "code",
      "metadata": {
        "id": "j2-Y8jnazG2A"
      },
      "source": [
        "# shuffle dataset\n",
        "from sklearn.utils import shuffle\n",
        "df_train = shuffle(df_train, random_state=23)\n",
        "df_train.reset_index(inplace=True, drop=True)\n",
        "df_train['class'] = df_train['class'].apply(_underscore)\n",
        "df_test['class'] = df_test['class'].apply(_underscore)\n",
        "# df_test = shuffle(df_test, random_state=23)\n",
        "# df_test.reset_index(inplace=True, drop=True)"
      ],
      "execution_count": 6,
      "outputs": []
    },
    {
      "cell_type": "code",
      "source": [
        "#25 class\n",
        "print(len(set(df_train['class'])))\n",
        "set(df_train['class'])\n"
      ],
      "metadata": {
        "colab": {
          "base_uri": "https://localhost:8080/"
        },
        "id": "GpSj407lJ5yZ",
        "outputId": "23ef95ae-3a3a-4317-b096-15972004e7f5"
      },
      "execution_count": 7,
      "outputs": [
        {
          "output_type": "stream",
          "name": "stdout",
          "text": [
            "27\n"
          ]
        },
        {
          "output_type": "execute_result",
          "data": {
            "text/plain": [
              "{'Am_nhac',\n",
              " 'Am_thuc',\n",
              " 'Bat_dong_san',\n",
              " 'Bong_da',\n",
              " 'Chung_khoan',\n",
              " 'Cum_ga',\n",
              " 'Cuoc_song_do_day',\n",
              " 'Du_hoc',\n",
              " 'Du_lich',\n",
              " 'Duong_vao_WTO',\n",
              " 'Gia_dinh',\n",
              " 'Giai_tri_tin_hoc',\n",
              " 'Giao_duc',\n",
              " 'Gioi_tinh',\n",
              " 'Hackers_va_Virus',\n",
              " 'Hinh_su',\n",
              " 'Khong_gian_song',\n",
              " 'Kinh_doanh_quoc_te',\n",
              " 'Lam_dep',\n",
              " 'Loi_song',\n",
              " 'Mua_sam',\n",
              " 'My_thuat',\n",
              " 'San_khau_dien_anh',\n",
              " 'San_pham_tin_hoc_moi',\n",
              " 'Tennis',\n",
              " 'The_gioi_tre',\n",
              " 'Thoi_trang'}"
            ]
          },
          "metadata": {},
          "execution_count": 7
        }
      ]
    },
    {
      "cell_type": "code",
      "source": [
        "# label encoding the categories with sklearn. After this each category would be mapped to an integer.\n",
        "encoder = LabelEncoder()\n",
        "# df['cateEncoded'] = encoder.fit_transform(df['cate'])\n",
        "df_train['cateEncoded'] = encoder.fit_transform(df_train['class'])\n",
        "df_test['cateEncoded'] = encoder.fit_transform(df_test['class'])\n",
        "np.save('/content/drive/MyDrive/cache/classes.npy', encoder.classes_)"
      ],
      "metadata": {
        "id": "DDa6P7j9CmTS"
      },
      "execution_count": 12,
      "outputs": []
    },
    {
      "cell_type": "code",
      "source": [
        "import matplotlib.pyplot as plt\n",
        "import seaborn as sns\n",
        "\n",
        "plt.figure(figsize=(90,300))\n",
        "ax = sns.displot(df_train, x=\"class\", hue=\"class\")\n",
        "plt.show()"
      ],
      "metadata": {
        "colab": {
          "base_uri": "https://localhost:8080/",
          "height": 494
        },
        "id": "9zND9b7_MLPl",
        "outputId": "03794c54-5e65-43b9-dafe-9ea497dd31f9"
      },
      "execution_count": null,
      "outputs": [
        {
          "output_type": "display_data",
          "data": {
            "text/plain": [
              "<Figure size 6480x21600 with 0 Axes>"
            ]
          },
          "metadata": {}
        },
        {
          "output_type": "display_data",
          "data": {
            "image/png": "[encoded data removed]",
            "text/plain": [
              "<Figure size 512.625x360 with 1 Axes>"
            ]
          },
          "metadata": {
            "needs_background": "light"
          }
        }
      ]
    },
    {
      "cell_type": "markdown",
      "metadata": {
        "id": "KWlV9bZ3WCef"
      },
      "source": [
        "# Tokenizing\n",
        "\n",
        "* I use the PhoBert tokenize the given news descriptions. After splitting up the dataset into train and test, we encode both the training data and the testing data. \n",
        "* One more thing to notice is that we truncate the last part of the sentence when encoding it, thus adding the headlines to the front of the description means that our model will always have the headline of the news sample.\n",
        "* We also use Underthesea-toolkit instead of VNCoreNLP for better performance when getting the input of PhoBert"
      ]
    },
    {
      "cell_type": "code",
      "metadata": {
        "trusted": true,
        "id": "-CQ5QyyVWCef",
        "colab": {
          "base_uri": "https://localhost:8080/",
          "height": 234,
          "referenced_widgets": [
            "dde27bb60cdf4f43b5ddf9a081048bb5",
            "aec2bde992ea4e40ba8fd2511b3e39c1",
            "0f134e7caa4a43d680c1f25c89a72d42",
            "8b06970d131648a98824d76ce7755e7c",
            "0094816d776149bcbea7fcf0cc7ceb4d",
            "851963b0a83e43a1bb1feb7dbcaaca6c",
            "f09f2cc2ee9649c98b4619d137411251",
            "6619bde6ded04d3a90e3efea63a14c60",
            "bee248f3d0434ccfa8991482781d7db6",
            "b7df123f5b3c42eab9861da3a2b53f45",
            "b6133a675baf4d5aaeaaad04d5995354",
            "f8904f59401b4057991d9a25a7abd273",
            "9814be815ad04b3a9d4a6e9f5cafeabc",
            "ad19430c734440e18fa71f2a882b6845",
            "a857957dcfa340f88f8fbc81be08ac60",
            "f08786ae628f4a149ec0a70f342bfba1",
            "4b13edbdc78342c3853505d68eb1a57d",
            "97fa03dd21d0404d940a978a87da756a",
            "fe603c47eba34f9cb56f99d385c3f047",
            "9244253f098b4cdaabdf2832bfbaf2b6",
            "1f7759b9193946d4ad794a542094df6e",
            "d7d3671751084513bf55c91eab6928f7",
            "f3f24ef898224da39b3644b7f81cda71",
            "6360e55e266e4da9b159adc30e6617a4",
            "6661967928fe41c7a6c39d02d7a45d8e",
            "6e4e2b26a11d4cf9a7f0a385794d1c37",
            "d3ea7b94a79444ebb5ec065237276c69",
            "a4b0578ecabf4e078abf030bdd06668a",
            "0212fb3b4aab4a2689c8c853555f2774",
            "5e0f1efa1e2a4b59ba66bf30e0bdb583",
            "cea4072f592b40d3a8697cdf07de556b",
            "df6a76524a8d4f939341ef8c25860bda",
            "e916f6800cc448ab8dee39ee15da84dd",
            "92fabe5fe02341d49b273ed3d01f64a3",
            "77096efe45d64a858414834c39be8b2a",
            "8e8d8faf52844333907510f9e8754eea",
            "f28ed959cc674eb88b4bfac211a6b059",
            "dd803329cf2249da82c888e7440f0c6a",
            "eed03ecb13304da9875b219bb335d620",
            "ee989cdbcafa4826bb2450fb637d4255",
            "dd4e59767ab347d4ad90f98ba15273a0",
            "3a4767d7a1ef4478b8719a35c0d43b4f",
            "6a370d05d06646fcaaa2b850155bda38",
            "e72678243caa4d4eb7d23d20c5c5d726"
          ]
        },
        "outputId": "ba3b4114-ada9-4b57-8eb9-befae55405fc"
      },
      "source": [
        "# PhoBert large uncased pretrained tokenizer\n",
        "import torch\n",
        "from transformers import AutoModel, AutoTokenizer\n",
        "phobert = AutoModel.from_pretrained(\"vinai/phobert-base\")\n",
        "tokenizer = AutoTokenizer.from_pretrained(\"vinai/phobert-base\")"
      ],
      "execution_count": 13,
      "outputs": [
        {
          "output_type": "display_data",
          "data": {
            "application/vnd.jupyter.widget-view+json": {
              "model_id": "dde27bb60cdf4f43b5ddf9a081048bb5",
              "version_minor": 0,
              "version_major": 2
            },
            "text/plain": [
              "Downloading:   0%|          | 0.00/557 [00:00<?, ?B/s]"
            ]
          },
          "metadata": {}
        },
        {
          "output_type": "display_data",
          "data": {
            "application/vnd.jupyter.widget-view+json": {
              "model_id": "f8904f59401b4057991d9a25a7abd273",
              "version_minor": 0,
              "version_major": 2
            },
            "text/plain": [
              "Downloading:   0%|          | 0.00/518M [00:00<?, ?B/s]"
            ]
          },
          "metadata": {}
        },
        {
          "output_type": "stream",
          "name": "stderr",
          "text": [
            "Some weights of the model checkpoint at vinai/phobert-base were not used when initializing RobertaModel: ['lm_head.layer_norm.bias', 'lm_head.bias', 'lm_head.dense.bias', 'lm_head.decoder.bias', 'lm_head.decoder.weight', 'lm_head.dense.weight', 'lm_head.layer_norm.weight']\n",
            "- This IS expected if you are initializing RobertaModel from the checkpoint of a model trained on another task or with another architecture (e.g. initializing a BertForSequenceClassification model from a BertForPreTraining model).\n",
            "- This IS NOT expected if you are initializing RobertaModel from the checkpoint of a model that you expect to be exactly identical (initializing a BertForSequenceClassification model from a BertForSequenceClassification model).\n"
          ]
        },
        {
          "output_type": "display_data",
          "data": {
            "application/vnd.jupyter.widget-view+json": {
              "model_id": "f3f24ef898224da39b3644b7f81cda71",
              "version_minor": 0,
              "version_major": 2
            },
            "text/plain": [
              "Downloading:   0%|          | 0.00/874k [00:00<?, ?B/s]"
            ]
          },
          "metadata": {}
        },
        {
          "output_type": "display_data",
          "data": {
            "application/vnd.jupyter.widget-view+json": {
              "model_id": "92fabe5fe02341d49b273ed3d01f64a3",
              "version_minor": 0,
              "version_major": 2
            },
            "text/plain": [
              "Downloading:   0%|          | 0.00/1.08M [00:00<?, ?B/s]"
            ]
          },
          "metadata": {}
        },
        {
          "output_type": "stream",
          "name": "stderr",
          "text": [
            "Special tokens have been added in the vocabulary, make sure the associated word embeddings are fine-tuned or trained.\n"
          ]
        }
      ]
    },
    {
      "cell_type": "markdown",
      "metadata": {
        "id": "lXvD3nISQwC4"
      },
      "source": [
        "## Example PhoBert"
      ]
    },
    {
      "cell_type": "code",
      "metadata": {
        "id": "WDnvTBagON_z",
        "colab": {
          "base_uri": "https://localhost:8080/"
        },
        "outputId": "138a6a09-1a03-4d67-d030-a2cf35cc967c"
      },
      "source": [
        "!pip install underthesea\n",
        "from underthesea import word_tokenize"
      ],
      "execution_count": 14,
      "outputs": [
        {
          "output_type": "stream",
          "name": "stdout",
          "text": [
            "Collecting underthesea\n",
            "  Downloading underthesea-1.3.3-py3-none-any.whl (7.5 MB)\n",
            "\u001b[K     |████████████████████████████████| 7.5 MB 4.6 MB/s \n",
            "\u001b[?25hCollecting unidecode\n",
            "  Downloading Unidecode-1.3.2-py3-none-any.whl (235 kB)\n",
            "\u001b[K     |████████████████████████████████| 235 kB 53.2 MB/s \n",
            "\u001b[?25hRequirement already satisfied: scikit-learn in /usr/local/lib/python3.7/dist-packages (from underthesea) (1.0.1)\n",
            "Requirement already satisfied: torch>=1.1.0 in /usr/local/lib/python3.7/dist-packages (from underthesea) (1.10.0+cu111)\n",
            "Collecting python-crfsuite>=0.9.6\n",
            "  Downloading python_crfsuite-0.9.7-cp37-cp37m-manylinux1_x86_64.whl (743 kB)\n",
            "\u001b[K     |████████████████████████████████| 743 kB 52.7 MB/s \n",
            "\u001b[?25hRequirement already satisfied: Click>=6.0 in /usr/local/lib/python3.7/dist-packages (from underthesea) (7.1.2)\n",
            "Requirement already satisfied: requests in /usr/local/lib/python3.7/dist-packages (from underthesea) (2.23.0)\n",
            "Requirement already satisfied: nltk in /usr/local/lib/python3.7/dist-packages (from underthesea) (3.2.5)\n",
            "Requirement already satisfied: PyYAML in /usr/local/lib/python3.7/dist-packages (from underthesea) (6.0)\n",
            "Requirement already satisfied: joblib in /usr/local/lib/python3.7/dist-packages (from underthesea) (1.1.0)\n",
            "Requirement already satisfied: tqdm in /usr/local/lib/python3.7/dist-packages (from underthesea) (4.62.3)\n",
            "Collecting seqeval\n",
            "  Downloading seqeval-1.2.2.tar.gz (43 kB)\n",
            "\u001b[K     |████████████████████████████████| 43 kB 1.7 MB/s \n",
            "\u001b[?25hRequirement already satisfied: transformers>=3.5.0 in /usr/local/lib/python3.7/dist-packages (from underthesea) (4.15.0)\n",
            "Requirement already satisfied: typing-extensions in /usr/local/lib/python3.7/dist-packages (from torch>=1.1.0->underthesea) (3.10.0.2)\n",
            "Requirement already satisfied: importlib-metadata in /usr/local/lib/python3.7/dist-packages (from transformers>=3.5.0->underthesea) (4.8.2)\n",
            "Requirement already satisfied: packaging>=20.0 in /usr/local/lib/python3.7/dist-packages (from transformers>=3.5.0->underthesea) (21.3)\n",
            "Requirement already satisfied: numpy>=1.17 in /usr/local/lib/python3.7/dist-packages (from transformers>=3.5.0->underthesea) (1.19.5)\n",
            "Requirement already satisfied: sacremoses in /usr/local/lib/python3.7/dist-packages (from transformers>=3.5.0->underthesea) (0.0.46)\n",
            "Requirement already satisfied: filelock in /usr/local/lib/python3.7/dist-packages (from transformers>=3.5.0->underthesea) (3.4.0)\n",
            "Requirement already satisfied: tokenizers<0.11,>=0.10.1 in /usr/local/lib/python3.7/dist-packages (from transformers>=3.5.0->underthesea) (0.10.3)\n",
            "Requirement already satisfied: huggingface-hub<1.0,>=0.1.0 in /usr/local/lib/python3.7/dist-packages (from transformers>=3.5.0->underthesea) (0.2.1)\n",
            "Requirement already satisfied: regex!=2019.12.17 in /usr/local/lib/python3.7/dist-packages (from transformers>=3.5.0->underthesea) (2019.12.20)\n",
            "Requirement already satisfied: pyparsing!=3.0.5,>=2.0.2 in /usr/local/lib/python3.7/dist-packages (from packaging>=20.0->transformers>=3.5.0->underthesea) (3.0.6)\n",
            "Requirement already satisfied: zipp>=0.5 in /usr/local/lib/python3.7/dist-packages (from importlib-metadata->transformers>=3.5.0->underthesea) (3.6.0)\n",
            "Requirement already satisfied: six in /usr/local/lib/python3.7/dist-packages (from nltk->underthesea) (1.15.0)\n",
            "Requirement already satisfied: idna<3,>=2.5 in /usr/local/lib/python3.7/dist-packages (from requests->underthesea) (2.10)\n",
            "Requirement already satisfied: chardet<4,>=3.0.2 in /usr/local/lib/python3.7/dist-packages (from requests->underthesea) (3.0.4)\n",
            "Requirement already satisfied: urllib3!=1.25.0,!=1.25.1,<1.26,>=1.21.1 in /usr/local/lib/python3.7/dist-packages (from requests->underthesea) (1.24.3)\n",
            "Requirement already satisfied: certifi>=2017.4.17 in /usr/local/lib/python3.7/dist-packages (from requests->underthesea) (2021.10.8)\n",
            "Requirement already satisfied: threadpoolctl>=2.0.0 in /usr/local/lib/python3.7/dist-packages (from scikit-learn->underthesea) (3.0.0)\n",
            "Requirement already satisfied: scipy>=1.1.0 in /usr/local/lib/python3.7/dist-packages (from scikit-learn->underthesea) (1.4.1)\n",
            "Building wheels for collected packages: seqeval\n",
            "  Building wheel for seqeval (setup.py) ... \u001b[?25l\u001b[?25hdone\n",
            "  Created wheel for seqeval: filename=seqeval-1.2.2-py3-none-any.whl size=16181 sha256=229764baecf1b9683e70a899ca616bc1d9c5ab458857a697fcba69794a0dcf1f\n",
            "  Stored in directory: /root/.cache/pip/wheels/05/96/ee/7cac4e74f3b19e3158dce26a20a1c86b3533c43ec72a549fd7\n",
            "Successfully built seqeval\n",
            "Installing collected packages: unidecode, seqeval, python-crfsuite, underthesea\n",
            "Successfully installed python-crfsuite-0.9.7 seqeval-1.2.2 underthesea-1.3.3 unidecode-1.3.2\n"
          ]
        }
      ]
    },
    {
      "cell_type": "code",
      "metadata": {
        "id": "NUOmyDaLOQ6k"
      },
      "source": [
        "text = \"Ông Nguyễn Khắc Chúc  đang làm việc tại Đại học Quốc gia Hà Nội. Bà Lan, vợ ông Chúc, cũng làm việc tại đây.\"\n",
        "line = word_tokenize(text, format='text')\n",
        "line1 = [\"Ông Nguyễn_Khắc_Chúc đang làm_việc tại Đại_học Quốc_gia Hà_Nội .\" ,\"Bà Lan , vợ ông Chúc , cũng làm_việc tại đây .\"]\n"
      ],
      "execution_count": null,
      "outputs": []
    },
    {
      "cell_type": "code",
      "metadata": {
        "colab": {
          "base_uri": "https://localhost:8080/"
        },
        "id": "m1UNBCd1Qvhe",
        "outputId": "46d93e37-1f48-4abb-8663-51755d8602af"
      },
      "source": [
        "input_ids = torch.tensor([tokenizer.encode(line)])\n",
        "\n",
        "with torch.no_grad():\n",
        "    features = phobert(input_ids)\n",
        "features"
      ],
      "execution_count": null,
      "outputs": [
        {
          "output_type": "execute_result",
          "data": {
            "text/plain": [
              "BaseModelOutputWithPoolingAndCrossAttentions([('last_hidden_state',\n",
              "                                               tensor([[[ 0.3459,  0.7764, -0.0490,  ...,  0.1140, -0.2760,  0.2951],\n",
              "                                                        [-0.0873,  0.4043, -0.3629,  ..., -0.2063, -0.0411, -0.6207],\n",
              "                                                        [-0.0210,  0.1194, -0.1941,  ..., -0.1501, -0.1011,  0.0008],\n",
              "                                                        ...,\n",
              "                                                        [ 0.3760, -0.1998, -0.1219,  ..., -0.0852, -0.2473, -0.0744],\n",
              "                                                        [ 0.2507,  0.2947, -0.1905,  ..., -0.1548, -0.1768,  0.0507],\n",
              "                                                        [ 0.1967,  0.6701,  0.0363,  ...,  0.1305, -0.5042,  0.2215]]])),\n",
              "                                              ('pooler_output',\n",
              "                                               tensor([[ 3.9863e-01,  2.0418e-01,  7.7671e-02, -8.6980e-02,  1.8128e-01,\n",
              "                                                        -3.9744e-03, -1.2167e-01, -1.7210e-01,  2.8434e-01, -1.5404e-01,\n",
              "                                                        -4.4683e-02, -1.1469e-01, -2.1096e-02, -3.9166e-01,  2.3198e-01,\n",
              "                                                        -2.1578e-01,  2.9176e-01,  1.5489e-01, -5.0355e-01, -7.9898e-03,\n",
              "                                                         9.1164e-02, -4.4484e-01,  2.6614e-01,  1.4877e-01,  1.1319e-01,\n",
              "                                                        -1.7281e-01, -2.0003e-01,  2.1097e-01,  9.3220e-02,  1.1900e-01,\n",
              "                                                        -5.2412e-02, -2.9726e-01,  1.7386e-01,  2.7574e-01, -1.0344e-01,\n",
              "                                                        -3.6071e-02, -4.4568e-01, -4.2544e-01, -4.7162e-02,  2.4477e-01,\n",
              "                                                         5.0813e-02,  3.0632e-01, -2.9189e-02, -1.9664e-01, -8.9079e-02,\n",
              "                                                         1.8327e-01,  1.8692e-01,  3.5619e-01, -2.9952e-01, -1.5267e-01,\n",
              "                                                         2.4600e-01, -1.1868e-02, -1.4299e-01, -8.5882e-02,  4.8926e-01,\n",
              "                                                        -3.1712e-01,  1.5927e-01,  4.1333e-01,  1.5104e-01,  1.6099e-01,\n",
              "                                                         2.8844e-01,  2.0756e-01, -3.0590e-01,  5.8164e-02,  8.2087e-02,\n",
              "                                                         7.6149e-03,  2.5767e-01,  2.1922e-01,  1.7536e-02, -7.9564e-02,\n",
              "                                                         1.5231e-01, -2.4813e-01,  5.2063e-02, -1.6731e-01,  1.8916e-01,\n",
              "                                                        -1.7233e-01, -5.7197e-02, -2.2899e-01,  2.1097e-02,  2.2684e-01,\n",
              "                                                         2.3837e-01,  1.1722e-02, -2.7676e-01,  6.3227e-02,  6.1538e-02,\n",
              "                                                        -7.6034e-03,  2.4970e-01, -4.3046e-02,  5.9081e-02,  4.4176e-02,\n",
              "                                                         1.6681e-01, -1.3113e-01, -2.0597e-01, -4.6738e-02, -7.6633e-02,\n",
              "                                                        -1.2895e-01, -4.8038e-02, -1.3885e-01, -3.9049e-02, -2.1095e-01,\n",
              "                                                        -1.0695e-01,  2.4492e-01, -5.1752e-03, -5.5963e-01, -1.5226e-01,\n",
              "                                                        -3.0364e-01, -2.9989e-01, -8.6442e-02,  3.1576e-01, -4.6733e-01,\n",
              "                                                        -1.2805e-01,  7.0716e-02,  3.5411e-01,  2.1600e-01, -4.0675e-01,\n",
              "                                                        -2.0508e-01,  2.9861e-01,  1.0508e-01, -3.8026e-01,  4.9739e-03,\n",
              "                                                         2.4946e-01,  1.0796e-01,  2.9139e-01,  2.0014e-01, -2.4741e-01,\n",
              "                                                         3.8974e-01, -4.6110e-01, -7.7408e-02, -5.9121e-02,  2.2240e-02,\n",
              "                                                        -1.2265e-01,  2.2552e-01,  3.7312e-01, -4.0317e-01,  4.3700e-02,\n",
              "                                                        -1.8848e-01, -9.5007e-02,  1.5831e-02,  2.7669e-01, -1.3076e-01,\n",
              "                                                        -1.2092e-01, -2.9092e-02, -1.5286e-01, -2.9989e-01, -8.6484e-02,\n",
              "                                                        -7.4339e-02, -9.6446e-02, -1.5312e-01,  1.9769e-01,  1.4254e-01,\n",
              "                                                        -4.5171e-01,  9.7005e-03,  1.6147e-01,  2.0217e-01, -7.2789e-02,\n",
              "                                                        -7.7475e-02,  1.6215e-01,  8.1543e-02, -2.1461e-01,  8.1683e-02,\n",
              "                                                        -2.5674e-01,  2.3735e-01, -2.3482e-01, -2.2433e-01,  1.8321e-01,\n",
              "                                                         2.2231e-02,  8.7502e-02, -2.7134e-01, -1.8414e-01, -1.1768e-01,\n",
              "                                                        -4.2415e-01, -3.6714e-01, -3.7179e-01,  3.5846e-01,  1.7307e-01,\n",
              "                                                        -2.1936e-01,  8.2140e-02,  2.3229e-01, -4.0041e-01,  2.0287e-01,\n",
              "                                                         4.2243e-01, -1.6238e-01,  1.0995e-01,  3.3531e-01,  1.3925e-02,\n",
              "                                                        -3.6823e-01, -1.0593e-01, -1.2411e-02,  2.2977e-01,  3.6189e-03,\n",
              "                                                        -2.1078e-01,  2.2029e-01, -1.4808e-01, -9.2214e-02, -2.7360e-01,\n",
              "                                                        -1.3359e-01,  1.2416e-01,  1.5798e-01, -3.4217e-03, -2.4308e-01,\n",
              "                                                        -3.0082e-01,  1.6148e-01,  3.4717e-01,  1.4720e-01, -3.6981e-01,\n",
              "                                                         7.5606e-03, -2.3604e-02,  3.4607e-02, -9.4727e-02, -5.8304e-02,\n",
              "                                                        -1.4857e-01,  2.6023e-01,  7.3672e-03,  1.7092e-01,  1.7380e-01,\n",
              "                                                        -4.1517e-02,  3.2445e-01, -2.7689e-01, -1.5888e-01,  1.4311e-01,\n",
              "                                                        -1.9926e-01, -1.9635e-02,  8.1335e-02, -7.4831e-02, -2.6780e-01,\n",
              "                                                         1.2489e-01, -8.9161e-03, -1.0613e-02,  2.5673e-02, -1.7106e-01,\n",
              "                                                        -1.6946e-01,  2.8433e-01, -3.5075e-01,  2.7240e-01,  1.9279e-01,\n",
              "                                                        -2.3510e-01,  1.6571e-01,  2.0105e-01,  1.8490e-01,  7.7044e-02,\n",
              "                                                        -3.5233e-01,  1.3263e-01,  2.6627e-01,  8.4826e-02,  3.1285e-01,\n",
              "                                                         5.6488e-03, -3.2705e-01,  1.2751e-01, -1.2710e-01, -5.4512e-02,\n",
              "                                                         1.3035e-02,  1.0600e-01, -6.1112e-02, -9.7608e-02,  2.9499e-02,\n",
              "                                                        -1.2019e-01, -1.9634e-01,  3.0084e-01,  2.0471e-01, -5.0582e-02,\n",
              "                                                         8.3416e-03, -5.6745e-02, -1.3311e-01, -1.0023e-01, -7.0101e-02,\n",
              "                                                        -6.7399e-02,  1.4008e-01,  8.3649e-02,  2.0599e-01,  1.3243e-01,\n",
              "                                                         9.7421e-02,  5.3171e-03, -1.5298e-01, -1.8995e-01, -1.2326e-01,\n",
              "                                                        -1.0587e-03, -8.3899e-02,  8.6309e-02, -1.5851e-02, -3.3195e-02,\n",
              "                                                         1.1059e-02,  3.6538e-02, -1.1782e-01,  2.8545e-01,  6.5644e-02,\n",
              "                                                         4.3964e-01, -1.2177e-01, -7.3610e-02, -1.1715e-01, -1.4817e-01,\n",
              "                                                        -3.3662e-01, -1.2600e-02, -1.6495e-01,  5.2325e-03, -1.0880e-01,\n",
              "                                                        -3.7237e-01,  2.1817e-01, -1.3061e-02,  2.2045e-01,  5.4280e-01,\n",
              "                                                        -3.4574e-01, -9.4223e-02, -7.7225e-02, -2.0448e-01,  1.9970e-01,\n",
              "                                                        -2.3853e-01, -2.8382e-02,  2.3513e-02,  1.5305e-01, -3.9477e-02,\n",
              "                                                         1.0812e-01,  5.3472e-01,  6.1347e-01, -3.3699e-01, -2.8688e-02,\n",
              "                                                         2.9199e-01,  3.7973e-01,  8.7637e-02, -2.5282e-01, -1.2742e-01,\n",
              "                                                         3.0575e-01, -1.6550e-02, -2.6842e-02,  2.3165e-01, -2.4968e-02,\n",
              "                                                         2.2897e-02,  4.1567e-01,  8.5969e-02, -2.2295e-01,  4.6264e-02,\n",
              "                                                         5.3399e-02,  2.0363e-01,  7.6245e-02,  9.5673e-02,  1.0838e-01,\n",
              "                                                        -3.0365e-01, -4.1699e-01,  1.6994e-02, -6.0536e-02,  1.1298e-02,\n",
              "                                                         8.7492e-03, -2.1986e-01,  7.8528e-02, -2.3901e-01, -3.0983e-01,\n",
              "                                                         2.5212e-01, -3.5530e-02,  1.7695e-01,  5.1462e-02, -3.8017e-01,\n",
              "                                                        -1.3611e-02, -1.8452e-01, -3.4502e-01,  7.6407e-02, -2.4887e-02,\n",
              "                                                        -1.4577e-01,  1.9930e-01,  9.5213e-02, -2.5895e-01, -4.1976e-03,\n",
              "                                                         2.1635e-01,  9.4715e-02,  1.8316e-01,  1.6939e-01, -5.7873e-02,\n",
              "                                                         5.4073e-01,  2.6365e-01,  1.5379e-01,  2.7136e-02, -8.4802e-02,\n",
              "                                                         5.0269e-02,  7.5502e-02, -4.9367e-03,  3.6288e-02,  1.7889e-01,\n",
              "                                                         9.2597e-02, -2.1929e-01, -1.3487e-02,  1.5924e-01,  2.8421e-01,\n",
              "                                                         1.4910e-01, -4.9086e-02, -4.1784e-01, -3.2771e-01, -2.0212e-01,\n",
              "                                                        -3.7125e-01, -2.1776e-01,  1.1265e-01,  8.3916e-02,  3.3166e-01,\n",
              "                                                         1.5833e-01,  2.0558e-01, -3.5771e-01, -1.1062e-02, -1.3310e-01,\n",
              "                                                         4.0598e-03, -1.0387e-01,  2.5267e-01,  4.0752e-02,  2.8495e-01,\n",
              "                                                        -8.1295e-02,  1.0498e-01, -2.7077e-01, -1.1775e-01, -9.6775e-02,\n",
              "                                                         1.1858e-01,  1.4540e-01,  8.5633e-02, -4.1573e-02,  3.3851e-01,\n",
              "                                                         8.4274e-02,  3.2276e-02, -7.2152e-02,  1.8381e-01,  1.9026e-01,\n",
              "                                                         2.3352e-01,  7.9426e-02, -1.3089e-01,  6.1487e-02, -3.0276e-01,\n",
              "                                                        -9.0317e-02, -3.9867e-02, -1.1903e-01,  1.2739e-01, -2.5335e-01,\n",
              "                                                        -2.2198e-01, -9.4523e-02, -1.4757e-01,  2.0852e-01,  4.5146e-01,\n",
              "                                                         1.1508e-01, -2.1675e-01, -3.9638e-01, -2.5604e-01, -6.2412e-03,\n",
              "                                                         1.6248e-01, -1.7996e-02,  7.9797e-02,  2.7445e-01,  1.9025e-03,\n",
              "                                                         1.5861e-01,  1.2499e-01,  1.5317e-01, -2.6648e-01,  8.4207e-02,\n",
              "                                                        -1.5069e-01, -6.6419e-02, -1.9487e-01, -4.4341e-02, -6.8302e-02,\n",
              "                                                         2.3498e-01, -2.5395e-01, -1.6965e-01, -1.5362e-01,  2.9527e-01,\n",
              "                                                         8.9558e-02, -1.1891e-01,  3.5464e-01,  2.6675e-01, -1.0412e-01,\n",
              "                                                        -6.3463e-02,  1.5536e-01,  2.4008e-02, -7.4984e-02,  3.8820e-01,\n",
              "                                                        -1.2031e-01, -3.8644e-01,  1.0110e-01,  5.6518e-02, -3.2513e-01,\n",
              "                                                         8.8929e-02,  4.8188e-02, -3.0746e-02,  1.5270e-01,  1.7214e-01,\n",
              "                                                        -8.0219e-02, -7.1981e-02, -2.3120e-01, -4.7609e-01, -1.1682e-01,\n",
              "                                                        -2.1884e-02,  2.0510e-01,  2.4240e-01, -7.2931e-02, -1.1963e-02,\n",
              "                                                        -2.6766e-03,  9.7224e-02,  1.3742e-01,  8.2219e-02, -1.5561e-01,\n",
              "                                                        -3.8210e-02,  1.8936e-01,  3.4938e-01, -4.5777e-02,  1.9167e-01,\n",
              "                                                         2.7128e-01,  1.4813e-01, -4.3738e-02,  5.0009e-01,  9.8440e-02,\n",
              "                                                        -6.9214e-02,  4.1599e-02, -1.7645e-02,  6.2478e-02,  2.3666e-02,\n",
              "                                                         2.4143e-01, -2.3368e-01,  1.7834e-01,  3.8809e-01,  2.4206e-01,\n",
              "                                                        -1.0625e-01,  2.2974e-01,  3.2211e-01,  3.4115e-01,  2.8427e-02,\n",
              "                                                        -3.0016e-01,  1.3327e-01,  3.7615e-01,  1.4722e-01, -4.0260e-01,\n",
              "                                                        -2.4794e-01, -1.0336e-01,  2.2771e-01, -7.8945e-02,  1.1936e-01,\n",
              "                                                        -1.0022e-01, -2.1345e-01, -5.3980e-02, -1.9638e-01, -1.2743e-01,\n",
              "                                                        -1.1192e-01,  1.5222e-01,  7.6574e-02, -1.4362e-01, -1.5956e-01,\n",
              "                                                         4.8025e-02,  1.2965e-01, -1.9752e-01, -5.4216e-02, -1.6807e-01,\n",
              "                                                        -2.2185e-01,  1.2659e-03,  1.3698e-02,  1.5597e-01,  2.1554e-01,\n",
              "                                                         3.2955e-01,  1.5827e-01,  8.6453e-02,  2.8705e-01, -1.2920e-01,\n",
              "                                                         1.1366e-01,  2.5063e-01, -5.7379e-02, -1.4928e-01, -3.5763e-02,\n",
              "                                                        -1.3810e-01,  1.5856e-01, -1.4239e-01, -1.9780e-01,  9.6586e-02,\n",
              "                                                        -2.8315e-02, -1.9605e-01, -3.5364e-01,  2.1166e-01, -1.1657e-02,\n",
              "                                                        -2.9711e-02,  3.4034e-01, -3.5869e-01,  5.3284e-02, -2.5206e-01,\n",
              "                                                        -4.7346e-02,  1.2768e-01, -6.2229e-02, -8.0865e-02,  1.9778e-01,\n",
              "                                                         1.7555e-01,  3.5243e-02, -7.5425e-02, -3.2316e-02,  1.3445e-01,\n",
              "                                                         2.7297e-02,  6.5459e-02, -1.6101e-01,  1.7790e-02,  8.0005e-02,\n",
              "                                                         4.0361e-01, -5.4194e-02, -1.2585e-01,  5.7929e-02,  1.7109e-01,\n",
              "                                                         2.9962e-01, -3.8664e-01, -7.1378e-02, -3.7420e-01, -6.9140e-02,\n",
              "                                                         1.8622e-01, -1.3504e-01,  1.3414e-02,  3.1178e-01, -1.7339e-01,\n",
              "                                                        -4.4630e-02,  2.7415e-01, -6.0880e-02, -1.7118e-01, -1.2561e-01,\n",
              "                                                        -1.4376e-01,  7.7255e-02, -3.4814e-03, -7.0694e-03, -6.4890e-02,\n",
              "                                                         1.6348e-01, -5.0249e-02, -2.3333e-01, -1.4076e-01, -1.1321e-01,\n",
              "                                                        -1.1504e-01, -2.5247e-01,  3.1139e-01,  2.0627e-01,  7.4478e-02,\n",
              "                                                         2.5370e-02, -9.3478e-02,  1.5895e-01,  3.1233e-01, -5.2871e-02,\n",
              "                                                        -2.7440e-01,  2.4407e-01, -2.4363e-02, -8.5085e-02, -5.4541e-02,\n",
              "                                                        -1.2488e-01, -9.8652e-02, -1.0644e-01, -1.2987e-01, -3.5631e-01,\n",
              "                                                         3.2131e-01,  3.6119e-02, -4.2380e-01, -1.4118e-01, -2.6498e-01,\n",
              "                                                         2.4136e-01,  1.9494e-01, -2.8808e-01, -2.4376e-01, -2.2712e-04,\n",
              "                                                        -1.0152e-01, -1.0752e-01,  2.4302e-01,  1.6073e-02,  9.2522e-02,\n",
              "                                                        -2.5547e-01,  6.9672e-02, -5.9976e-02,  1.5422e-01,  2.5208e-01,\n",
              "                                                        -2.5902e-01, -1.9014e-01,  8.4111e-03,  8.8380e-02, -1.1462e-01,\n",
              "                                                        -3.2630e-01,  7.2803e-02, -3.3203e-01,  2.6750e-01,  8.4820e-03,\n",
              "                                                         1.9213e-01, -8.7284e-02, -7.0927e-02, -2.8675e-01,  1.9455e-01,\n",
              "                                                         9.2596e-02, -2.8573e-03,  1.2173e-01, -3.9220e-02,  4.1562e-01,\n",
              "                                                         2.5479e-02, -2.9706e-01, -1.4842e-01, -4.6306e-01, -3.2866e-02,\n",
              "                                                         2.4779e-02, -2.1478e-01,  1.3216e-01, -1.3522e-01,  2.5844e-01,\n",
              "                                                         3.2614e-01,  2.5872e-01,  1.1859e-01,  5.8667e-02, -3.0462e-01,\n",
              "                                                        -1.1147e-01, -1.3367e-01, -1.6415e-01, -4.2211e-02, -1.9849e-01,\n",
              "                                                         8.2251e-02, -3.6528e-01, -3.3824e-01, -2.1235e-01, -7.3500e-02,\n",
              "                                                         4.6710e-02,  1.9178e-01, -3.0126e-01, -3.7025e-02,  4.2921e-03,\n",
              "                                                         2.0367e-01,  3.4449e-01, -1.9614e-01, -1.7598e-01, -7.6689e-02,\n",
              "                                                         3.3182e-02, -1.9298e-01,  3.2114e-01, -5.3248e-03, -2.2961e-01,\n",
              "                                                         2.7045e-01, -1.6971e-02, -1.2730e-01,  2.1222e-01,  4.4645e-02,\n",
              "                                                        -1.9627e-01, -1.0338e-01, -2.1675e-01, -1.2381e-01, -9.8624e-02,\n",
              "                                                         2.5843e-01, -2.3645e-02,  1.4456e-01,  1.8126e-01,  2.2286e-01,\n",
              "                                                         7.7904e-02,  2.7819e-01, -1.5502e-01,  4.4586e-02,  1.4271e-01,\n",
              "                                                         2.3289e-01, -2.3602e-01, -5.4199e-02,  2.8084e-01,  9.9854e-02,\n",
              "                                                         1.7311e-01,  1.1086e-02, -1.1105e-01,  2.7997e-01, -1.1797e-01,\n",
              "                                                         1.2576e-01, -2.9075e-02,  4.7902e-01, -6.9444e-03, -2.3625e-01,\n",
              "                                                        -3.4731e-03,  1.6629e-01, -1.7581e-01,  1.9667e-01,  1.6722e-01,\n",
              "                                                         1.1245e-01, -4.7685e-01, -5.0147e-03,  2.0415e-01, -4.0510e-02,\n",
              "                                                         8.7532e-02, -4.3873e-01,  2.8924e-01, -5.1009e-02, -3.8281e-02,\n",
              "                                                         1.7688e-01,  2.4676e-01,  5.6332e-02]]))])"
            ]
          },
          "metadata": {},
          "execution_count": 15
        }
      ]
    },
    {
      "cell_type": "code",
      "metadata": {
        "colab": {
          "base_uri": "https://localhost:8080/",
          "height": 234
        },
        "id": "Q-aYwUXETlSJ",
        "outputId": "780d397e-ed5a-4d30-b6c9-819b641d3cc2"
      },
      "source": [
        "tokenizer.batch_encode_plus(\n",
        "        line1,\n",
        "        return_token_type_ids=False,\n",
        "        pad_to_max_length=True,\n",
        "        max_length=512\n",
        "    )"
      ],
      "execution_count": null,
      "outputs": [
        {
          "output_type": "error",
          "ename": "NameError",
          "evalue": "ignored",
          "traceback": [
            "\u001b[0;31m---------------------------------------------------------------------------\u001b[0m",
            "\u001b[0;31mNameError\u001b[0m                                 Traceback (most recent call last)",
            "\u001b[0;32m<ipython-input-38-c138f8a61c7d>\u001b[0m in \u001b[0;36m<module>\u001b[0;34m()\u001b[0m\n\u001b[0;32m----> 1\u001b[0;31m tokenizer.batch_encode_plus(\n\u001b[0m\u001b[1;32m      2\u001b[0m         \u001b[0mline1\u001b[0m\u001b[0;34m,\u001b[0m\u001b[0;34m\u001b[0m\u001b[0;34m\u001b[0m\u001b[0m\n\u001b[1;32m      3\u001b[0m         \u001b[0mreturn_token_type_ids\u001b[0m\u001b[0;34m=\u001b[0m\u001b[0;32mFalse\u001b[0m\u001b[0;34m,\u001b[0m\u001b[0;34m\u001b[0m\u001b[0;34m\u001b[0m\u001b[0m\n\u001b[1;32m      4\u001b[0m         \u001b[0mpad_to_max_length\u001b[0m\u001b[0;34m=\u001b[0m\u001b[0;32mTrue\u001b[0m\u001b[0;34m,\u001b[0m\u001b[0;34m\u001b[0m\u001b[0;34m\u001b[0m\u001b[0m\n\u001b[1;32m      5\u001b[0m         \u001b[0mmax_length\u001b[0m\u001b[0;34m=\u001b[0m\u001b[0;36m512\u001b[0m\u001b[0;34m\u001b[0m\u001b[0;34m\u001b[0m\u001b[0m\n",
            "\u001b[0;31mNameError\u001b[0m: name 'tokenizer' is not defined"
          ]
        }
      ]
    },
    {
      "cell_type": "markdown",
      "metadata": {
        "id": "zMXBDpjDQ568"
      },
      "source": [
        "## Split data"
      ]
    },
    {
      "cell_type": "code",
      "metadata": {
        "id": "tbQ_WaLUVebK"
      },
      "source": [
        "def word_seg_dash(text):\n",
        "    return word_tokenize(text, format='text')"
      ],
      "execution_count": 15,
      "outputs": []
    },
    {
      "cell_type": "code",
      "metadata": {
        "_cell_guid": "79c7e3d0-c299-4dcb-8224-4455121ee9b0",
        "_uuid": "d629ff2d2480ee46fbb7e2d37f6b5fab8052498a",
        "trusted": true,
        "id": "Rm5-WHq3WCef"
      },
      "source": [
        "def regular_encode(texts, tokenizer, maxlen=512):\n",
        "    # word tokenize before input to bert\n",
        "    texts = list(map(word_seg_dash, texts))\n",
        "    # encode\n",
        "    enc_di = tokenizer.batch_encode_plus(\n",
        "        texts,\n",
        "        return_token_type_ids=False,\n",
        "        pad_to_max_length=True,\n",
        "        max_length=maxlen,\n",
        "    )\n",
        "    \n",
        "    return np.array(enc_di['input_ids'])"
      ],
      "execution_count": 16,
      "outputs": []
    },
    {
      "cell_type": "code",
      "metadata": {
        "trusted": true,
        "id": "p6tedwQbWCef"
      },
      "source": [
        "X_train,X_test ,y_train,y_test = train_test_split(df['combine'], df['cateEncoded'], random_state = 69, test_size = 0.2)"
      ],
      "execution_count": null,
      "outputs": []
    },
    {
      "cell_type": "code",
      "metadata": {
        "id": "PmgKhw0vyxk6"
      },
      "source": [
        "#VNTC\n",
        "X_train = df_train['content']\n",
        "y_train = df_train['cateEncoded']\n",
        "X_test = df_test['content']\n",
        "y_test = df_test['cateEncoded']"
      ],
      "execution_count": 17,
      "outputs": []
    },
    {
      "cell_type": "code",
      "metadata": {
        "colab": {
          "base_uri": "https://localhost:8080/",
          "height": 191
        },
        "id": "NSGYB4C5gljn",
        "outputId": "f0dea2c0-c8fc-451d-e8ce-a5e60c9ccf4f"
      },
      "source": [
        "X_train[5]"
      ],
      "execution_count": null,
      "outputs": [
        {
          "output_type": "execute_result",
          "data": {
            "application/vnd.google.colaboratory.intrinsic+json": {
              "type": "string"
            },
            "text/plain": [
              "'sở hữu hương thơm trước kia người ta thường có thói quen dùng duy nhất một loại nước hoa để mình có hương thơm đặc trưng không lẫn với ai bây giờ cảm giác dễ chịu tự tin cho người dùng mới là ưu tiên hàng đầu cùng một loại nước hoa nhưng bạn dùng lại không có hương thơm như người khác da của mỗi người có một phản ứng khác nhau để điều tiết sự biến đổi khi tiếp xúc với nước hoa chính vì vậy nếu bạn biết cách chọn loại nước hoa phù hợp bạn sẽ có một mùi thơm riêng nước hoa bao giờ cũng tỏa hương mạnh và lâu khi được thoa vào sau tai cổ cườm tay khuỷu tay và khe ngực đó là những điểm thân nhiệt cao và khá kín đáo cách này thường dùng với nước hoa nồng độ cao với bình xịt bạn có thể xịt vào không khí trước mặt rồi bước vào làn sương đó hơi nước hoa sẽ thấm đều và hương vương trên tóc sẽ lưu lại suốt cả ngày ngoài ra bạn còn có thể nhỏ vài giọt tinh dầu vào bồn tắm hoặc vào nước khi giũ quần áo tại sao bạn không bắt đầu một ngày mới với hương thơm nhè nhẹ của loại nước hoa có nồng độ thấp và hương mát cảm giác mát mẻ sảng khoái sẽ khiến bạn yêu đời hơn làm việc hiệu quả hơn hẳn còn buổi chiều có thể bạn vẫn giữ mùi hương lúc sáng nhưng cũng có thể dùng một loại hương khác hẳn mạnh hơn năng động hơn đây là lúc thích hợp cho eau de parfum và soie de parfum với hương hoa quả hoặc cây rừng buổi tối là thời gian hoàn toàn dành cho thư giãn nước hoa bỗng trở thành thế mạnh khiến bạn trở nên quyến rũ hơn bao giờ hết với hương thơm ngọt nồng nàn hoặc hơi sốc ấn tượng việc bảo quản nước hoa cũng khá phức tạp nhiệt độ cao và việc sơ ý quên đậy nắp lọ đều làm nước hoa biến chất các hãng nước hoa thường sản xuất các loại chai màu đục hoặc tối để tránh ánh nắng chiếu trực tiếp giữ nước hoa tốt nhất là những lọ màu xanh nước biển được đặt ở nơi mát mẻ khô ráo và nếu đã bị bóc tem thì nên cất trong hộp kín nước hoa không phải lúc nào cũng có hương như khi bạn vừa xịt ra khỏi lọ khi chọn nước hoa bạn nhớ xịt vào tay để thử phe phẩy độ vài phút rồi hãy tính xem có nên mua hay không loại nước hoa càng đậm đặc thì càng lâu tỏa đúng mùi nhanh nhất là phút một hãng nước hoa thường có nhiều loại hương với độ đậm đặc khác nhau chiết xuất từ những thảo mộc khác nhau cho từng giới từng độ tuổi từng thời điểm riêng bạn có thể dùng nước hoa mùa hè mùa đông ban ngày buổi tối chỉ của một hãng nhưng cũng có thể dùng kết hợp sản phẩm của nhiều hãng khác nhau nhưng nhớ đừng để chúng đánh lộn nhau đấy'"
            ]
          },
          "metadata": {},
          "execution_count": 22
        }
      ]
    },
    {
      "cell_type": "code",
      "metadata": {
        "colab": {
          "base_uri": "https://localhost:8080/"
        },
        "id": "gJl_GcE8ifud",
        "outputId": "27d84698-aeab-49bc-be56-06feedf08f30"
      },
      "source": [
        "len(X_train)"
      ],
      "execution_count": null,
      "outputs": [
        {
          "output_type": "execute_result",
          "data": {
            "text/plain": [
              "14375"
            ]
          },
          "metadata": {},
          "execution_count": 23
        }
      ]
    },
    {
      "cell_type": "code",
      "metadata": {
        "trusted": true,
        "id": "GrpI0McSWCeg",
        "colab": {
          "base_uri": "https://localhost:8080/"
        },
        "outputId": "10807653-14dc-4e77-f97c-2e7bafd7f5f3"
      },
      "source": [
        "# tokenizing the news descriptions and converting the categories into one hot vectors using tf.keras.utils.to_categorical\n",
        "# we have 13 class, so num_classes=13\n",
        "Xtrain_encoded = regular_encode(X_train.astype('str'), tokenizer, maxlen=512)\n",
        "ytrain_encoded = tf.keras.utils.to_categorical(y_train, num_classes=27,dtype = 'int32')\n",
        "Xtest_encoded = regular_encode(X_test.astype('str'), tokenizer, maxlen=512)\n",
        "ytest_encoded = tf.keras.utils.to_categorical(y_test, num_classes=27,dtype = 'int32')"
      ],
      "execution_count": null,
      "outputs": [
        {
          "output_type": "stream",
          "name": "stderr",
          "text": [
            "Truncation was not explicitly activated but `max_length` is provided a specific value, please use `truncation=True` to explicitly truncate examples to max length. Defaulting to 'longest_first' truncation strategy. If you encode pairs of sequences (GLUE-style) with the tokenizer you can select this strategy more precisely by providing a specific strategy to `truncation`.\n",
            "/usr/local/lib/python3.7/dist-packages/transformers/tokenization_utils_base.py:2232: FutureWarning: The `pad_to_max_length` argument is deprecated and will be removed in a future version, use `padding=True` or `padding='longest'` to pad to the longest sequence in the batch, or use `padding='max_length'` to pad to a max length. In this case, you can give a specific length with `max_length` (e.g. `max_length=45`) or leave max_length to None to pad to the maximal input size of the model (e.g. 512 for Bert).\n",
            "  FutureWarning,\n"
          ]
        }
      ]
    },
    {
      "cell_type": "code",
      "metadata": {
        "id": "3XIF7RKXDqGB"
      },
      "source": [
        "with open('/content/drive/Shareddrives/Anime_Olshiro/AIdata/VNTC_processed/data_npy_v2/x_train.npy', 'wb') as f:\n",
        "    np.save(f, Xtrain_encoded)\n",
        "f.close()    \n",
        "with open('/content/drive/Shareddrives/Anime_Olshiro/AIdata/VNTC_processed/data_npy_v2/y_train.npy', 'wb') as f:\n",
        "    np.save(f, ytrain_encoded)\n",
        "f.close()\n",
        "with open('/content/drive/Shareddrives/Anime_Olshiro/AIdata/VNTC_processed/data_npy_v2/x_test.npy', 'wb') as f:\n",
        "    np.save(f, Xtest_encoded)\n",
        "f.close()\n",
        "with open('/content/drive/Shareddrives/Anime_Olshiro/AIdata/VNTC_processed/data_npy_v2/y_test.npy', 'wb') as f:\n",
        "    np.save(f, ytest_encoded)\n",
        "f.close()"
      ],
      "execution_count": null,
      "outputs": []
    },
    {
      "cell_type": "code",
      "source": [
        "!mkdir data_npy"
      ],
      "metadata": {
        "id": "laDEukrxeMBb"
      },
      "execution_count": null,
      "outputs": []
    },
    {
      "cell_type": "code",
      "source": [
        "with open('/content/data_npy/x_train.npy', 'wb') as f:\n",
        "    np.save(f, Xtrain_encoded)\n",
        "f.close()    \n",
        "with open('/content/data_npy/y_train.npy', 'wb') as f:\n",
        "    np.save(f, ytrain_encoded)\n",
        "f.close()\n",
        "with open('/content/data_npy/x_test.npy', 'wb') as f:\n",
        "    np.save(f, Xtest_encoded)\n",
        "f.close()\n",
        "with open('/content/data_npy/y_test.npy', 'wb') as f:\n",
        "    np.save(f, ytest_encoded)\n",
        "f.close()"
      ],
      "metadata": {
        "id": "eDqZBvaleJx2"
      },
      "execution_count": null,
      "outputs": []
    },
    {
      "cell_type": "code",
      "source": [
        "!gsutil cp -r data_npy gs://zalobert/"
      ],
      "metadata": {
        "colab": {
          "base_uri": "https://localhost:8080/"
        },
        "id": "OKAXRmJ3eYmt",
        "outputId": "42e46e46-b7cc-493f-c402-677407b7659d"
      },
      "execution_count": null,
      "outputs": [
        {
          "output_type": "stream",
          "name": "stdout",
          "text": [
            "Copying file://data_npy/y_train.npy [Content-Type=application/octet-stream]...\n",
            "Copying file://data_npy/y_test.npy [Content-Type=application/octet-stream]...\n",
            "Copying file://data_npy/x_test.npy [Content-Type=application/octet-stream]...\n",
            "Copying file://data_npy/x_train.npy [Content-Type=application/octet-stream]...\n",
            "\\ [4 files][105.8 MiB/105.8 MiB]                                                \n",
            "Operation completed over 4 objects/105.8 MiB.                                    \n"
          ]
        }
      ]
    },
    {
      "cell_type": "code",
      "metadata": {
        "id": "fRB7RGUmjucx"
      },
      "source": [
        "Xtrain_encoded = np.load('/content/drive/Shareddrives/Anime_Olshiro/AIdata/VNTC_processed/data_npy_v2/x_train.npy')\n",
        "ytrain_encoded = np.load('/content/drive/Shareddrives/Anime_Olshiro/AIdata/VNTC_processed/data_npy_v2/y_train.npy')\n",
        "Xtest_encoded = np.load('/content/drive/Shareddrives/Anime_Olshiro/AIdata/VNTC_processed/data_npy_v2/x_test.npy')\n",
        "ytest_encoded = np.load('/content/drive/Shareddrives/Anime_Olshiro/AIdata/VNTC_processed/data_npy_v2/y_test.npy')"
      ],
      "execution_count": 18,
      "outputs": []
    },
    {
      "cell_type": "code",
      "source": [
        "Xtrain_encoded.shape"
      ],
      "metadata": {
        "colab": {
          "base_uri": "https://localhost:8080/"
        },
        "id": "0ZDiP90kuwIT",
        "outputId": "3a5eb76d-c1af-4189-f2f7-5fdbcb1f4c10"
      },
      "execution_count": null,
      "outputs": [
        {
          "output_type": "execute_result",
          "data": {
            "text/plain": [
              "(14375, 512)"
            ]
          },
          "metadata": {},
          "execution_count": 15
        }
      ]
    },
    {
      "cell_type": "code",
      "source": [
        "ytrain_encoded.shape"
      ],
      "metadata": {
        "colab": {
          "base_uri": "https://localhost:8080/"
        },
        "id": "qyOcHQWArONp",
        "outputId": "b29ee28b-a922-4250-8e22-1a9cf7cd26fc"
      },
      "execution_count": null,
      "outputs": [
        {
          "output_type": "execute_result",
          "data": {
            "text/plain": [
              "(14375, 27)"
            ]
          },
          "metadata": {},
          "execution_count": 16
        }
      ]
    },
    {
      "cell_type": "markdown",
      "metadata": {
        "id": "gEyVRQJ2WCeg"
      },
      "source": [
        "# Building the model"
      ]
    },
    {
      "cell_type": "code",
      "metadata": {
        "id": "yL6KFJK0ku0f"
      },
      "source": [
        "%load_ext tensorboard\n",
        "import os"
      ],
      "execution_count": 19,
      "outputs": []
    },
    {
      "cell_type": "code",
      "metadata": {
        "id": "5Mw_MjmN6zYS"
      },
      "source": [
        "from google.colab import auth\n",
        "auth.authenticate_user()"
      ],
      "execution_count": null,
      "outputs": []
    },
    {
      "cell_type": "code",
      "metadata": {
        "trusted": true,
        "id": "jsS_VS2UWCeg"
      },
      "source": [
        "def build_model(transformer, loss='categorical_crossentropy', max_len=512):\n",
        "    input_word_ids = tf.keras.layers.Input(shape=(max_len,), dtype=tf.int32, name=\"input_word_ids\")\n",
        "    sequence_output = transformer(input_word_ids)[0]\n",
        "    cls_token = sequence_output[:, 0, :]\n",
        "    #adding dropout layer\n",
        "    x = tf.keras.layers.Dropout(0.3)(cls_token)\n",
        "    #using a dense layer of 13 neurons as the number of unique categories is 40. \n",
        "    # out = tf.keras.layers.Dense(27, activation='softmax')(x)\n",
        "    out1 = tf.keras.layers.Dense(784, activation='relu')(x)\n",
        "    out2 = tf.keras.layers.Dropout(0.1)(out1)\n",
        "    out3 = tf.keras.layers.Dense(392, activation='relu')(out2)\n",
        "    out4 = tf.keras.layers.Dropout(0.1)(out3)\n",
        "    out5 = tf.keras.layers.Dense(196, activation='relu')(out4)\n",
        "    out6 = tf.keras.layers.Dropout(0.1)(out5)\n",
        "    out7 = tf.keras.layers.Dense(98, activation='relu')(out6)\n",
        "    # out8 = tf.keras.layers.Dropout(0.1)(out7)\n",
        "    out9 = tf.keras.layers.Dense(27, activation='softmax')(out7)\n",
        "    model = tf.keras.Model(inputs=input_word_ids, outputs=out9)\n",
        "    #using categorical crossentropy as the loss as it is a multi-class classification problem\n",
        "    # resign loss\n",
        "    lossF = tf.keras.losses.CategoricalCrossentropy(from_logits=True)\n",
        "    \n",
        "    model.compile(tf.keras.optimizers.Adam(lr=3e-5, beta_1=0.9, beta_2=0.999), loss=lossF, metrics=['accuracy'])\n",
        "    return model"
      ],
      "execution_count": 20,
      "outputs": []
    },
    {
      "cell_type": "code",
      "metadata": {
        "trusted": true,
        "id": "LMbycl6OsSK9"
      },
      "source": [
        "def build_model(transformer, loss='categorical_crossentropy', max_len=512):\n",
        "    input_word_ids = tf.keras.layers.Input(shape=(max_len,), dtype=tf.int32, name=\"input_word_ids\")\n",
        "    sequence_output = transformer(input_word_ids)[0]\n",
        "    cls_token = sequence_output[:, 0, :]\n",
        "    #adding dropout layer\n",
        "    x = tf.keras.layers.Dropout(0.3)(cls_token)\n",
        "    #using a dense layer of 13 neurons as the number of unique categories is 40. \n",
        "    # out = tf.keras.layers.Dense(27, activation='softmax')(x)\n",
        "    out1 = tf.keras.layers.Bidirectional(tf.keras.layers.LSTM(256,  return_sequences=True))(x),\n",
        "    out2 = tf.keras.layers.Bidirectional(tf.keras.layers.LSTM(128, activation='relu'))(out1),\n",
        "    out3 = tf.keras.layers.Bidirectional(tf.keras.layers.LSTM(64, activation='relu'))(ou2),\n",
        "    out4 = tf.keras.layers.Dense(64)(out)\n",
        "    out5 = tf.keras.layers.Dense(27, activation='softmax')(out4)\n",
        "    model = tf.keras.Model(inputs=input_word_ids, outputs=out5)\n",
        "    #using categorical crossentropy as the loss as it is a multi-class classification problem\n",
        "    # resign loss\n",
        "    lossF = tf.keras.losses.CategoricalCrossentropy(from_logits=True)\n",
        "    \n",
        "    model.compile(tf.keras.optimizers.Adam(lr=3e-5, beta_1=0.9, beta_2=0.999), loss=lossF, metrics=['accuracy'])\n",
        "    return model"
      ],
      "execution_count": null,
      "outputs": []
    },
    {
      "cell_type": "code",
      "metadata": {
        "trusted": true,
        "id": "fMFLCA08WCeg",
        "colab": {
          "base_uri": "https://localhost:8080/",
          "height": 937,
          "referenced_widgets": [
            "12a376f5b1d34c29b21fdc1fd3beacfe",
            "0eb65840edf14b4ca9d99b76bc405991",
            "ede2ed77e72947a893e9874e3ec0ea98",
            "b1e20f18e5f34716894e2b20c200d945",
            "51a0187d74fb442cb7d43952a6ab1fab",
            "d72617d4664444168d60ee9847d96fcc",
            "c7caf387ecb84e3fba25149ec8ab5e92",
            "2e2dcc7220a84560b4e371fcc3d0d1d4",
            "9cfa28b0b24743f9bc0265a41ce59b67",
            "a5701e7cc2c14fc980ef61f61ea7b183",
            "c3940f43c51d494088a0d2a896d576df"
          ]
        },
        "outputId": "3c209c68-c0f4-459a-e6a4-e2e2e1232c39"
      },
      "source": [
        "#building the model on tpu\n",
        "with strategy.scope():\n",
        "    transformer_layer = transformers.TFAutoModel.from_pretrained('vinai/phobert-base')\n",
        "    model = build_model(transformer_layer, max_len=512)\n",
        "model.summary()"
      ],
      "execution_count": 21,
      "outputs": [
        {
          "output_type": "display_data",
          "data": {
            "application/vnd.jupyter.widget-view+json": {
              "model_id": "12a376f5b1d34c29b21fdc1fd3beacfe",
              "version_minor": 0,
              "version_major": 2
            },
            "text/plain": [
              "Downloading:   0%|          | 0.00/706M [00:00<?, ?B/s]"
            ]
          },
          "metadata": {}
        },
        {
          "output_type": "stream",
          "name": "stderr",
          "text": [
            "Some layers from the model checkpoint at vinai/phobert-base were not used when initializing TFRobertaModel: ['lm_head']\n",
            "- This IS expected if you are initializing TFRobertaModel from the checkpoint of a model trained on another task or with another architecture (e.g. initializing a BertForSequenceClassification model from a BertForPreTraining model).\n",
            "- This IS NOT expected if you are initializing TFRobertaModel from the checkpoint of a model that you expect to be exactly identical (initializing a BertForSequenceClassification model from a BertForSequenceClassification model).\n",
            "All the layers of TFRobertaModel were initialized from the model checkpoint at vinai/phobert-base.\n",
            "If your task is similar to the task the model of the checkpoint was trained on, you can already use TFRobertaModel for predictions without further training.\n"
          ]
        },
        {
          "output_type": "stream",
          "name": "stdout",
          "text": [
            "Model: \"model\"\n",
            "_________________________________________________________________\n",
            " Layer (type)                Output Shape              Param #   \n",
            "=================================================================\n",
            " input_word_ids (InputLayer)  [(None, 512)]            0         \n",
            "                                                                 \n",
            " tf_roberta_model (TFRoberta  TFBaseModelOutputWithPoo  134998272\n",
            " Model)                      lingAndCrossAttentions(l            \n",
            "                             ast_hidden_state=(None,             \n",
            "                             512, 768),                          \n",
            "                              pooler_output=(None, 76            \n",
            "                             8),                                 \n",
            "                              past_key_values=None, h            \n",
            "                             idden_states=None, atten            \n",
            "                             tions=None, cross_attent            \n",
            "                             ions=None)                          \n",
            "                                                                 \n",
            " tf.__operators__.getitem (S  (None, 768)              0         \n",
            " licingOpLambda)                                                 \n",
            "                                                                 \n",
            " dropout_37 (Dropout)        (None, 768)               0         \n",
            "                                                                 \n",
            " dense (Dense)               (None, 784)               602896    \n",
            "                                                                 \n",
            " dropout_38 (Dropout)        (None, 784)               0         \n",
            "                                                                 \n",
            " dense_1 (Dense)             (None, 392)               307720    \n",
            "                                                                 \n",
            " dropout_39 (Dropout)        (None, 392)               0         \n",
            "                                                                 \n",
            " dense_2 (Dense)             (None, 196)               77028     \n",
            "                                                                 \n",
            " dropout_40 (Dropout)        (None, 196)               0         \n",
            "                                                                 \n",
            " dense_3 (Dense)             (None, 98)                19306     \n",
            "                                                                 \n",
            " dense_4 (Dense)             (None, 27)                2673      \n",
            "                                                                 \n",
            "=================================================================\n",
            "Total params: 136,007,895\n",
            "Trainable params: 136,007,895\n",
            "Non-trainable params: 0\n",
            "_________________________________________________________________\n"
          ]
        },
        {
          "output_type": "stream",
          "name": "stderr",
          "text": [
            "/usr/local/lib/python3.7/dist-packages/keras/optimizer_v2/adam.py:105: UserWarning: The `lr` argument is deprecated, use `learning_rate` instead.\n",
            "  super(Adam, self).__init__(name, **kwargs)\n"
          ]
        }
      ]
    },
    {
      "cell_type": "code",
      "metadata": {
        "trusted": true,
        "id": "_2NEPSXuzk3n",
        "colab": {
          "base_uri": "https://localhost:8080/",
          "height": 937,
          "referenced_widgets": [
            "09a089bcbfd64e4fb05d0eaac9518536",
            "ecbd400d70a3476b88714036f0056305",
            "3b9800d6b90e4b16ab12e3d03e7dc818",
            "cc9fe2570abc4ae681eb5b92e7419b88",
            "8986161797f1417c912e1ab26bf3f863",
            "6402af434a3749aca899c5e4b5822449",
            "d256466efbd14206971997db1cc3cbbe",
            "e21129a7a4aa465cb0bea299621dc217",
            "bc7eea27bf29498e8906c35ec6923c19",
            "89cd91500a304152a7d6f17ac3c44aaa",
            "a9e1206ec00e48369a29ca64f5733d30"
          ]
        },
        "outputId": "257f386e-5f5a-4e15-b979-0c9614197cea"
      },
      "source": [
        "#building the model on gpu\n",
        "transformer_layer = transformers.TFAutoModel.from_pretrained('vinai/phobert-base')\n",
        "model = build_model(transformer_layer, max_len=512)\n",
        "model.summary()"
      ],
      "execution_count": null,
      "outputs": [
        {
          "output_type": "display_data",
          "data": {
            "application/vnd.jupyter.widget-view+json": {
              "model_id": "09a089bcbfd64e4fb05d0eaac9518536",
              "version_minor": 0,
              "version_major": 2
            },
            "text/plain": [
              "Downloading:   0%|          | 0.00/706M [00:00<?, ?B/s]"
            ]
          },
          "metadata": {}
        },
        {
          "output_type": "stream",
          "name": "stderr",
          "text": [
            "Some layers from the model checkpoint at vinai/phobert-base were not used when initializing TFRobertaModel: ['lm_head']\n",
            "- This IS expected if you are initializing TFRobertaModel from the checkpoint of a model trained on another task or with another architecture (e.g. initializing a BertForSequenceClassification model from a BertForPreTraining model).\n",
            "- This IS NOT expected if you are initializing TFRobertaModel from the checkpoint of a model that you expect to be exactly identical (initializing a BertForSequenceClassification model from a BertForSequenceClassification model).\n",
            "All the layers of TFRobertaModel were initialized from the model checkpoint at vinai/phobert-base.\n",
            "If your task is similar to the task the model of the checkpoint was trained on, you can already use TFRobertaModel for predictions without further training.\n"
          ]
        },
        {
          "output_type": "stream",
          "name": "stdout",
          "text": [
            "Model: \"model\"\n",
            "_________________________________________________________________\n",
            " Layer (type)                Output Shape              Param #   \n",
            "=================================================================\n",
            " input_word_ids (InputLayer)  [(None, 512)]            0         \n",
            "                                                                 \n",
            " tf_roberta_model (TFRoberta  TFBaseModelOutputWithPoo  134998272\n",
            " Model)                      lingAndCrossAttentions(l            \n",
            "                             ast_hidden_state=(None,             \n",
            "                             512, 768),                          \n",
            "                              pooler_output=(None, 76            \n",
            "                             8),                                 \n",
            "                              past_key_values=None, h            \n",
            "                             idden_states=None, atten            \n",
            "                             tions=None, cross_attent            \n",
            "                             ions=None)                          \n",
            "                                                                 \n",
            " tf.__operators__.getitem (S  (None, 768)              0         \n",
            " licingOpLambda)                                                 \n",
            "                                                                 \n",
            " dropout_37 (Dropout)        (None, 768)               0         \n",
            "                                                                 \n",
            " dense (Dense)               (None, 784)               602896    \n",
            "                                                                 \n",
            " dropout_38 (Dropout)        (None, 784)               0         \n",
            "                                                                 \n",
            " dense_1 (Dense)             (None, 392)               307720    \n",
            "                                                                 \n",
            " dropout_39 (Dropout)        (None, 392)               0         \n",
            "                                                                 \n",
            " dense_2 (Dense)             (None, 196)               77028     \n",
            "                                                                 \n",
            " dropout_40 (Dropout)        (None, 196)               0         \n",
            "                                                                 \n",
            " dense_3 (Dense)             (None, 98)                19306     \n",
            "                                                                 \n",
            " dense_4 (Dense)             (None, 27)                2673      \n",
            "                                                                 \n",
            "=================================================================\n",
            "Total params: 136,007,895\n",
            "Trainable params: 136,007,895\n",
            "Non-trainable params: 0\n",
            "_________________________________________________________________\n"
          ]
        },
        {
          "output_type": "stream",
          "name": "stderr",
          "text": [
            "/usr/local/lib/python3.7/dist-packages/keras/optimizer_v2/adam.py:105: UserWarning: The `lr` argument is deprecated, use `learning_rate` instead.\n",
            "  super(Adam, self).__init__(name, **kwargs)\n"
          ]
        }
      ]
    },
    {
      "cell_type": "markdown",
      "metadata": {
        "id": "X_tXVlcEWCeg"
      },
      "source": [
        "## Training"
      ]
    },
    {
      "cell_type": "code",
      "metadata": {
        "trusted": true,
        "id": "DQ9uMroOWCeh"
      },
      "source": [
        "#creating the training and testing dataset.\n",
        "BATCH_SIZE = 16*strategy.num_replicas_in_sync #tpu\n",
        "# BATCH_SIZE = 128 #gpu\n",
        "AUTO = tf.data.experimental.AUTOTUNE \n",
        "train_dataset = (\n",
        "    tf.data.Dataset\n",
        "    .from_tensor_slices((Xtrain_encoded, ytrain_encoded))\n",
        "    .repeat()\n",
        "    .shuffle(2048)\n",
        "    .batch(BATCH_SIZE)\n",
        "    .prefetch(AUTO)\n",
        ")\n",
        "test_dataset = (\n",
        "    tf.data.Dataset\n",
        "    .from_tensor_slices(Xtest_encoded)\n",
        "    .batch(BATCH_SIZE)\n",
        ")"
      ],
      "execution_count": 22,
      "outputs": []
    },
    {
      "cell_type": "code",
      "metadata": {
        "trusted": true,
        "id": "hhex1kvMWCeh",
        "colab": {
          "base_uri": "https://localhost:8080/"
        },
        "outputId": "a1bcb046-2d18-454d-9be2-6cdc3257c4f2"
      },
      "source": [
        "#training for 10 epochs\n",
        "import datetime\n",
        "n_steps = Xtrain_encoded.shape[0] // BATCH_SIZE\n",
        "my_callbacks = [\n",
        "    # tf.keras.callbacks.EarlyStopping(patience=2),\n",
        "    # tf.keras.callbacks.ModelCheckpoint(\"gs://zalobert/news_classify/training/model-{epoch:04d}.ckpt\",\n",
        "    #                                    save_weights_only=True,\n",
        "    #                                    save_freq=1),\n",
        "    # tf.keras.callbacks.TensorBoard(log_dir='gs://zalobert/news_classify/logs'),\n",
        "]\n",
        "train_history = model.fit(\n",
        "    train_dataset,\n",
        "    steps_per_epoch=n_steps,\n",
        "    epochs=10,\n",
        "    # callbacks=my_callbacks,\n",
        ")"
      ],
      "execution_count": null,
      "outputs": [
        {
          "output_type": "stream",
          "name": "stdout",
          "text": [
            "Epoch 1/10\n"
          ]
        },
        {
          "output_type": "stream",
          "name": "stderr",
          "text": [
            "INFO:absl:TPU has inputs with dynamic shapes: [<tf.Tensor 'Const:0' shape=() dtype=int32>, <tf.Tensor 'IteratorGetNext:0' shape=(None, 512) dtype=int64>, <tf.Tensor 'IteratorGetNext:1' shape=(None, 27) dtype=int32>]\n",
            "/usr/local/lib/python3.7/dist-packages/tensorflow/python/util/dispatch.py:1096: UserWarning: \"`categorical_crossentropy` received `from_logits=True`, but the `output` argument was produced by a sigmoid or softmax activation and thus does not represent logits. Was this intended?\"\n",
            "  return dispatch_target(*args, **kwargs)\n"
          ]
        },
        {
          "output_type": "stream",
          "name": "stdout",
          "text": [
            "WARNING:tensorflow:Gradients do not exist for variables ['tf_roberta_model/roberta/pooler/dense/kernel:0', 'tf_roberta_model/roberta/pooler/dense/bias:0'] when minimizing the loss. If you're using `model.compile()`, did you forget to provide a `loss`argument?\n"
          ]
        },
        {
          "output_type": "stream",
          "name": "stderr",
          "text": [
            "WARNING:tensorflow:Gradients do not exist for variables ['tf_roberta_model/roberta/pooler/dense/kernel:0', 'tf_roberta_model/roberta/pooler/dense/bias:0'] when minimizing the loss. If you're using `model.compile()`, did you forget to provide a `loss`argument?\n"
          ]
        },
        {
          "output_type": "stream",
          "name": "stdout",
          "text": [
            "WARNING:tensorflow:From /usr/local/lib/python3.7/dist-packages/keras/engine/training.py:2970: StrategyBase.unwrap (from tensorflow.python.distribute.distribute_lib) is deprecated and will be removed in a future version.\n",
            "Instructions for updating:\n",
            "use `experimental_local_results` instead.\n"
          ]
        },
        {
          "output_type": "stream",
          "name": "stderr",
          "text": [
            "WARNING:tensorflow:From /usr/local/lib/python3.7/dist-packages/keras/engine/training.py:2970: StrategyBase.unwrap (from tensorflow.python.distribute.distribute_lib) is deprecated and will be removed in a future version.\n",
            "Instructions for updating:\n",
            "use `experimental_local_results` instead.\n",
            "INFO:absl:TPU has inputs with dynamic shapes: [<tf.Tensor 'Const:0' shape=() dtype=int32>, <tf.Tensor 'IteratorGetNext:0' shape=(None, 512) dtype=int64>, <tf.Tensor 'IteratorGetNext:1' shape=(None, 27) dtype=int32>]\n"
          ]
        },
        {
          "output_type": "stream",
          "name": "stdout",
          "text": [
            "WARNING:tensorflow:Gradients do not exist for variables ['tf_roberta_model/roberta/pooler/dense/kernel:0', 'tf_roberta_model/roberta/pooler/dense/bias:0'] when minimizing the loss. If you're using `model.compile()`, did you forget to provide a `loss`argument?\n"
          ]
        },
        {
          "output_type": "stream",
          "name": "stderr",
          "text": [
            "WARNING:tensorflow:Gradients do not exist for variables ['tf_roberta_model/roberta/pooler/dense/kernel:0', 'tf_roberta_model/roberta/pooler/dense/bias:0'] when minimizing the loss. If you're using `model.compile()`, did you forget to provide a `loss`argument?\n"
          ]
        },
        {
          "output_type": "stream",
          "name": "stdout",
          "text": [
            "112/112 [==============================] - 148s 467ms/step - loss: 2.2002 - accuracy: 0.4224\n",
            "Epoch 2/10\n",
            "112/112 [==============================] - 52s 466ms/step - loss: 0.5719 - accuracy: 0.8797\n",
            "Epoch 3/10\n",
            "112/112 [==============================] - 52s 466ms/step - loss: 0.3380 - accuracy: 0.9247\n",
            "Epoch 4/10\n",
            "112/112 [==============================] - 52s 466ms/step - loss: 0.2391 - accuracy: 0.9484\n",
            "Epoch 5/10\n",
            "112/112 [==============================] - 52s 466ms/step - loss: 0.1703 - accuracy: 0.9656\n",
            "Epoch 6/10\n",
            "112/112 [==============================] - 52s 467ms/step - loss: 0.1358 - accuracy: 0.9749\n",
            "Epoch 7/10\n",
            "112/112 [==============================] - 53s 469ms/step - loss: 0.1061 - accuracy: 0.9810\n",
            "Epoch 8/10\n",
            "112/112 [==============================] - 52s 468ms/step - loss: 0.0866 - accuracy: 0.9842\n",
            "Epoch 9/10\n",
            "112/112 [==============================] - 52s 467ms/step - loss: 0.0762 - accuracy: 0.9867\n",
            "Epoch 10/10\n",
            "112/112 [==============================] - 52s 466ms/step - loss: 0.0869 - accuracy: 0.9822\n"
          ]
        }
      ]
    },
    {
      "cell_type": "code",
      "source": [
        "del model"
      ],
      "metadata": {
        "id": "u3GaN4ieOMwb"
      },
      "execution_count": null,
      "outputs": []
    },
    {
      "cell_type": "code",
      "metadata": {
        "id": "vJTtsTtykWL2"
      },
      "source": [
        "tensorboard --logdir=gs://zalobert/news_classify/logs"
      ],
      "execution_count": null,
      "outputs": []
    },
    {
      "cell_type": "code",
      "metadata": {
        "id": "OOtjU0LVUELM"
      },
      "source": [
        "from tensorflow.python.lib.io import file_io"
      ],
      "execution_count": null,
      "outputs": []
    },
    {
      "cell_type": "code",
      "metadata": {
        "id": "jHaFXqAVOV9r"
      },
      "source": [
        "# tf.keras.models.save_model(model=model, filepath='gs://zalobert/news_classify/model.h5', overwrite=True, include_optimizer=True)\n",
        "\n",
        "# model = tf.keras.models.load_model('gs://zalobert/news_classify/model')\n",
        "# f = file_io.FileIO(name='gs://zalobert/news_classify/model.h5', mode='wb')\n",
        "model.save_weights('model.hdf5')"
      ],
      "execution_count": null,
      "outputs": []
    },
    {
      "cell_type": "code",
      "source": [
        "!cp model.hdf5 /content/drive/Shareddrives/Anime_Olshiro/AI_checkpoint/BertClassifier/train4/"
      ],
      "metadata": {
        "id": "fff-6uFEQSc4"
      },
      "execution_count": null,
      "outputs": []
    },
    {
      "cell_type": "code",
      "source": [
        "!gsutil cp model.hdf5 gs://zalobert/data_npy"
      ],
      "metadata": {
        "colab": {
          "base_uri": "https://localhost:8080/"
        },
        "id": "QqM5y66Jewkl",
        "outputId": "0436e847-2577-4444-a944-2cffa5954089"
      },
      "execution_count": null,
      "outputs": [
        {
          "output_type": "stream",
          "name": "stdout",
          "text": [
            "Copying file://model.hdf5 [Content-Type=application/octet-stream]...\n",
            "/ [0 files][    0.0 B/515.3 MiB]                                                \r==> NOTE: You are uploading one or more large file(s), which would run\n",
            "significantly faster if you enable parallel composite uploads. This\n",
            "feature can be enabled by editing the\n",
            "\"parallel_composite_upload_threshold\" value in your .boto\n",
            "configuration file. However, note that if you do this large files will\n",
            "be uploaded as `composite objects\n",
            "<https://cloud.google.com/storage/docs/composite-objects>`_,which\n",
            "means that any user who downloads such objects will need to have a\n",
            "compiled crcmod installed (see \"gsutil help crcmod\"). This is because\n",
            "without a compiled crcmod, computing checksums on composite objects is\n",
            "so slow that gsutil disables downloads of composite objects.\n",
            "\n",
            "| [1 files][515.3 MiB/515.3 MiB]                                                \n",
            "Operation completed over 1 objects/515.3 MiB.                                    \n"
          ]
        }
      ]
    },
    {
      "cell_type": "code",
      "metadata": {
        "id": "sWZu-6EmkLQF"
      },
      "source": [
        "# load model\n",
        "model.load_weights('/content/drive/Shareddrives/Anime_Olshiro/AI_checkpoint/BertClassifier/train4/model.hdf5')"
      ],
      "execution_count": 23,
      "outputs": []
    },
    {
      "cell_type": "markdown",
      "metadata": {
        "id": "LWq1J8eZWCeh"
      },
      "source": [
        "# Evaluation"
      ]
    },
    {
      "cell_type": "code",
      "metadata": {
        "trusted": true,
        "id": "iKql22DZWCeh",
        "colab": {
          "base_uri": "https://localhost:8080/"
        },
        "outputId": "2c04d4ac-bdca-4b7b-b8b0-c6114bd7c49a"
      },
      "source": [
        "#making predictions\n",
        "preds = model.predict(test_dataset,verbose = 1)\n",
        "#converting the one hot vector output to a linear numpy array.\n",
        "pred_classes = np.argmax(preds, axis = 1)"
      ],
      "execution_count": 24,
      "outputs": [
        {
          "output_type": "stream",
          "name": "stderr",
          "text": [
            "INFO:absl:TPU has inputs with dynamic shapes: [<tf.Tensor 'Const:0' shape=() dtype=int32>, <tf.Tensor 'cond/Identity:0' shape=(None, 512) dtype=int64>]\n"
          ]
        },
        {
          "output_type": "stream",
          "name": "stdout",
          "text": [
            "WARNING:tensorflow:From /usr/local/lib/python3.7/dist-packages/keras/engine/training.py:2975: StrategyBase.unwrap (from tensorflow.python.distribute.distribute_lib) is deprecated and will be removed in a future version.\n",
            "Instructions for updating:\n",
            "use `experimental_local_results` instead.\n"
          ]
        },
        {
          "output_type": "stream",
          "name": "stderr",
          "text": [
            "WARNING:tensorflow:From /usr/local/lib/python3.7/dist-packages/keras/engine/training.py:2975: StrategyBase.unwrap (from tensorflow.python.distribute.distribute_lib) is deprecated and will be removed in a future version.\n",
            "Instructions for updating:\n",
            "use `experimental_local_results` instead.\n"
          ]
        },
        {
          "output_type": "stream",
          "name": "stdout",
          "text": [
            "95/95 [==============================] - 33s 299ms/step\n"
          ]
        }
      ]
    },
    {
      "cell_type": "code",
      "metadata": {
        "colab": {
          "base_uri": "https://localhost:8080/"
        },
        "id": "pSataePITS2f",
        "outputId": "64391e2a-0b06-4fac-b19a-946727e93a6d"
      },
      "source": [
        "test_dataset"
      ],
      "execution_count": null,
      "outputs": [
        {
          "output_type": "execute_result",
          "data": {
            "text/plain": [
              "<BatchDataset shapes: (None, 120), types: tf.int64>"
            ]
          },
          "metadata": {},
          "execution_count": 47
        }
      ]
    },
    {
      "cell_type": "code",
      "source": [
        "preds[0][pred_classes[0]]"
      ],
      "metadata": {
        "colab": {
          "base_uri": "https://localhost:8080/"
        },
        "id": "yKDg35rnPG4j",
        "outputId": "d91f6f02-ebeb-4d60-9630-ee8dd1a2670e"
      },
      "execution_count": 30,
      "outputs": [
        {
          "output_type": "execute_result",
          "data": {
            "text/plain": [
              "0.9937367"
            ]
          },
          "metadata": {},
          "execution_count": 30
        }
      ]
    },
    {
      "cell_type": "code",
      "metadata": {
        "trusted": true,
        "id": "Qtnvzfs1WCeh"
      },
      "source": [
        "#extracting the classes from the label encoder\n",
        "encoded_classes = encoder.classes_\n",
        "#mapping the encoded output to actual categories\n",
        "predicted_category = [encoded_classes[x] for x in pred_classes]\n",
        "true_category = [encoded_classes[x] for x in y_test]\n",
        "# true_category = [encoded_classes[x] for x in ytest_encoded]"
      ],
      "execution_count": 41,
      "outputs": []
    },
    {
      "cell_type": "code",
      "source": [
        "predicted_category.index('Bat_dong_san')"
      ],
      "metadata": {
        "colab": {
          "base_uri": "https://localhost:8080/"
        },
        "id": "Nq31fVc87Z3o",
        "outputId": "5ffd005e-e524-4ecf-d448-8c6f79d48b57"
      },
      "execution_count": null,
      "outputs": [
        {
          "output_type": "execute_result",
          "data": {
            "text/plain": [
              "1213"
            ]
          },
          "metadata": {},
          "execution_count": 37
        }
      ]
    },
    {
      "cell_type": "code",
      "metadata": {
        "trusted": true,
        "id": "0JDD_wh5WCeh",
        "colab": {
          "base_uri": "https://localhost:8080/",
          "height": 206
        },
        "outputId": "59886af0-13c6-46b8-d057-dfe5a234c11d"
      },
      "source": [
        "result_df = pd.DataFrame({'combine':X_test,'true_category':true_category, 'predicted_category':predicted_category})\n",
        "result_df.head()"
      ],
      "execution_count": 42,
      "outputs": [
        {
          "output_type": "execute_result",
          "data": {
            "text/html": [
              "\n",
              "  <div id=\"df-d6dbdd3f-520f-4704-98a2-c022e2bb65cd\">\n",
              "    <div class=\"colab-df-container\">\n",
              "      <div>\n",
              "<style scoped>\n",
              "    .dataframe tbody tr th:only-of-type {\n",
              "        vertical-align: middle;\n",
              "    }\n",
              "\n",
              "    .dataframe tbody tr th {\n",
              "        vertical-align: top;\n",
              "    }\n",
              "\n",
              "    .dataframe thead th {\n",
              "        text-align: right;\n",
              "    }\n",
              "</style>\n",
              "<table border=\"1\" class=\"dataframe\">\n",
              "  <thead>\n",
              "    <tr style=\"text-align: right;\">\n",
              "      <th></th>\n",
              "      <th>combine</th>\n",
              "      <th>true_category</th>\n",
              "      <th>predicted_category</th>\n",
              "    </tr>\n",
              "  </thead>\n",
              "  <tbody>\n",
              "    <tr>\n",
              "      <th>0</th>\n",
              "      <td>cách diện của phương anh cuộc thi sao mai điểm...</td>\n",
              "      <td>Am_nhac</td>\n",
              "      <td>Thoi_trang</td>\n",
              "    </tr>\n",
              "    <tr>\n",
              "      <th>1</th>\n",
              "      <td>hội đồng anh vừa trao tặng selector chương trì...</td>\n",
              "      <td>Am_nhac</td>\n",
              "      <td>Am_nhac</td>\n",
              "    </tr>\n",
              "    <tr>\n",
              "      <th>2</th>\n",
              "      <td>chương trình chợ phiên đắk nông do thành đoàn ...</td>\n",
              "      <td>Am_nhac</td>\n",
              "      <td>Am_nhac</td>\n",
              "    </tr>\n",
              "    <tr>\n",
              "      <th>3</th>\n",
              "      <td>làm mới âm nhạc có đủ thứ cách đặt lời cho nhạ...</td>\n",
              "      <td>Am_nhac</td>\n",
              "      <td>Am_nhac</td>\n",
              "    </tr>\n",
              "    <tr>\n",
              "      <th>4</th>\n",
              "      <td>top ten trong nhạc phẩm được ưu chuộng nhất th...</td>\n",
              "      <td>Am_nhac</td>\n",
              "      <td>Am_nhac</td>\n",
              "    </tr>\n",
              "  </tbody>\n",
              "</table>\n",
              "</div>\n",
              "      <button class=\"colab-df-convert\" onclick=\"convertToInteractive('df-d6dbdd3f-520f-4704-98a2-c022e2bb65cd')\"\n",
              "              title=\"Convert this dataframe to an interactive table.\"\n",
              "              style=\"display:none;\">\n",
              "        \n",
              "  <svg xmlns=\"http://www.w3.org/2000/svg\" height=\"24px\"viewBox=\"0 0 24 24\"\n",
              "       width=\"24px\">\n",
              "    <path d=\"M0 0h24v24H0V0z\" fill=\"none\"/>\n",
              "    <path d=\"M18.56 5.44l.94 2.06.94-2.06 2.06-.94-2.06-.94-.94-2.06-.94 2.06-2.06.94zm-11 1L8.5 8.5l.94-2.06 2.06-.94-2.06-.94L8.5 2.5l-.94 2.06-2.06.94zm10 10l.94 2.06.94-2.06 2.06-.94-2.06-.94-.94-2.06-.94 2.06-2.06.94z\"/><path d=\"M17.41 7.96l-1.37-1.37c-.4-.4-.92-.59-1.43-.59-.52 0-1.04.2-1.43.59L10.3 9.45l-7.72 7.72c-.78.78-.78 2.05 0 2.83L4 21.41c.39.39.9.59 1.41.59.51 0 1.02-.2 1.41-.59l7.78-7.78 2.81-2.81c.8-.78.8-2.07 0-2.86zM5.41 20L4 18.59l7.72-7.72 1.47 1.35L5.41 20z\"/>\n",
              "  </svg>\n",
              "      </button>\n",
              "      \n",
              "  <style>\n",
              "    .colab-df-container {\n",
              "      display:flex;\n",
              "      flex-wrap:wrap;\n",
              "      gap: 12px;\n",
              "    }\n",
              "\n",
              "    .colab-df-convert {\n",
              "      background-color: #E8F0FE;\n",
              "      border: none;\n",
              "      border-radius: 50%;\n",
              "      cursor: pointer;\n",
              "      display: none;\n",
              "      fill: #1967D2;\n",
              "      height: 32px;\n",
              "      padding: 0 0 0 0;\n",
              "      width: 32px;\n",
              "    }\n",
              "\n",
              "    .colab-df-convert:hover {\n",
              "      background-color: #E2EBFA;\n",
              "      box-shadow: 0px 1px 2px rgba(60, 64, 67, 0.3), 0px 1px 3px 1px rgba(60, 64, 67, 0.15);\n",
              "      fill: #174EA6;\n",
              "    }\n",
              "\n",
              "    [theme=dark] .colab-df-convert {\n",
              "      background-color: #3B4455;\n",
              "      fill: #D2E3FC;\n",
              "    }\n",
              "\n",
              "    [theme=dark] .colab-df-convert:hover {\n",
              "      background-color: #434B5C;\n",
              "      box-shadow: 0px 1px 3px 1px rgba(0, 0, 0, 0.15);\n",
              "      filter: drop-shadow(0px 1px 2px rgba(0, 0, 0, 0.3));\n",
              "      fill: #FFFFFF;\n",
              "    }\n",
              "  </style>\n",
              "\n",
              "      <script>\n",
              "        const buttonEl =\n",
              "          document.querySelector('#df-d6dbdd3f-520f-4704-98a2-c022e2bb65cd button.colab-df-convert');\n",
              "        buttonEl.style.display =\n",
              "          google.colab.kernel.accessAllowed ? 'block' : 'none';\n",
              "\n",
              "        async function convertToInteractive(key) {\n",
              "          const element = document.querySelector('#df-d6dbdd3f-520f-4704-98a2-c022e2bb65cd');\n",
              "          const dataTable =\n",
              "            await google.colab.kernel.invokeFunction('convertToInteractive',\n",
              "                                                     [key], {});\n",
              "          if (!dataTable) return;\n",
              "\n",
              "          const docLinkHtml = 'Like what you see? Visit the ' +\n",
              "            '<a target=\"_blank\" href=https://colab.research.google.com/notebooks/data_table.ipynb>data table notebook</a>'\n",
              "            + ' to learn more about interactive tables.';\n",
              "          element.innerHTML = '';\n",
              "          dataTable['output_type'] = 'display_data';\n",
              "          await google.colab.output.renderOutput(dataTable, element);\n",
              "          const docLink = document.createElement('div');\n",
              "          docLink.innerHTML = docLinkHtml;\n",
              "          element.appendChild(docLink);\n",
              "        }\n",
              "      </script>\n",
              "    </div>\n",
              "  </div>\n",
              "  "
            ],
            "text/plain": [
              "                                             combine  ... predicted_category\n",
              "0  cách diện của phương anh cuộc thi sao mai điểm...  ...         Thoi_trang\n",
              "1  hội đồng anh vừa trao tặng selector chương trì...  ...            Am_nhac\n",
              "2  chương trình chợ phiên đắk nông do thành đoàn ...  ...            Am_nhac\n",
              "3  làm mới âm nhạc có đủ thứ cách đặt lời cho nhạ...  ...            Am_nhac\n",
              "4  top ten trong nhạc phẩm được ưu chuộng nhất th...  ...            Am_nhac\n",
              "\n",
              "[5 rows x 3 columns]"
            ]
          },
          "metadata": {},
          "execution_count": 42
        }
      ]
    },
    {
      "cell_type": "code",
      "metadata": {
        "trusted": true,
        "id": "DhJRH8GSWCei",
        "colab": {
          "base_uri": "https://localhost:8080/"
        },
        "outputId": "9534429b-2359-4e53-f2d8-354c2a260a42"
      },
      "source": [
        "print(f\"Accuracy is {sklearn.metrics.accuracy_score(result_df['true_category'], result_df['predicted_category'])}\")"
      ],
      "execution_count": 43,
      "outputs": [
        {
          "output_type": "stream",
          "name": "stdout",
          "text": [
            "Accuracy is 0.8923484597548857\n"
          ]
        }
      ]
    },
    {
      "cell_type": "code",
      "source": [
        "from google.colab import drive\n",
        "drive._mount('/content/drive')"
      ],
      "metadata": {
        "colab": {
          "base_uri": "https://localhost:8080/"
        },
        "id": "VGx0AtE9b_f5",
        "outputId": "3bc7789e-ac50-48e2-b00d-198dea6d87d7"
      },
      "execution_count": null,
      "outputs": [
        {
          "output_type": "stream",
          "name": "stdout",
          "text": [
            "Drive already mounted at /content/drive; to attempt to forcibly remount, call drive.mount(\"/content/drive\", force_remount=True).\n"
          ]
        }
      ]
    },
    {
      "cell_type": "code",
      "metadata": {
        "id": "J9zN_ztyjkTd"
      },
      "source": [
        "!mkdir /content/drive/Shareddrives/Anime_Olshiro/AI_checkpoint/BertClassifier/train4"
      ],
      "execution_count": null,
      "outputs": []
    },
    {
      "cell_type": "code",
      "metadata": {
        "trusted": true,
        "id": "hhWFnmaUWCei"
      },
      "source": [
        "result_df.to_csv('/content/drive/Shareddrives/Anime_Olshiro/AI_checkpoint/BertClassifier/train2/testPredictions.csv', index = False)"
      ],
      "execution_count": null,
      "outputs": []
    },
    {
      "cell_type": "code",
      "metadata": {
        "colab": {
          "base_uri": "https://localhost:8080/"
        },
        "id": "cwscORfOkHpQ",
        "outputId": "49741522-f529-4ff8-8fc0-a67431f5061e"
      },
      "source": [
        "!rm /content/drive/Shareddrives/Anime_Olshiro/AIdata/news-corpus/cuted_v2/test*"
      ],
      "execution_count": null,
      "outputs": [
        {
          "output_type": "stream",
          "name": "stdout",
          "text": [
            "rm: cannot remove '/content/drive/Shareddrives/Anime_Olshiro/AIdata/news-corpus/cuted_v2/test_set': Is a directory\n"
          ]
        }
      ]
    },
    {
      "cell_type": "markdown",
      "metadata": {
        "id": "ugwL3uY0WCei"
      },
      "source": [
        "## Confusion Matrix"
      ]
    },
    {
      "cell_type": "code",
      "metadata": {
        "trusted": true,
        "id": "1K7l_11-WCei",
        "colab": {
          "base_uri": "https://localhost:8080/",
          "height": 423
        },
        "outputId": "46b9c92f-8d52-4d5b-ceb0-3521ef41c760"
      },
      "source": [
        "result_df[result_df['true_category']!=result_df['predicted_category']]"
      ],
      "execution_count": null,
      "outputs": [
        {
          "output_type": "execute_result",
          "data": {
            "text/html": [
              "<div>\n",
              "<style scoped>\n",
              "    .dataframe tbody tr th:only-of-type {\n",
              "        vertical-align: middle;\n",
              "    }\n",
              "\n",
              "    .dataframe tbody tr th {\n",
              "        vertical-align: top;\n",
              "    }\n",
              "\n",
              "    .dataframe thead th {\n",
              "        text-align: right;\n",
              "    }\n",
              "</style>\n",
              "<table border=\"1\" class=\"dataframe\">\n",
              "  <thead>\n",
              "    <tr style=\"text-align: right;\">\n",
              "      <th></th>\n",
              "      <th>combine</th>\n",
              "      <th>true_category</th>\n",
              "      <th>predicted_category</th>\n",
              "    </tr>\n",
              "  </thead>\n",
              "  <tbody>\n",
              "    <tr>\n",
              "      <th>31</th>\n",
              "      <td>với giải quả cầu vàng đề cử của nghiệp đoàn cá...</td>\n",
              "      <td>Am nhac</td>\n",
              "      <td>San khau dien anh</td>\n",
              "    </tr>\n",
              "    <tr>\n",
              "      <th>48</th>\n",
              "      <td>việt tú chớp cơ hội để sáng tạo mê phim hành đ...</td>\n",
              "      <td>Am nhac</td>\n",
              "      <td>San khau dien anh</td>\n",
              "    </tr>\n",
              "    <tr>\n",
              "      <th>49</th>\n",
              "      <td>star wars dẫn đầu danh sách nhạc phim hay nhất...</td>\n",
              "      <td>Am nhac</td>\n",
              "      <td>San khau dien anh</td>\n",
              "    </tr>\n",
              "    <tr>\n",
              "      <th>89</th>\n",
              "      <td>hồ ngọc hà đôi khi tôi hơi coi thường đàn ông ...</td>\n",
              "      <td>Am nhac</td>\n",
              "      <td>Thoi trang</td>\n",
              "    </tr>\n",
              "    <tr>\n",
              "      <th>100</th>\n",
              "      <td>làm album nhạc mốt mới để chia tay tuổi học tr...</td>\n",
              "      <td>Am nhac</td>\n",
              "      <td>The gioi tre</td>\n",
              "    </tr>\n",
              "    <tr>\n",
              "      <th>...</th>\n",
              "      <td>...</td>\n",
              "      <td>...</td>\n",
              "      <td>...</td>\n",
              "    </tr>\n",
              "    <tr>\n",
              "      <th>12002</th>\n",
              "      <td>xuân lan tôi từng yêu hoàng thanh tình yêu của...</td>\n",
              "      <td>Thoi trang</td>\n",
              "      <td>San khau dien anh</td>\n",
              "    </tr>\n",
              "    <tr>\n",
              "      <th>12011</th>\n",
              "      <td>nguyễn phi hùng thời trang phải tạo được sức h...</td>\n",
              "      <td>Thoi trang</td>\n",
              "      <td>Am nhac</td>\n",
              "    </tr>\n",
              "    <tr>\n",
              "      <th>12041</th>\n",
              "      <td>thái lan xin đăng cai cuộc thi hoa hậu hoàn vũ...</td>\n",
              "      <td>Thoi trang</td>\n",
              "      <td>Cuoc song do day</td>\n",
              "    </tr>\n",
              "    <tr>\n",
              "      <th>12043</th>\n",
              "      <td>hồ quỳnh hương và cách phục trang độc đáo giọn...</td>\n",
              "      <td>Thoi trang</td>\n",
              "      <td>Am nhac</td>\n",
              "    </tr>\n",
              "    <tr>\n",
              "      <th>12047</th>\n",
              "      <td>thân thuý hà tôi bắt đầu mê điện ảnh không chỉ...</td>\n",
              "      <td>Thoi trang</td>\n",
              "      <td>San khau dien anh</td>\n",
              "    </tr>\n",
              "  </tbody>\n",
              "</table>\n",
              "<p>1440 rows × 3 columns</p>\n",
              "</div>"
            ],
            "text/plain": [
              "                                                 combine  ... predicted_category\n",
              "31     với giải quả cầu vàng đề cử của nghiệp đoàn cá...  ...  San khau dien anh\n",
              "48     việt tú chớp cơ hội để sáng tạo mê phim hành đ...  ...  San khau dien anh\n",
              "49     star wars dẫn đầu danh sách nhạc phim hay nhất...  ...  San khau dien anh\n",
              "89     hồ ngọc hà đôi khi tôi hơi coi thường đàn ông ...  ...         Thoi trang\n",
              "100    làm album nhạc mốt mới để chia tay tuổi học tr...  ...       The gioi tre\n",
              "...                                                  ...  ...                ...\n",
              "12002  xuân lan tôi từng yêu hoàng thanh tình yêu của...  ...  San khau dien anh\n",
              "12011  nguyễn phi hùng thời trang phải tạo được sức h...  ...            Am nhac\n",
              "12041  thái lan xin đăng cai cuộc thi hoa hậu hoàn vũ...  ...   Cuoc song do day\n",
              "12043  hồ quỳnh hương và cách phục trang độc đáo giọn...  ...            Am nhac\n",
              "12047  thân thuý hà tôi bắt đầu mê điện ảnh không chỉ...  ...  San khau dien anh\n",
              "\n",
              "[1440 rows x 3 columns]"
            ]
          },
          "metadata": {},
          "execution_count": 153
        }
      ]
    },
    {
      "cell_type": "code",
      "metadata": {
        "colab": {
          "base_uri": "https://localhost:8080/",
          "height": 140
        },
        "id": "G4wRNEKSRvS5",
        "outputId": "75568f9c-e4a2-4972-f17d-2a97c309eea6"
      },
      "source": [
        "result_df.loc[31]['combine']"
      ],
      "execution_count": null,
      "outputs": [
        {
          "output_type": "execute_result",
          "data": {
            "application/vnd.google.colaboratory.intrinsic+json": {
              "type": "string"
            },
            "text/plain": [
              "'với giải quả cầu vàng đề cử của nghiệp đoàn các diễn viên điện ảnh screen actors guild và đề cử oscar brokeback mountain là bộ phim rình rang và được chú ý nhất khơi dậy đề tài nhạy cảm về đồng tính mặc dù cuối cùng núi bị vỡ brokeback mountain thất bại trước crash nhưng nhạc phim núi vẫn vớt được giải nhạc nền phim hay nhất phần nhạc của phim được soạn bởi nhạc sĩ gốc argentina gustavo santaolalla đậm chất nhạc đồng quê nhưng phần chính của đĩa nhạc đan xen giữa những bản nhạc không lời là những bài hát được trình bày bởi các giọng hát đậm dấu ấn riêng mở đầu đĩa là bài hòa tấu opening man mác buồn cô độc kế tiếp là willie nelson hát lại một sáng tác của bob dylan bài he was a friend of mine mới đây willie nelson vừa tung ra một ghi âm về cowboy đồng tính bài cowboys are frequently secretly fond of each others rất hợp thời điểm gustavo santaolalla là một nhà sản xuất quen thuộc của làng nhạc rock tiếng tây ban nha sản xuất album cho các nhóm mexico như molotov café tacuba và ca sĩ nổi danh người columbia juanes người có tổng cộng giải grammy latin cuối những năm gustavo chuyển sang thực hiện nhạc phim nổi bật là amores perros grams và the motorcycle diaries phần nhạc phim cho the motorcycle diaries đã giành được giải nhạc phim hay nhất của bafta lần thứ còn bài al otro lado del rio do jorge drexler hát trong phim giành được giải oscar năm cho ca khúc trong phim hay nhất rufus wainwright các sáng tác của gustavo trong đĩa nhạc phim này như những đoạn gian tấu giữa những bài hát nhưng thật sự nghe rất ấn tượng cả bài hòa tấu tên brokeback mountain đều lãng đãng man mác với những tiếng guitar buông thõng trên nền đàn dây snow và riding horse nhịp nhàng hơn còn an angel went up in flames rộn rã nhất bên cạnh các bản nhạc hòa tấu gustavo còn sáng tác vài bản nhạc mới toanh nhưng nghe không khác gì các bản nhạc đồng quê kinh điển đó là bài a love that will never grow old do emmylou harris trình bày giải thưởng quả cầu vàng và no one s gonna love you like me do mary mcbride hát cả đều là những bản nhạc ballad nhẹ nhàng với tiếng đàn guitar thùng rải dây chậm rãi bernard taupin cộng sự viết lời lâu năm của elton john một nghệ sĩ đồng tính nổi danh đã cộng tác với gustavo ở bài a love that will never grow old và i don t want to say goodbye album còn có sự xuất hiện của rufus wainwright một giọng hát trầm buồn rất đặc trưng bản thân rufus wainwright công khai nhận mình một người đồng tính nhưng các sáng tác của anh không đề cập thẳng đến vấn đề nhạy cảm này mà chỉ là những cung bậc trong tình yêu từ phút ban đầu cuồng nhiệt đến những phút xao lòng một trong những ấn tượng đầu tiên mà rufus để lại cho người viết cũng là bản nhạc phim bài hallelujah trong phim shrek vốn là một sáng tác của leonard cohen hallelujah nghe được trong phim do john cale hát còn trong đĩa nhạc phim lại là version của rufus giọng hát của rufus hợp với phong cách u uất của leonard cohen hơn nên bài hallelujah được rất nhiều người cho rằng hay nhất đĩa nhạc phim shrek trong đĩa nhạc phim brokeback mountain rufus đã lắc lư cùng với teddy thompson hát lại bài hit năm của roger miller là king of the road bên cạnh đó còn có một sáng tác của chính rufus là bài the maker makes một bản nhạc trầm buồn u ám rất rufus wainwright chỉ đệm bằng piano tưng bừng hơn thì có steve earle chơi the devil s right hand và linda ronstadt cover lại it s so easy của buddy holly khép lại đĩa nhạc là bài hòa tấu the wings nhẹ nhõm và gần gũi nhạc phim núi phải cạnh tranh với những đấu thủ nặng ký như munich và memoirs of a geisha phần nhạc phim đều được soạn bởi bậc thầy john williams tính đến hết năm john có đề cử oscar và đồng thời tất bật soạn nhạc cho các phim star wars và war of the world không khí của nhạc phim munich khá tăm tối vì đề cập đến xung đột giữa palestine và israel nên các track munich và remembering munich có kiểu ngân nga của âm nhạc vùng trung đông do giọng hát lisbeth scott trình bày không cần nghe rõ lời bởi lisbeth cũng không thật sự hát những từ có nghĩa nhưng dễ dàng hiểu được trạng thái mà các track nhạc này muốn thể hiện memoirs of a geisha có sự góp mặt của các cầm thủ danh tiếng như yo yo ma chơi cello và itzhak perlman chơi violon cuối cùng chiến thắng đã thuộc về nhạc phim núi một cách xứng đáng đề tài những chàng cowboy đồng tính đang là đề tài nóng sốt nhưng chắc chắn đó không phải là điều thu hút ở đĩa nhạc phim này một đĩa nhạc phim hay'"
            ]
          },
          "metadata": {},
          "execution_count": 139
        }
      ]
    },
    {
      "cell_type": "code",
      "metadata": {
        "trusted": true,
        "id": "eO4LATkGWCei"
      },
      "source": [
        "confusion_mat = confusion_matrix(y_true = true_category, y_pred = predicted_category, labels=list(encoded_classes))"
      ],
      "execution_count": null,
      "outputs": []
    },
    {
      "cell_type": "code",
      "metadata": {
        "trusted": true,
        "id": "tpkdv9IUWCej",
        "colab": {
          "base_uri": "https://localhost:8080/",
          "height": 1000
        },
        "outputId": "f38a9f51-0231-4b2f-91f6-833b2fe50774"
      },
      "source": [
        "df_cm = pd.DataFrame(confusion_mat, index = list(encoded_classes),columns = list(encoded_classes))\n",
        "plt.rcParams['figure.figsize'] = (20,20)\n",
        "sns.heatmap(df_cm)"
      ],
      "execution_count": null,
      "outputs": [
        {
          "output_type": "execute_result",
          "data": {
            "text/plain": [
              "<matplotlib.axes._subplots.AxesSubplot at 0x7f737f277a50>"
            ]
          },
          "metadata": {},
          "execution_count": 141
        },
        {
          "output_type": "display_data",
          "data": {
            "image/png": "[encoded data removed]",
            "text/plain": [
              "<Figure size 1440x1440 with 2 Axes>"
            ]
          },
          "metadata": {
            "needs_background": "light"
          }
        }
      ]
    },
    {
      "cell_type": "code",
      "source": [
        ""
      ],
      "metadata": {
        "id": "REmq8783BSN-"
      },
      "execution_count": null,
      "outputs": []
    }
  ]
}